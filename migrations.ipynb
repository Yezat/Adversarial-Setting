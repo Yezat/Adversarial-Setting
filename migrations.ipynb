{
 "cells": [
  {
   "cell_type": "code",
   "execution_count": 1,
   "metadata": {},
   "outputs": [],
   "source": [
    "\n",
    "from experiment_information import *\n",
    "from data import *\n",
    "from _version import __version__\n",
    "import seaborn as sns\n",
    "import matplotlib.pyplot as plt\n",
    "import pandas as np\n",
    "import numpy as np\n",
    "import logging\n",
    "%load_ext autoreload\n",
    "%autoreload 2"
   ]
  },
  {
   "cell_type": "code",
   "execution_count": 9,
   "metadata": {},
   "outputs": [
    {
     "name": "stdout",
     "output_type": "stream",
     "text": [
      "Current code version,  37\n"
     ]
    }
   ],
   "source": [
    "\n",
    "from _version import __version__\n",
    "df_experiments = None\n",
    "df_state_evolution = None\n",
    "df_erm = None\n",
    "logger = logging.getLogger()\n",
    "with DatabaseHandler(logger,\"experiments/experiments.db\") as dbHandler:\n",
    "    df_experiments = dbHandler.get_experiments()\n",
    "    df_state_evolution = dbHandler.get_state_evolutions()\n",
    "    df_erm = dbHandler.get_erms()\n",
    "    # delete incomplete experiments (bad, deletes running experiments...)\n",
    "    # dbHandler.delete_incomplete_experiments()\n",
    "print(\"Current code version, \", __version__)\n"
   ]
  },
  {
   "cell_type": "code",
   "execution_count": 3,
   "metadata": {},
   "outputs": [],
   "source": [
    "\"\"\"\n",
    "Migrate to include the new columns for ps and calibrations, and analytical_calibrations and erm_calibrations respectively.\n",
    "\"\"\"\n",
    "\n",
    "\n",
    "# with DatabaseHandler(logger, \"experiments/experiments.db\") as dbHandler:\n",
    "#     # add column \"ps\" to the experiments table\n",
    "#     dbHandler.cursor.execute(\"ALTER TABLE experiments ADD COLUMN ps BLOB\")\n",
    "# # add column \"dp\" to the experiments table\n",
    "#     dbHandler.cursor.execute(\"ALTER TABLE experiments ADD COLUMN dp REAL\")\n",
    "#     # add column \"calibration\" to the state_evolutions table\n",
    "#     dbHandler.cursor.execute(\"ALTER TABLE state_evolution ADD COLUMN calibration BLOB\")\n",
    "#     # add column \"analytical_calibration\" to the erm table\n",
    "#     dbHandler.cursor.execute(\"ALTER TABLE erm ADD COLUMN analytical_calibration BLOB\")\n",
    "#     # add column \"erm_calibration\" to the erm table\n",
    "#     dbHandler.cursor.execute(\"ALTER TABLE erm ADD COLUMN erm_calibration BLOB\")\n",
    "\n"
   ]
  },
  {
   "cell_type": "code",
   "execution_count": null,
   "metadata": {},
   "outputs": [],
   "source": []
  }
 ],
 "metadata": {
  "kernelspec": {
   "display_name": "base",
   "language": "python",
   "name": "python3"
  },
  "language_info": {
   "codemirror_mode": {
    "name": "ipython",
    "version": 3
   },
   "file_extension": ".py",
   "mimetype": "text/x-python",
   "name": "python",
   "nbconvert_exporter": "python",
   "pygments_lexer": "ipython3",
   "version": "3.9.13"
  },
  "orig_nbformat": 4
 },
 "nbformat": 4,
 "nbformat_minor": 2
}

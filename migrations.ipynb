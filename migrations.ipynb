{
 "cells": [
  {
   "cell_type": "code",
   "execution_count": 1,
   "metadata": {},
   "outputs": [],
   "source": [
    "\n",
    "from experiment_information import *\n",
    "from data import *\n",
    "from _version import __version__\n",
    "import seaborn as sns\n",
    "import matplotlib.pyplot as plt\n",
    "import pandas as np\n",
    "import numpy as np\n",
    "import logging\n",
    "%load_ext autoreload\n",
    "%autoreload 2"
   ]
  },
  {
   "cell_type": "code",
   "execution_count": 2,
   "metadata": {},
   "outputs": [
    {
     "name": "stdout",
     "output_type": "stream",
     "text": [
      "Current code version,  53\n"
     ]
    }
   ],
   "source": [
    "\n",
    "from _version import __version__\n",
    "df_experiments = None\n",
    "df_state_evolution = None\n",
    "df_erm = None\n",
    "logger = logging.getLogger()\n",
    "with DatabaseHandler(logger,\"experiments/experiments.db\") as dbHandler:\n",
    "    df_experiments = dbHandler.get_experiments()\n",
    "    df_state_evolution = dbHandler.get_state_evolutions()\n",
    "    df_erm = dbHandler.get_erms()\n",
    "    # delete incomplete experiments (bad, deletes running experiments...)\n",
    "    # dbHandler.delete_incomplete_experiments()\n",
    "print(\"Current code version, \", __version__)\n"
   ]
  },
  {
   "cell_type": "code",
   "execution_count": 3,
   "metadata": {},
   "outputs": [
    {
     "ename": "OperationalError",
     "evalue": "duplicate column name: data_model_type",
     "output_type": "error",
     "traceback": [
      "\u001b[0;31m---------------------------------------------------------------------------\u001b[0m",
      "\u001b[0;31mOperationalError\u001b[0m                          Traceback (most recent call last)",
      "\u001b[1;32m/Users/kasimirtanner/Documents/LocalCode/Code_PDM/TPIV---Logistic-Classification/migrations.ipynb Zelle 3\u001b[0m line \u001b[0;36m8\n\u001b[1;32m      <a href='vscode-notebook-cell:/Users/kasimirtanner/Documents/LocalCode/Code_PDM/TPIV---Logistic-Classification/migrations.ipynb#W2sZmlsZQ%3D%3D?line=0'>1</a>\u001b[0m \u001b[39m\"\"\"\u001b[39;00m\n\u001b[1;32m      <a href='vscode-notebook-cell:/Users/kasimirtanner/Documents/LocalCode/Code_PDM/TPIV---Logistic-Classification/migrations.ipynb#W2sZmlsZQ%3D%3D?line=1'>2</a>\u001b[0m \u001b[39mMigrate to include the new columns for ps and calibrations, and analytical_calibrations and erm_calibrations respectively.\u001b[39;00m\n\u001b[1;32m      <a href='vscode-notebook-cell:/Users/kasimirtanner/Documents/LocalCode/Code_PDM/TPIV---Logistic-Classification/migrations.ipynb#W2sZmlsZQ%3D%3D?line=2'>3</a>\u001b[0m \u001b[39m\"\"\"\u001b[39;00m\n\u001b[1;32m      <a href='vscode-notebook-cell:/Users/kasimirtanner/Documents/LocalCode/Code_PDM/TPIV---Logistic-Classification/migrations.ipynb#W2sZmlsZQ%3D%3D?line=5'>6</a>\u001b[0m \u001b[39mwith\u001b[39;00m DatabaseHandler(logger, \u001b[39m\"\u001b[39m\u001b[39mexperiments/experiments.db\u001b[39m\u001b[39m\"\u001b[39m) \u001b[39mas\u001b[39;00m dbHandler:\n\u001b[1;32m      <a href='vscode-notebook-cell:/Users/kasimirtanner/Documents/LocalCode/Code_PDM/TPIV---Logistic-Classification/migrations.ipynb#W2sZmlsZQ%3D%3D?line=6'>7</a>\u001b[0m     \u001b[39m# add column \"data_model_type\" to the experiments table\u001b[39;00m\n\u001b[0;32m----> <a href='vscode-notebook-cell:/Users/kasimirtanner/Documents/LocalCode/Code_PDM/TPIV---Logistic-Classification/migrations.ipynb#W2sZmlsZQ%3D%3D?line=7'>8</a>\u001b[0m     dbHandler\u001b[39m.\u001b[39;49mcursor\u001b[39m.\u001b[39;49mexecute(\u001b[39m\"\u001b[39;49m\u001b[39mALTER TABLE experiments ADD COLUMN data_model_type TEXT\u001b[39;49m\u001b[39m\"\u001b[39;49m)\n",
      "\u001b[0;31mOperationalError\u001b[0m: duplicate column name: data_model_type"
     ]
    }
   ],
   "source": [
    "\"\"\"\n",
    "Migrate to include the new columns for ps and calibrations, and analytical_calibrations and erm_calibrations respectively.\n",
    "\"\"\"\n",
    "\n",
    "\n",
    "# with DatabaseHandler(logger, \"experiments/experiments.db\") as dbHandler:\n",
    "#     # add column \"data_model_type\" to the experiments table\n",
    "#     dbHandler.cursor.execute(\"ALTER TABLE experiments ADD COLUMN data_model_type TEXT\")\n",
    "#     # add column \"ps\" to the experiments table\n",
    "#     dbHandler.cursor.execute(\"ALTER TABLE experiments ADD COLUMN ps BLOB\")\n",
    "# # add column \"dp\" to the experiments table\n",
    "#     dbHandler.cursor.execute(\"ALTER TABLE experiments ADD COLUMN dp REAL\")\n",
    "#     # add column \"calibration\" to the state_evolutions table\n",
    "#     dbHandler.cursor.execute(\"ALTER TABLE state_evolution ADD COLUMN calibration BLOB\")\n",
    "#     # add column \"analytical_calibration\" to the erm table\n",
    "#     dbHandler.cursor.execute(\"ALTER TABLE erm ADD COLUMN analytical_calibration BLOB\")\n",
    "#     # add column \"erm_calibration\" to the erm table\n",
    "#     dbHandler.cursor.execute(\"ALTER TABLE erm ADD COLUMN erm_calibration BLOB\")\n",
    "\n"
   ]
  },
  {
   "cell_type": "code",
   "execution_count": 3,
   "metadata": {},
   "outputs": [],
   "source": [
    "\"\"\"\n",
    "Migrate to include the new columns for sigma_hat, q_hat, and m_hat. in the state_evolution table.\n",
    "\"\"\"\n",
    "# with DatabaseHandler(logger, \"experiments/experiments.db\") as dbHandler:\n",
    "#     # add column \"sigma_hat\" to the state_evolutions table\n",
    "#     dbHandler.cursor.execute(\"ALTER TABLE state_evolution ADD COLUMN sigma_hat BLOB\")\n",
    "#     # add column \"q_hat\" to the state_evolutions table\n",
    "#     dbHandler.cursor.execute(\"ALTER TABLE state_evolution ADD COLUMN q_hat BLOB\")\n",
    "#     # add column \"m_hat\" to the state_evolutions table\n",
    "#     dbHandler.cursor.execute(\"ALTER TABLE state_evolution ADD COLUMN m_hat BLOB\")"
   ]
  },
  {
   "cell_type": "code",
   "execution_count": null,
   "metadata": {},
   "outputs": [],
   "source": [
    "\"\"\"\n",
    "Migrate to include new columns for adversarial_generalization_error in the state_evolution table\n",
    "and adversarial_generalization_error_erm,\n",
    "            experiment_information.adversarial_generalization_error_overlap, in the erm table\n",
    "\"\"\"\n",
    "# with DatabaseHandler(logger, \"experiments/experiments.db\") as dbHandler:\n",
    "#     # add column \"adversarial_generalization_error\" to the state_evolutions table\n",
    "#     dbHandler.cursor.execute(\"ALTER TABLE state_evolution ADD COLUMN adversarial_generalization_error REAL\")\n",
    "#     # add column \"adversarial_generalization_error_erm\" to the erm table\n",
    "#     dbHandler.cursor.execute(\"ALTER TABLE erm ADD COLUMN adversarial_generalization_error_erm REAL\")\n",
    "#     # add column \"adversarial_generalization_error_overlap\" to the erm table\n",
    "#     dbHandler.cursor.execute(\"ALTER TABLE erm ADD COLUMN adversarial_generalization_error_overlap REAL\")"
   ]
  }
 ],
 "metadata": {
  "kernelspec": {
   "display_name": "base",
   "language": "python",
   "name": "python3"
  },
  "language_info": {
   "codemirror_mode": {
    "name": "ipython",
    "version": 3
   },
   "file_extension": ".py",
   "mimetype": "text/x-python",
   "name": "python",
   "nbconvert_exporter": "python",
   "pygments_lexer": "ipython3",
   "version": "3.9.13"
  },
  "orig_nbformat": 4
 },
 "nbformat": 4,
 "nbformat_minor": 2
}

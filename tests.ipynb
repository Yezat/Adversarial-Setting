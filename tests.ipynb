{
 "cells": [
  {
   "cell_type": "code",
   "execution_count": 47,
   "metadata": {},
   "outputs": [
    {
     "name": "stdout",
     "output_type": "stream",
     "text": [
      "The autoreload extension is already loaded. To reload it, use:\n",
      "  %reload_ext autoreload\n"
     ]
    }
   ],
   "source": [
    "import numpy as np\n",
    "from scipy.special import owens_t\n",
    "import matplotlib.pyplot as plt\n",
    "# get a logger\n",
    "import logging\n",
    "logger = logging.getLogger(__name__)\n",
    "from ERM import fair_adversarial_error_erm\n",
    "from state_evolution import OverlapSet, fair_adversarial_error_overlaps\n",
    "%load_ext autoreload\n",
    "%autoreload 2\n",
    "from scipy.integrate import quad, dblquad"
   ]
  },
  {
   "cell_type": "code",
   "execution_count": 48,
   "metadata": {},
   "outputs": [],
   "source": [
    "from data_model import KFeaturesModel\n",
    "d = 1000\n",
    "idx_0 = 0\n",
    "idx_2 = 700\n",
    "tau = 0\n",
    "feature_ratios = np.array([0.5,0.5])\n",
    "features_x = np.array([10,1])\n",
    "features_theta = np.array([10,1])\n",
    "data_model = KFeaturesModel(d, logger, delete_existing=True, normalize_matrices=True,source_pickle_path=\"\",feature_ratios=feature_ratios,features_x=features_x,features_theta=features_theta)\n",
    "# data_model.Sigma_x = data_model.Sigma_x / np.trace(data_model.Sigma_x) * d\n",
    "data_set = data_model.generate_data(1000,tau)"
   ]
  },
  {
   "cell_type": "code",
   "execution_count": 49,
   "metadata": {},
   "outputs": [
    {
     "data": {
      "text/plain": [
       "0.9999999999999996"
      ]
     },
     "execution_count": 49,
     "metadata": {},
     "output_type": "execute_result"
    }
   ],
   "source": [
    "data_model.rho"
   ]
  },
  {
   "cell_type": "code",
   "execution_count": null,
   "metadata": {},
   "outputs": [],
   "source": []
  },
  {
   "cell_type": "markdown",
   "metadata": {},
   "source": []
  }
 ],
 "metadata": {
  "kernelspec": {
   "display_name": "adv",
   "language": "python",
   "name": "python3"
  },
  "language_info": {
   "codemirror_mode": {
    "name": "ipython",
    "version": 3
   },
   "file_extension": ".py",
   "mimetype": "text/x-python",
   "name": "python",
   "nbconvert_exporter": "python",
   "pygments_lexer": "ipython3",
   "version": "3.11.5"
  }
 },
 "nbformat": 4,
 "nbformat_minor": 2
}

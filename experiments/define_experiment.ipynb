{
 "cells": [
  {
   "cell_type": "code",
   "execution_count": 217,
   "metadata": {},
   "outputs": [
    {
     "name": "stdout",
     "output_type": "stream",
     "text": [
      "The autoreload extension is already loaded. To reload it, use:\n",
      "  %reload_ext autoreload\n"
     ]
    }
   ],
   "source": [
    "%load_ext autoreload\n",
    "%autoreload 2"
   ]
  },
  {
   "cell_type": "code",
   "execution_count": 218,
   "metadata": {},
   "outputs": [],
   "source": [
    "import numpy as np\n",
    "from sweep.experiment import Experiment, ExperimentType\n",
    "from model.data import DataModel, KFeaturesDefinition, k_features_factory\n",
    "from erm.problems.problems import ProblemType\n",
    "import subprocess\n",
    "import logging\n",
    "logging.basicConfig()"
   ]
  },
  {
   "cell_type": "markdown",
   "metadata": {},
   "source": [
    "Define a datamodel"
   ]
  },
  {
   "cell_type": "code",
   "execution_count": 219,
   "metadata": {},
   "outputs": [],
   "source": [
    "d = 100\n",
    "vanilla_gaussian_diagonal = [(d, 1)]\n",
    "x_diagonal = KFeaturesDefinition(diagonal=vanilla_gaussian_diagonal)\n",
    "θ_diagonal = KFeaturesDefinition(diagonal=vanilla_gaussian_diagonal)\n",
    "ω_diagonal = KFeaturesDefinition(diagonal=vanilla_gaussian_diagonal)\n",
    "δ_diagonal = KFeaturesDefinition(diagonal=vanilla_gaussian_diagonal)\n",
    "ν_diagonal = KFeaturesDefinition(diagonal=vanilla_gaussian_diagonal)\n",
    "\n",
    "k_features_kwargs = {\n",
    "    \"x_diagonal\": x_diagonal,\n",
    "    \"θ_diagonal\": θ_diagonal,\n",
    "    \"ω_diagonal\": ω_diagonal,\n",
    "    \"δ_diagonal\": δ_diagonal,\n",
    "    \"ν_diagonal\": ν_diagonal,\n",
    "}\n",
    "\n",
    "data_model = DataModel(\n",
    "    d,\n",
    "    normalize_matrices=False,\n",
    "    data_model_factory=k_features_factory,\n",
    "    factory_kwargs=k_features_kwargs,\n",
    ")"
   ]
  },
  {
   "cell_type": "markdown",
   "metadata": {},
   "source": [
    "Define an experiment"
   ]
  },
  {
   "cell_type": "code",
   "execution_count": 220,
   "metadata": {},
   "outputs": [
    {
     "data": {
      "text/plain": [
       "DataModel(d=100, normalize_matrices=False, data_model_factory=k_features_factory, factory_kwargs={'x_diagonal': KFeaturesDefinition(diagonal=[(100, 1)]), 'θ_diagonal': KFeaturesDefinition(diagonal=[(100, 1)]), 'ω_diagonal': KFeaturesDefinition(diagonal=[(100, 1)]), 'δ_diagonal': KFeaturesDefinition(diagonal=[(100, 1)]), 'ν_diagonal': KFeaturesDefinition(diagonal=[(100, 1)])}, name='', description='', gamma=1)"
      ]
     },
     "execution_count": 220,
     "metadata": {},
     "output_type": "execute_result"
    }
   ],
   "source": [
    "data_model"
   ]
  },
  {
   "cell_type": "code",
   "execution_count": 221,
   "metadata": {},
   "outputs": [],
   "source": [
    "from sweep.experiment import NumpyEncoder, NumpyDecoder\n",
    "import json\n",
    "\n",
    "data_model_json = json.dumps(data_model, cls=NumpyEncoder)"
   ]
  },
  {
   "cell_type": "code",
   "execution_count": 222,
   "metadata": {},
   "outputs": [
    {
     "data": {
      "text/plain": [
       "'{\"d\": 100, \"normalize_matrices\": false, \"data_model_factory_name\": \"k_features_factory\", \"factory_kwargs\": {\"x_diagonal\": {\"diagonal\": [[100, 1]]}, \"\\\\u03b8_diagonal\": {\"diagonal\": [[100, 1]]}, \"\\\\u03c9_diagonal\": {\"diagonal\": [[100, 1]]}, \"\\\\u03b4_diagonal\": {\"diagonal\": [[100, 1]]}, \"\\\\u03bd_diagonal\": {\"diagonal\": [[100, 1]]}}, \"name\": \"\", \"description\": \"\", \"gamma\": 1}'"
      ]
     },
     "execution_count": 222,
     "metadata": {},
     "output_type": "execute_result"
    }
   ],
   "source": [
    "data_model_json"
   ]
  },
  {
   "cell_type": "code",
   "execution_count": 223,
   "metadata": {},
   "outputs": [],
   "source": [
    "dm = DataModel.from_dict(json.loads(data_model_json, cls=NumpyDecoder))"
   ]
  },
  {
   "cell_type": "code",
   "execution_count": 224,
   "metadata": {},
   "outputs": [
    {
     "data": {
      "text/plain": [
       "DataModel(d=100, normalize_matrices=False, data_model_factory=k_features_factory, factory_kwargs={'x_diagonal': KFeaturesDefinition(diagonal=[[100, 1]]), 'θ_diagonal': KFeaturesDefinition(diagonal=[[100, 1]]), 'ω_diagonal': KFeaturesDefinition(diagonal=[[100, 1]]), 'δ_diagonal': KFeaturesDefinition(diagonal=[[100, 1]]), 'ν_diagonal': KFeaturesDefinition(diagonal=[[100, 1]])}, name='', description='', gamma=1)"
      ]
     },
     "execution_count": 224,
     "metadata": {},
     "output_type": "execute_result"
    }
   ],
   "source": [
    "dm"
   ]
  },
  {
   "cell_type": "code",
   "execution_count": 225,
   "metadata": {},
   "outputs": [],
   "source": [
    "# dm.generate_model_matrices()"
   ]
  },
  {
   "cell_type": "code",
   "execution_count": 226,
   "metadata": {},
   "outputs": [],
   "source": [
    "experiment = Experiment(\n",
    "    state_evolution_repetitions=1,\n",
    "    erm_repetitions=1,\n",
    "    alphas=np.linspace(0,10,5),\n",
    "    epsilons=np.array([0, 0.1]),\n",
    "    lambdas=np.array([0.1]),\n",
    "    taus=np.array([0.1]),\n",
    "    d=d,\n",
    "    experiment_type=ExperimentType.Sweep,\n",
    "    data_model = data_model,\n",
    "    test_against_epsilons=np.array([0,0.1]),\n",
    "    erm_problem_type=ProblemType.Logistic,\n",
    "    gamma_fair_error=0.01,\n",
    "    name=\"vanilla-gaussian\"\n",
    ")\n",
    "experiment_json = experiment.to_json()"
   ]
  },
  {
   "cell_type": "code",
   "execution_count": 227,
   "metadata": {},
   "outputs": [],
   "source": [
    "with open(\"experiment.json\", \"w\") as f:\n",
    "    f.write(experiment_json)"
   ]
  },
  {
   "cell_type": "code",
   "execution_count": 228,
   "metadata": {},
   "outputs": [],
   "source": [
    "e = Experiment.fromdict(json.loads(experiment_json, cls=NumpyDecoder))"
   ]
  },
  {
   "cell_type": "code",
   "execution_count": 229,
   "metadata": {},
   "outputs": [
    {
     "data": {
      "text/plain": [
       "DataModel(d=100, normalize_matrices=False, data_model_factory=k_features_factory, factory_kwargs={'x_diagonal': KFeaturesDefinition(diagonal=[[100, 1]]), 'θ_diagonal': KFeaturesDefinition(diagonal=[[100, 1]]), 'ω_diagonal': KFeaturesDefinition(diagonal=[[100, 1]]), 'δ_diagonal': KFeaturesDefinition(diagonal=[[100, 1]]), 'ν_diagonal': KFeaturesDefinition(diagonal=[[100, 1]])}, name='', description='', gamma=1)"
      ]
     },
     "execution_count": 229,
     "metadata": {},
     "output_type": "execute_result"
    }
   ],
   "source": [
    "e.data_model"
   ]
  },
  {
   "cell_type": "code",
   "execution_count": 230,
   "metadata": {},
   "outputs": [
    {
     "name": "stdout",
     "output_type": "stream",
     "text": [
      "/Users/kasimirtanner/Documents/LocalCode/Code_PDM/AISTATS\n"
     ]
    },
    {
     "data": {
      "text/plain": [
       "CompletedProcess(args=['pwd'], returncode=0)"
      ]
     },
     "execution_count": 230,
     "metadata": {},
     "output_type": "execute_result"
    }
   ],
   "source": [
    "command = [\"pwd\"]\n",
    "subprocess.run(command)"
   ]
  },
  {
   "cell_type": "code",
   "execution_count": 231,
   "metadata": {},
   "outputs": [
    {
     "name": "stderr",
     "output_type": "stream",
     "text": [
      "INFO:root:The MPI comm size is 5\n",
      "INFO:root:This process has rank 1\n",
      "INFO:root:The MPI comm size is 5\n",
      "INFO:root:This process has rank 4\n",
      "INFO:root:The MPI comm size is 5\n",
      "INFO:root:This process has rank 0\n",
      "INFO:root:Starting Master for experiment vanilla-gaussian\n",
      "INFO:root:Starting Experiment vanilla-gaussian\n",
      "INFO:root:The MPI comm size is 5\n",
      "INFO:root:The MPI comm size is 5\n",
      "INFO:root:This process has rank 2\n",
      "INFO:root:This process has rank 3\n",
      "  0%|          | 0/20 [00:00<?, ?it/s]INFO:root:Starting all processes\n",
      "INFO:root:Sending task 0 to 1\n",
      "INFO:root:Sending task 1 to 2\n",
      "INFO:root:Sending task 2 to 3\n",
      "INFO:root:Sending task 3 to 4\n",
      "INFO:root:All processes started - receiving results and sending new tasks\n",
      "INFO:root:Starting task 2\n",
      "INFO:root:Received the 0th task\n",
      "DEBUG:root:DataModel(d=100, normalize_matrices=False, data_model_factory=k_features_factory, factory_kwargs={'x_diagonal': KFeaturesDefinition(diagonal=[[100, 1]]), 'θ_diagonal': KFeaturesDefinition(diagonal=[[100, 1]]), 'ω_diagonal': KFeaturesDefinition(diagonal=[[100, 1]]), 'δ_diagonal': KFeaturesDefinition(diagonal=[[100, 1]]), 'ν_diagonal': KFeaturesDefinition(diagonal=[[100, 1]])}, name='', description='', gamma=1)\n",
      "INFO:root:Initializing data model\n",
      "INFO:root:Starting task 4\n",
      "DEBUG:root:DataModel(d=100, normalize_matrices=False, data_model_factory=k_features_factory, factory_kwargs={'x_diagonal': KFeaturesDefinition(diagonal=[[100, 1]]), 'θ_diagonal': KFeaturesDefinition(diagonal=[[100, 1]]), 'ω_diagonal': KFeaturesDefinition(diagonal=[[100, 1]]), 'δ_diagonal': KFeaturesDefinition(diagonal=[[100, 1]]), 'ν_diagonal': KFeaturesDefinition(diagonal=[[100, 1]])}, name='', description='', gamma=1)\n",
      "INFO:root:Starting task 3\n",
      "INFO:root:Initializing data model\n",
      "INFO:root:Starting task 1\n",
      "DEBUG:root:DataModel(d=100, normalize_matrices=False, data_model_factory=k_features_factory, factory_kwargs={'x_diagonal': KFeaturesDefinition(diagonal=[[100, 1]]), 'θ_diagonal': KFeaturesDefinition(diagonal=[[100, 1]]), 'ω_diagonal': KFeaturesDefinition(diagonal=[[100, 1]]), 'δ_diagonal': KFeaturesDefinition(diagonal=[[100, 1]]), 'ν_diagonal': KFeaturesDefinition(diagonal=[[100, 1]])}, name='', description='', gamma=1)\n",
      "DEBUG:root:DataModel(d=100, normalize_matrices=False, data_model_factory=k_features_factory, factory_kwargs={'x_diagonal': KFeaturesDefinition(diagonal=[[100, 1]]), 'θ_diagonal': KFeaturesDefinition(diagonal=[[100, 1]]), 'ω_diagonal': KFeaturesDefinition(diagonal=[[100, 1]]), 'δ_diagonal': KFeaturesDefinition(diagonal=[[100, 1]]), 'ν_diagonal': KFeaturesDefinition(diagonal=[[100, 1]])}, name='', description='', gamma=1)\n",
      "INFO:root:Initializing data model\n",
      "INFO:root:Initializing data model\n"
     ]
    },
    {
     "name": "stdout",
     "output_type": "stream",
     "text": [
      "2025-02-13 22:55:21,182 - Rank 0 - INFO - The MPI comm size is 5\n",
      "2025-02-13 22:55:21,182 - Rank 0 - INFO - This process has rank 0\n",
      "2025-02-13 22:55:21,182 - Rank 0 - INFO - Starting Master for experiment vanilla-gaussian\n",
      "2025-02-13 22:55:21,182 - Rank 0 - INFO - Starting Experiment vanilla-gaussian\n",
      "2025-02-13 22:55:21,190 - Rank 0 - INFO - Starting all processes\n",
      "2025-02-13 22:55:21,190 - Rank 0 - INFO - Sending task 0 to 1\n",
      "2025-02-13 22:55:21,190 - Rank 0 - INFO - Sending task 1 to 2\n",
      "2025-02-13 22:55:21,190 - Rank 0 - INFO - Sending task 2 to 3\n",
      "2025-02-13 22:55:21,190 - Rank 0 - INFO - Sending task 3 to 4\n",
      "2025-02-13 22:55:21,190 - Rank 0 - INFO - All processes started - receiving results and sending new tasks\n",
      "2025-02-13 22:55:21,190 - Rank 0 - INFO - Received the 0th task\n"
     ]
    },
    {
     "name": "stderr",
     "output_type": "stream",
     "text": [
      "ERROR:root:Singular matrix\n",
      "Traceback (most recent call last):\n",
      "  File \"/Users/kasimirtanner/Documents/LocalCode/Code_PDM/AISTATS/sweep/helpers.py\", line 65, in process_task\n",
      "    data_model.generate_model_matrices()\n",
      "  File \"/Users/kasimirtanner/Documents/LocalCode/Code_PDM/AISTATS/model/data.py\", line 113, in generate_model_matrices\n",
      "    assumption_1 = self.Σ_x - self.Σ_x.T @ np.linalg.inv(self.Σ_x) @ self.Σ_x\n",
      "                                           ^^^^^^^^^^^^^^^^^^^^^^^\n",
      "  File \"/Users/kasimirtanner/Documents/LocalCode/Code_PDM/AISTATS/.venv/lib/python3.11/site-packages/numpy/linalg/linalg.py\", line 561, in inv\n",
      "    ainv = _umath_linalg.inv(a, signature=signature, extobj=extobj)\n",
      "           ^^^^^^^^^^^^^^^^^^^^^^^^^^^^^^^^^^^^^^^^^^^^^^^^^^^^^^^^\n",
      "  File \"/Users/kasimirtanner/Documents/LocalCode/Code_PDM/AISTATS/.venv/lib/python3.11/site-packages/numpy/linalg/linalg.py\", line 112, in _raise_linalgerror_singular\n",
      "    raise LinAlgError(\"Singular matrix\")\n",
      "numpy.linalg.LinAlgError: Singular matrix\n",
      "INFO:root:Received task 1 from 1\n",
      "DEBUG:root:Singular matrix\n",
      "ERROR:root:Error Task(id=1, task_type=<TaskType.SE: 1>, erm_problem_type=None, alpha=0.0, epsilon=0.0, test_against_epsilons=[0.0, 0.1], lam=0.1, tau=0.1, d=100, data_model=DataModel(d=100, normalize_matrices=False, data_model_factory=k_features_factory, factory_kwargs={'x_diagonal': KFeaturesDefinition(diagonal=[[100, 1]]), 'θ_diagonal': KFeaturesDefinition(diagonal=[[100, 1]]), 'ω_diagonal': KFeaturesDefinition(diagonal=[[100, 1]]), 'δ_diagonal': KFeaturesDefinition(diagonal=[[100, 1]]), 'ν_diagonal': KFeaturesDefinition(diagonal=[[100, 1]])}, name='', description='', gamma=1), values={}, gamma_fair_error=0.01, gamma=1, result=LinAlgError('Singular matrix'))\n",
      "ERROR:root:Singular matrix\n",
      "  5%|▌         | 1/20 [00:00<00:15,  1.21it/s]INFO:root:Received the 1th task\n",
      "INFO:root:Starting task 5\n",
      "DEBUG:root:DataModel(d=100, normalize_matrices=False, data_model_factory=k_features_factory, factory_kwargs={'x_diagonal': KFeaturesDefinition(diagonal=[[100, 1]]), 'θ_diagonal': KFeaturesDefinition(diagonal=[[100, 1]]), 'ω_diagonal': KFeaturesDefinition(diagonal=[[100, 1]]), 'δ_diagonal': KFeaturesDefinition(diagonal=[[100, 1]]), 'ν_diagonal': KFeaturesDefinition(diagonal=[[100, 1]])}, name='', description='', gamma=1)\n",
      "INFO:root:Initializing data model\n",
      "ERROR:root:Singular matrix\n",
      "Traceback (most recent call last):\n",
      "  File \"/Users/kasimirtanner/Documents/LocalCode/Code_PDM/AISTATS/sweep/helpers.py\", line 65, in process_task\n",
      "    data_model.generate_model_matrices()\n",
      "  File \"/Users/kasimirtanner/Documents/LocalCode/Code_PDM/AISTATS/model/data.py\", line 113, in generate_model_matrices\n",
      "    assumption_1 = self.Σ_x - self.Σ_x.T @ np.linalg.inv(self.Σ_x) @ self.Σ_x\n",
      "                                           ^^^^^^^^^^^^^^^^^^^^^^^\n",
      "  File \"/Users/kasimirtanner/Documents/LocalCode/Code_PDM/AISTATS/.venv/lib/python3.11/site-packages/numpy/linalg/linalg.py\", line 561, in inv\n",
      "    ainv = _umath_linalg.inv(a, signature=signature, extobj=extobj)\n",
      "           ^^^^^^^^^^^^^^^^^^^^^^^^^^^^^^^^^^^^^^^^^^^^^^^^^^^^^^^^\n",
      "  File \"/Users/kasimirtanner/Documents/LocalCode/Code_PDM/AISTATS/.venv/lib/python3.11/site-packages/numpy/linalg/linalg.py\", line 112, in _raise_linalgerror_singular\n",
      "    raise LinAlgError(\"Singular matrix\")\n",
      "numpy.linalg.LinAlgError: Singular matrix\n",
      "INFO:root:Received task 3 from 3\n",
      "DEBUG:root:Singular matrix\n",
      "ERROR:root:Error Task(id=3, task_type=<TaskType.SE: 1>, erm_problem_type=None, alpha=2.5, epsilon=0.0, test_against_epsilons=[0.0, 0.1], lam=0.1, tau=0.1, d=100, data_model=DataModel(d=100, normalize_matrices=False, data_model_factory=k_features_factory, factory_kwargs={'x_diagonal': KFeaturesDefinition(diagonal=[[100, 1]]), 'θ_diagonal': KFeaturesDefinition(diagonal=[[100, 1]]), 'ω_diagonal': KFeaturesDefinition(diagonal=[[100, 1]]), 'δ_diagonal': KFeaturesDefinition(diagonal=[[100, 1]]), 'ν_diagonal': KFeaturesDefinition(diagonal=[[100, 1]])}, name='', description='', gamma=1), values={}, gamma_fair_error=0.01, gamma=1, result=LinAlgError('Singular matrix'))\n",
      "ERROR:root:Singular matrix\n",
      " 10%|█         | 2/20 [00:00<00:07,  2.46it/s]INFO:root:Received the 2th task\n",
      "INFO:root:Starting task 6\n",
      "DEBUG:root:DataModel(d=100, normalize_matrices=False, data_model_factory=k_features_factory, factory_kwargs={'x_diagonal': KFeaturesDefinition(diagonal=[[100, 1]]), 'θ_diagonal': KFeaturesDefinition(diagonal=[[100, 1]]), 'ω_diagonal': KFeaturesDefinition(diagonal=[[100, 1]]), 'δ_diagonal': KFeaturesDefinition(diagonal=[[100, 1]]), 'ν_diagonal': KFeaturesDefinition(diagonal=[[100, 1]])}, name='', description='', gamma=1)\n",
      "INFO:root:Initializing data model\n",
      "ERROR:root:Singular matrix\n",
      "Traceback (most recent call last):\n",
      "  File \"/Users/kasimirtanner/Documents/LocalCode/Code_PDM/AISTATS/sweep/helpers.py\", line 65, in process_task\n",
      "    data_model.generate_model_matrices()\n",
      "  File \"/Users/kasimirtanner/Documents/LocalCode/Code_PDM/AISTATS/model/data.py\", line 113, in generate_model_matrices\n",
      "    assumption_1 = self.Σ_x - self.Σ_x.T @ np.linalg.inv(self.Σ_x) @ self.Σ_x\n",
      "                                           ^^^^^^^^^^^^^^^^^^^^^^^\n",
      "  File \"/Users/kasimirtanner/Documents/LocalCode/Code_PDM/AISTATS/.venv/lib/python3.11/site-packages/numpy/linalg/linalg.py\", line 561, in inv\n",
      "    ainv = _umath_linalg.inv(a, signature=signature, extobj=extobj)\n",
      "           ^^^^^^^^^^^^^^^^^^^^^^^^^^^^^^^^^^^^^^^^^^^^^^^^^^^^^^^^\n",
      "  File \"/Users/kasimirtanner/Documents/LocalCode/Code_PDM/AISTATS/.venv/lib/python3.11/site-packages/numpy/linalg/linalg.py\", line 112, in _raise_linalgerror_singular\n",
      "    raise LinAlgError(\"Singular matrix\")\n",
      "numpy.linalg.LinAlgError: Singular matrix\n",
      "INFO:root:Received task 2 from 2\n",
      "DEBUG:root:Singular matrix\n",
      "ERROR:root:Error Task(id=2, task_type=<TaskType.SE: 1>, erm_problem_type=None, alpha=0.0, epsilon=0.1, test_against_epsilons=[0.0, 0.1], lam=0.1, tau=0.1, d=100, data_model=DataModel(d=100, normalize_matrices=False, data_model_factory=k_features_factory, factory_kwargs={'x_diagonal': KFeaturesDefinition(diagonal=[[100, 1]]), 'θ_diagonal': KFeaturesDefinition(diagonal=[[100, 1]]), 'ω_diagonal': KFeaturesDefinition(diagonal=[[100, 1]]), 'δ_diagonal': KFeaturesDefinition(diagonal=[[100, 1]]), 'ν_diagonal': KFeaturesDefinition(diagonal=[[100, 1]])}, name='', description='', gamma=1), values={}, gamma_fair_error=0.01, gamma=1, result=LinAlgError('Singular matrix'))\n",
      "ERROR:root:Singular matrix\n",
      "INFO:root:Received the 3th task\n",
      "INFO:root:Starting task 7\n",
      "DEBUG:root:DataModel(d=100, normalize_matrices=False, data_model_factory=k_features_factory, factory_kwargs={'x_diagonal': KFeaturesDefinition(diagonal=[[100, 1]]), 'θ_diagonal': KFeaturesDefinition(diagonal=[[100, 1]]), 'ω_diagonal': KFeaturesDefinition(diagonal=[[100, 1]]), 'δ_diagonal': KFeaturesDefinition(diagonal=[[100, 1]]), 'ν_diagonal': KFeaturesDefinition(diagonal=[[100, 1]])}, name='', description='', gamma=1)\n",
      "INFO:root:Initializing data model\n",
      "ERROR:root:Singular matrix\n",
      "Traceback (most recent call last):\n",
      "  File \"/Users/kasimirtanner/Documents/LocalCode/Code_PDM/AISTATS/sweep/helpers.py\", line 65, in process_task\n",
      "    data_model.generate_model_matrices()\n",
      "  File \"/Users/kasimirtanner/Documents/LocalCode/Code_PDM/AISTATS/model/data.py\", line 113, in generate_model_matrices\n",
      "    assumption_1 = self.Σ_x - self.Σ_x.T @ np.linalg.inv(self.Σ_x) @ self.Σ_x\n",
      "                                           ^^^^^^^^^^^^^^^^^^^^^^^\n",
      "  File \"/Users/kasimirtanner/Documents/LocalCode/Code_PDM/AISTATS/.venv/lib/python3.11/site-packages/numpy/linalg/linalg.py\", line 561, in inv\n",
      "    ainv = _umath_linalg.inv(a, signature=signature, extobj=extobj)\n",
      "           ^^^^^^^^^^^^^^^^^^^^^^^^^^^^^^^^^^^^^^^^^^^^^^^^^^^^^^^^\n",
      "  File \"/Users/kasimirtanner/Documents/LocalCode/Code_PDM/AISTATS/.venv/lib/python3.11/site-packages/numpy/linalg/linalg.py\", line 112, in _raise_linalgerror_singular\n",
      "    raise LinAlgError(\"Singular matrix\")\n",
      "numpy.linalg.LinAlgError: Singular matrix\n",
      "INFO:root:Received task 4 from 4\n",
      "DEBUG:root:Singular matrix\n",
      "ERROR:root:Error Task(id=4, task_type=<TaskType.SE: 1>, erm_problem_type=None, alpha=2.5, epsilon=0.1, test_against_epsilons=[0.0, 0.1], lam=0.1, tau=0.1, d=100, data_model=DataModel(d=100, normalize_matrices=False, data_model_factory=k_features_factory, factory_kwargs={'x_diagonal': KFeaturesDefinition(diagonal=[[100, 1]]), 'θ_diagonal': KFeaturesDefinition(diagonal=[[100, 1]]), 'ω_diagonal': KFeaturesDefinition(diagonal=[[100, 1]]), 'δ_diagonal': KFeaturesDefinition(diagonal=[[100, 1]]), 'ν_diagonal': KFeaturesDefinition(diagonal=[[100, 1]])}, name='', description='', gamma=1), values={}, gamma_fair_error=0.01, gamma=1, result=LinAlgError('Singular matrix'))\n",
      "ERROR:root:Singular matrix\n",
      "INFO:root:Received the 4th task\n",
      "INFO:root:Starting task 8\n",
      "DEBUG:root:DataModel(d=100, normalize_matrices=False, data_model_factory=k_features_factory, factory_kwargs={'x_diagonal': KFeaturesDefinition(diagonal=[[100, 1]]), 'θ_diagonal': KFeaturesDefinition(diagonal=[[100, 1]]), 'ω_diagonal': KFeaturesDefinition(diagonal=[[100, 1]]), 'δ_diagonal': KFeaturesDefinition(diagonal=[[100, 1]]), 'ν_diagonal': KFeaturesDefinition(diagonal=[[100, 1]])}, name='', description='', gamma=1)\n",
      "INFO:root:Initializing data model\n"
     ]
    },
    {
     "name": "stdout",
     "output_type": "stream",
     "text": [
      "2025-02-13 22:55:22,018 - Rank 0 - INFO - Received task 1 from 1\n",
      "2025-02-13 22:55:22,018 - Rank 0 - DEBUG - Singular matrix\n",
      "2025-02-13 22:55:22,018 - Rank 0 - ERROR - Error Task(id=1, task_type=<TaskType.SE: 1>, erm_problem_type=None, alpha=0.0, epsilon=0.0, test_against_epsilons=[0.0, 0.1], lam=0.1, tau=0.1, d=100, data_model=DataModel(d=100, normalize_matrices=False, data_model_factory=k_features_factory, factory_kwargs={'x_diagonal': KFeaturesDefinition(diagonal=[[100, 1]]), 'θ_diagonal': KFeaturesDefinition(diagonal=[[100, 1]]), 'ω_diagonal': KFeaturesDefinition(diagonal=[[100, 1]]), 'δ_diagonal': KFeaturesDefinition(diagonal=[[100, 1]]), 'ν_diagonal': KFeaturesDefinition(diagonal=[[100, 1]])}, name='', description='', gamma=1), values={}, gamma_fair_error=0.01, gamma=1, result=LinAlgError('Singular matrix'))\n",
      "2025-02-13 22:55:22,018 - Rank 0 - ERROR - Singular matrix\n",
      "2025-02-13 22:55:22,019 - Rank 0 - INFO - Received the 1th task\n",
      "2025-02-13 22:55:22,130 - Rank 0 - INFO - Received task 3 from 3\n",
      "2025-02-13 22:55:22,130 - Rank 0 - DEBUG - Singular matrix\n",
      "2025-02-13 22:55:22,130 - Rank 0 - ERROR - Error Task(id=3, task_type=<TaskType.SE: 1>, erm_problem_type=None, alpha=2.5, epsilon=0.0, test_against_epsilons=[0.0, 0.1], lam=0.1, tau=0.1, d=100, data_model=DataModel(d=100, normalize_matrices=False, data_model_factory=k_features_factory, factory_kwargs={'x_diagonal': KFeaturesDefinition(diagonal=[[100, 1]]), 'θ_diagonal': KFeaturesDefinition(diagonal=[[100, 1]]), 'ω_diagonal': KFeaturesDefinition(diagonal=[[100, 1]]), 'δ_diagonal': KFeaturesDefinition(diagonal=[[100, 1]]), 'ν_diagonal': KFeaturesDefinition(diagonal=[[100, 1]])}, name='', description='', gamma=1), values={}, gamma_fair_error=0.01, gamma=1, result=LinAlgError('Singular matrix'))\n",
      "2025-02-13 22:55:22,130 - Rank 0 - ERROR - Singular matrix\n",
      "2025-02-13 22:55:22,130 - Rank 0 - INFO - Received the 2th task\n",
      "2025-02-13 22:55:22,175 - Rank 0 - INFO - Received task 2 from 2\n",
      "2025-02-13 22:55:22,180 - Rank 0 - DEBUG - Singular matrix\n",
      "2025-02-13 22:55:22,180 - Rank 0 - ERROR - Error Task(id=2, task_type=<TaskType.SE: 1>, erm_problem_type=None, alpha=0.0, epsilon=0.1, test_against_epsilons=[0.0, 0.1], lam=0.1, tau=0.1, d=100, data_model=DataModel(d=100, normalize_matrices=False, data_model_factory=k_features_factory, factory_kwargs={'x_diagonal': KFeaturesDefinition(diagonal=[[100, 1]]), 'θ_diagonal': KFeaturesDefinition(diagonal=[[100, 1]]), 'ω_diagonal': KFeaturesDefinition(diagonal=[[100, 1]]), 'δ_diagonal': KFeaturesDefinition(diagonal=[[100, 1]]), 'ν_diagonal': KFeaturesDefinition(diagonal=[[100, 1]])}, name='', description='', gamma=1), values={}, gamma_fair_error=0.01, gamma=1, result=LinAlgError('Singular matrix'))\n",
      "2025-02-13 22:55:22,182 - Rank 0 - ERROR - Singular matrix\n",
      "2025-02-13 22:55:22,182 - Rank 0 - INFO - Received the 3th task\n",
      "2025-02-13 22:55:22,211 - Rank 0 - INFO - Received task 4 from 4\n",
      "2025-02-13 22:55:22,211 - Rank 0 - DEBUG - Singular matrix\n",
      "2025-02-13 22:55:22,211 - Rank 0 - ERROR - Error Task(id=4, task_type=<TaskType.SE: 1>, erm_problem_type=None, alpha=2.5, epsilon=0.1, test_against_epsilons=[0.0, 0.1], lam=0.1, tau=0.1, d=100, data_model=DataModel(d=100, normalize_matrices=False, data_model_factory=k_features_factory, factory_kwargs={'x_diagonal': KFeaturesDefinition(diagonal=[[100, 1]]), 'θ_diagonal': KFeaturesDefinition(diagonal=[[100, 1]]), 'ω_diagonal': KFeaturesDefinition(diagonal=[[100, 1]]), 'δ_diagonal': KFeaturesDefinition(diagonal=[[100, 1]]), 'ν_diagonal': KFeaturesDefinition(diagonal=[[100, 1]])}, name='', description='', gamma=1), values={}, gamma_fair_error=0.01, gamma=1, result=LinAlgError('Singular matrix'))\n",
      "2025-02-13 22:55:22,211 - Rank 0 - ERROR - Singular matrix\n",
      "2025-02-13 22:55:22,211 - Rank 0 - INFO - Received the 4th task\n"
     ]
    },
    {
     "name": "stderr",
     "output_type": "stream",
     "text": [
      "ERROR:root:Singular matrix\n",
      "Traceback (most recent call last):\n",
      "  File \"/Users/kasimirtanner/Documents/LocalCode/Code_PDM/AISTATS/sweep/helpers.py\", line 65, in process_task\n",
      "    data_model.generate_model_matrices()\n",
      "  File \"/Users/kasimirtanner/Documents/LocalCode/Code_PDM/AISTATS/model/data.py\", line 113, in generate_model_matrices\n",
      "    assumption_1 = self.Σ_x - self.Σ_x.T @ np.linalg.inv(self.Σ_x) @ self.Σ_x\n",
      "                                           ^^^^^^^^^^^^^^^^^^^^^^^\n",
      "  File \"/Users/kasimirtanner/Documents/LocalCode/Code_PDM/AISTATS/.venv/lib/python3.11/site-packages/numpy/linalg/linalg.py\", line 561, in inv\n",
      "    ainv = _umath_linalg.inv(a, signature=signature, extobj=extobj)\n",
      "           ^^^^^^^^^^^^^^^^^^^^^^^^^^^^^^^^^^^^^^^^^^^^^^^^^^^^^^^^\n",
      "  File \"/Users/kasimirtanner/Documents/LocalCode/Code_PDM/AISTATS/.venv/lib/python3.11/site-packages/numpy/linalg/linalg.py\", line 112, in _raise_linalgerror_singular\n",
      "    raise LinAlgError(\"Singular matrix\")\n",
      "numpy.linalg.LinAlgError: Singular matrix\n",
      "INFO:root:Received task 5 from 1\n",
      "DEBUG:root:Singular matrix\n",
      "ERROR:root:Error Task(id=5, task_type=<TaskType.SE: 1>, erm_problem_type=None, alpha=5.0, epsilon=0.0, test_against_epsilons=[0.0, 0.1], lam=0.1, tau=0.1, d=100, data_model=DataModel(d=100, normalize_matrices=False, data_model_factory=k_features_factory, factory_kwargs={'x_diagonal': KFeaturesDefinition(diagonal=[[100, 1]]), 'θ_diagonal': KFeaturesDefinition(diagonal=[[100, 1]]), 'ω_diagonal': KFeaturesDefinition(diagonal=[[100, 1]]), 'δ_diagonal': KFeaturesDefinition(diagonal=[[100, 1]]), 'ν_diagonal': KFeaturesDefinition(diagonal=[[100, 1]])}, name='', description='', gamma=1), values={}, gamma_fair_error=0.01, gamma=1, result=LinAlgError('Singular matrix'))\n",
      "ERROR:root:Singular matrix\n",
      " 25%|██▌       | 5/20 [00:01<00:04,  3.59it/s]INFO:root:Received the 5th task\n",
      "INFO:root:Starting task 9\n",
      "DEBUG:root:DataModel(d=100, normalize_matrices=False, data_model_factory=k_features_factory, factory_kwargs={'x_diagonal': KFeaturesDefinition(diagonal=[[100, 1]]), 'θ_diagonal': KFeaturesDefinition(diagonal=[[100, 1]]), 'ω_diagonal': KFeaturesDefinition(diagonal=[[100, 1]]), 'δ_diagonal': KFeaturesDefinition(diagonal=[[100, 1]]), 'ν_diagonal': KFeaturesDefinition(diagonal=[[100, 1]])}, name='', description='', gamma=1)\n",
      "INFO:root:Initializing data model\n",
      "ERROR:root:Singular matrix\n",
      "Traceback (most recent call last):\n",
      "  File \"/Users/kasimirtanner/Documents/LocalCode/Code_PDM/AISTATS/sweep/helpers.py\", line 65, in process_task\n",
      "    data_model.generate_model_matrices()\n",
      "  File \"/Users/kasimirtanner/Documents/LocalCode/Code_PDM/AISTATS/model/data.py\", line 113, in generate_model_matrices\n",
      "    assumption_1 = self.Σ_x - self.Σ_x.T @ np.linalg.inv(self.Σ_x) @ self.Σ_x\n",
      "                                           ^^^^^^^^^^^^^^^^^^^^^^^\n",
      "  File \"/Users/kasimirtanner/Documents/LocalCode/Code_PDM/AISTATS/.venv/lib/python3.11/site-packages/numpy/linalg/linalg.py\", line 561, in inv\n",
      "    ainv = _umath_linalg.inv(a, signature=signature, extobj=extobj)\n",
      "           ^^^^^^^^^^^^^^^^^^^^^^^^^^^^^^^^^^^^^^^^^^^^^^^^^^^^^^^^\n",
      "  File \"/Users/kasimirtanner/Documents/LocalCode/Code_PDM/AISTATS/.venv/lib/python3.11/site-packages/numpy/linalg/linalg.py\", line 112, in _raise_linalgerror_singular\n",
      "    raise LinAlgError(\"Singular matrix\")\n",
      "numpy.linalg.LinAlgError: Singular matrix\n",
      "INFO:root:Received task 6 from 3\n",
      "DEBUG:root:Singular matrix\n",
      "ERROR:root:Error Task(id=6, task_type=<TaskType.SE: 1>, erm_problem_type=None, alpha=5.0, epsilon=0.1, test_against_epsilons=[0.0, 0.1], lam=0.1, tau=0.1, d=100, data_model=DataModel(d=100, normalize_matrices=False, data_model_factory=k_features_factory, factory_kwargs={'x_diagonal': KFeaturesDefinition(diagonal=[[100, 1]]), 'θ_diagonal': KFeaturesDefinition(diagonal=[[100, 1]]), 'ω_diagonal': KFeaturesDefinition(diagonal=[[100, 1]]), 'δ_diagonal': KFeaturesDefinition(diagonal=[[100, 1]]), 'ν_diagonal': KFeaturesDefinition(diagonal=[[100, 1]])}, name='', description='', gamma=1), values={}, gamma_fair_error=0.01, gamma=1, result=LinAlgError('Singular matrix'))\n",
      "ERROR:root:Singular matrix\n",
      "INFO:root:Received the 6th task\n",
      "INFO:root:Starting task 10\n",
      "DEBUG:root:DataModel(d=100, normalize_matrices=False, data_model_factory=k_features_factory, factory_kwargs={'x_diagonal': KFeaturesDefinition(diagonal=[[100, 1]]), 'θ_diagonal': KFeaturesDefinition(diagonal=[[100, 1]]), 'ω_diagonal': KFeaturesDefinition(diagonal=[[100, 1]]), 'δ_diagonal': KFeaturesDefinition(diagonal=[[100, 1]]), 'ν_diagonal': KFeaturesDefinition(diagonal=[[100, 1]])}, name='', description='', gamma=1)\n",
      "INFO:root:Initializing data model\n",
      "ERROR:root:Singular matrix\n",
      "Traceback (most recent call last):\n",
      "  File \"/Users/kasimirtanner/Documents/LocalCode/Code_PDM/AISTATS/sweep/helpers.py\", line 65, in process_task\n",
      "    data_model.generate_model_matrices()\n",
      "  File \"/Users/kasimirtanner/Documents/LocalCode/Code_PDM/AISTATS/model/data.py\", line 113, in generate_model_matrices\n",
      "    assumption_1 = self.Σ_x - self.Σ_x.T @ np.linalg.inv(self.Σ_x) @ self.Σ_x\n",
      "                                           ^^^^^^^^^^^^^^^^^^^^^^^\n",
      "  File \"/Users/kasimirtanner/Documents/LocalCode/Code_PDM/AISTATS/.venv/lib/python3.11/site-packages/numpy/linalg/linalg.py\", line 561, in inv\n",
      "    ainv = _umath_linalg.inv(a, signature=signature, extobj=extobj)\n",
      "           ^^^^^^^^^^^^^^^^^^^^^^^^^^^^^^^^^^^^^^^^^^^^^^^^^^^^^^^^\n",
      "  File \"/Users/kasimirtanner/Documents/LocalCode/Code_PDM/AISTATS/.venv/lib/python3.11/site-packages/numpy/linalg/linalg.py\", line 112, in _raise_linalgerror_singular\n",
      "    raise LinAlgError(\"Singular matrix\")\n",
      "numpy.linalg.LinAlgError: Singular matrix\n",
      "INFO:root:Received task 7 from 2\n",
      "DEBUG:root:Singular matrix\n",
      "ERROR:root:Error Task(id=7, task_type=<TaskType.SE: 1>, erm_problem_type=None, alpha=7.5, epsilon=0.0, test_against_epsilons=[0.0, 0.1], lam=0.1, tau=0.1, d=100, data_model=DataModel(d=100, normalize_matrices=False, data_model_factory=k_features_factory, factory_kwargs={'x_diagonal': KFeaturesDefinition(diagonal=[[100, 1]]), 'θ_diagonal': KFeaturesDefinition(diagonal=[[100, 1]]), 'ω_diagonal': KFeaturesDefinition(diagonal=[[100, 1]]), 'δ_diagonal': KFeaturesDefinition(diagonal=[[100, 1]]), 'ν_diagonal': KFeaturesDefinition(diagonal=[[100, 1]])}, name='', description='', gamma=1), values={}, gamma_fair_error=0.01, gamma=1, result=LinAlgError('Singular matrix'))\n",
      "ERROR:root:Singular matrix\n",
      " 35%|███▌      | 7/20 [00:01<00:02,  5.19it/s]INFO:root:Received the 7th task\n",
      "INFO:root:Starting task 11\n",
      "DEBUG:root:DataModel(d=100, normalize_matrices=False, data_model_factory=k_features_factory, factory_kwargs={'x_diagonal': KFeaturesDefinition(diagonal=[[100, 1]]), 'θ_diagonal': KFeaturesDefinition(diagonal=[[100, 1]]), 'ω_diagonal': KFeaturesDefinition(diagonal=[[100, 1]]), 'δ_diagonal': KFeaturesDefinition(diagonal=[[100, 1]]), 'ν_diagonal': KFeaturesDefinition(diagonal=[[100, 1]])}, name='', description='', gamma=1)\n",
      "INFO:root:Initializing data model\n"
     ]
    },
    {
     "name": "stdout",
     "output_type": "stream",
     "text": [
      "2025-02-13 22:55:22,813 - Rank 0 - INFO - Received task 5 from 1\n",
      "2025-02-13 22:55:22,813 - Rank 0 - DEBUG - Singular matrix\n",
      "2025-02-13 22:55:22,813 - Rank 0 - ERROR - Error Task(id=5, task_type=<TaskType.SE: 1>, erm_problem_type=None, alpha=5.0, epsilon=0.0, test_against_epsilons=[0.0, 0.1], lam=0.1, tau=0.1, d=100, data_model=DataModel(d=100, normalize_matrices=False, data_model_factory=k_features_factory, factory_kwargs={'x_diagonal': KFeaturesDefinition(diagonal=[[100, 1]]), 'θ_diagonal': KFeaturesDefinition(diagonal=[[100, 1]]), 'ω_diagonal': KFeaturesDefinition(diagonal=[[100, 1]]), 'δ_diagonal': KFeaturesDefinition(diagonal=[[100, 1]]), 'ν_diagonal': KFeaturesDefinition(diagonal=[[100, 1]])}, name='', description='', gamma=1), values={}, gamma_fair_error=0.01, gamma=1, result=LinAlgError('Singular matrix'))\n",
      "2025-02-13 22:55:22,813 - Rank 0 - ERROR - Singular matrix\n",
      "2025-02-13 22:55:22,814 - Rank 0 - INFO - Received the 5th task\n",
      "2025-02-13 22:55:22,865 - Rank 0 - INFO - Received task 6 from 3\n",
      "2025-02-13 22:55:22,865 - Rank 0 - DEBUG - Singular matrix\n",
      "2025-02-13 22:55:22,873 - Rank 0 - ERROR - Error Task(id=6, task_type=<TaskType.SE: 1>, erm_problem_type=None, alpha=5.0, epsilon=0.1, test_against_epsilons=[0.0, 0.1], lam=0.1, tau=0.1, d=100, data_model=DataModel(d=100, normalize_matrices=False, data_model_factory=k_features_factory, factory_kwargs={'x_diagonal': KFeaturesDefinition(diagonal=[[100, 1]]), 'θ_diagonal': KFeaturesDefinition(diagonal=[[100, 1]]), 'ω_diagonal': KFeaturesDefinition(diagonal=[[100, 1]]), 'δ_diagonal': KFeaturesDefinition(diagonal=[[100, 1]]), 'ν_diagonal': KFeaturesDefinition(diagonal=[[100, 1]])}, name='', description='', gamma=1), values={}, gamma_fair_error=0.01, gamma=1, result=LinAlgError('Singular matrix'))\n",
      "2025-02-13 22:55:22,873 - Rank 0 - ERROR - Singular matrix\n",
      "2025-02-13 22:55:22,873 - Rank 0 - INFO - Received the 6th task\n",
      "2025-02-13 22:55:22,946 - Rank 0 - INFO - Received task 7 from 2\n",
      "2025-02-13 22:55:22,946 - Rank 0 - DEBUG - Singular matrix\n",
      "2025-02-13 22:55:22,946 - Rank 0 - ERROR - Error Task(id=7, task_type=<TaskType.SE: 1>, erm_problem_type=None, alpha=7.5, epsilon=0.0, test_against_epsilons=[0.0, 0.1], lam=0.1, tau=0.1, d=100, data_model=DataModel(d=100, normalize_matrices=False, data_model_factory=k_features_factory, factory_kwargs={'x_diagonal': KFeaturesDefinition(diagonal=[[100, 1]]), 'θ_diagonal': KFeaturesDefinition(diagonal=[[100, 1]]), 'ω_diagonal': KFeaturesDefinition(diagonal=[[100, 1]]), 'δ_diagonal': KFeaturesDefinition(diagonal=[[100, 1]]), 'ν_diagonal': KFeaturesDefinition(diagonal=[[100, 1]])}, name='', description='', gamma=1), values={}, gamma_fair_error=0.01, gamma=1, result=LinAlgError('Singular matrix'))\n",
      "2025-02-13 22:55:22,946 - Rank 0 - ERROR - Singular matrix\n",
      "2025-02-13 22:55:22,946 - Rank 0 - INFO - Received the 7th task\n"
     ]
    },
    {
     "name": "stderr",
     "output_type": "stream",
     "text": [
      "ERROR:root:Singular matrix\n",
      "Traceback (most recent call last):\n",
      "  File \"/Users/kasimirtanner/Documents/LocalCode/Code_PDM/AISTATS/sweep/helpers.py\", line 65, in process_task\n",
      "    data_model.generate_model_matrices()\n",
      "  File \"/Users/kasimirtanner/Documents/LocalCode/Code_PDM/AISTATS/model/data.py\", line 113, in generate_model_matrices\n",
      "    assumption_1 = self.Σ_x - self.Σ_x.T @ np.linalg.inv(self.Σ_x) @ self.Σ_x\n",
      "                                           ^^^^^^^^^^^^^^^^^^^^^^^\n",
      "  File \"/Users/kasimirtanner/Documents/LocalCode/Code_PDM/AISTATS/.venv/lib/python3.11/site-packages/numpy/linalg/linalg.py\", line 561, in inv\n",
      "    ainv = _umath_linalg.inv(a, signature=signature, extobj=extobj)\n",
      "           ^^^^^^^^^^^^^^^^^^^^^^^^^^^^^^^^^^^^^^^^^^^^^^^^^^^^^^^^\n",
      "  File \"/Users/kasimirtanner/Documents/LocalCode/Code_PDM/AISTATS/.venv/lib/python3.11/site-packages/numpy/linalg/linalg.py\", line 112, in _raise_linalgerror_singular\n",
      "    raise LinAlgError(\"Singular matrix\")\n",
      "numpy.linalg.LinAlgError: Singular matrix\n",
      "INFO:root:Received task 8 from 4\n",
      "DEBUG:root:Singular matrix\n",
      "ERROR:root:Error Task(id=8, task_type=<TaskType.SE: 1>, erm_problem_type=None, alpha=7.5, epsilon=0.1, test_against_epsilons=[0.0, 0.1], lam=0.1, tau=0.1, d=100, data_model=DataModel(d=100, normalize_matrices=False, data_model_factory=k_features_factory, factory_kwargs={'x_diagonal': KFeaturesDefinition(diagonal=[[100, 1]]), 'θ_diagonal': KFeaturesDefinition(diagonal=[[100, 1]]), 'ω_diagonal': KFeaturesDefinition(diagonal=[[100, 1]]), 'δ_diagonal': KFeaturesDefinition(diagonal=[[100, 1]]), 'ν_diagonal': KFeaturesDefinition(diagonal=[[100, 1]])}, name='', description='', gamma=1), values={}, gamma_fair_error=0.01, gamma=1, result=LinAlgError('Singular matrix'))\n",
      "ERROR:root:Singular matrix\n",
      " 40%|████      | 8/20 [00:01<00:02,  5.75it/s]INFO:root:Received the 8th task\n",
      "INFO:root:Starting task 12\n",
      "DEBUG:root:DataModel(d=100, normalize_matrices=False, data_model_factory=k_features_factory, factory_kwargs={'x_diagonal': KFeaturesDefinition(diagonal=[[100, 1]]), 'θ_diagonal': KFeaturesDefinition(diagonal=[[100, 1]]), 'ω_diagonal': KFeaturesDefinition(diagonal=[[100, 1]]), 'δ_diagonal': KFeaturesDefinition(diagonal=[[100, 1]]), 'ν_diagonal': KFeaturesDefinition(diagonal=[[100, 1]])}, name='', description='', gamma=1)\n",
      "INFO:root:Initializing data model\n"
     ]
    },
    {
     "name": "stdout",
     "output_type": "stream",
     "text": [
      "2025-02-13 22:55:23,055 - Rank 0 - INFO - Received task 8 from 4\n",
      "2025-02-13 22:55:23,056 - Rank 0 - DEBUG - Singular matrix\n",
      "2025-02-13 22:55:23,056 - Rank 0 - ERROR - Error Task(id=8, task_type=<TaskType.SE: 1>, erm_problem_type=None, alpha=7.5, epsilon=0.1, test_against_epsilons=[0.0, 0.1], lam=0.1, tau=0.1, d=100, data_model=DataModel(d=100, normalize_matrices=False, data_model_factory=k_features_factory, factory_kwargs={'x_diagonal': KFeaturesDefinition(diagonal=[[100, 1]]), 'θ_diagonal': KFeaturesDefinition(diagonal=[[100, 1]]), 'ω_diagonal': KFeaturesDefinition(diagonal=[[100, 1]]), 'δ_diagonal': KFeaturesDefinition(diagonal=[[100, 1]]), 'ν_diagonal': KFeaturesDefinition(diagonal=[[100, 1]])}, name='', description='', gamma=1), values={}, gamma_fair_error=0.01, gamma=1, result=LinAlgError('Singular matrix'))\n",
      "2025-02-13 22:55:23,056 - Rank 0 - ERROR - Singular matrix\n",
      "2025-02-13 22:55:23,056 - Rank 0 - INFO - Received the 8th task\n"
     ]
    },
    {
     "name": "stderr",
     "output_type": "stream",
     "text": [
      "ERROR:root:Singular matrix\n",
      "Traceback (most recent call last):\n",
      "  File \"/Users/kasimirtanner/Documents/LocalCode/Code_PDM/AISTATS/sweep/helpers.py\", line 65, in process_task\n",
      "    data_model.generate_model_matrices()\n",
      "  File \"/Users/kasimirtanner/Documents/LocalCode/Code_PDM/AISTATS/model/data.py\", line 113, in generate_model_matrices\n",
      "    assumption_1 = self.Σ_x - self.Σ_x.T @ np.linalg.inv(self.Σ_x) @ self.Σ_x\n",
      "                                           ^^^^^^^^^^^^^^^^^^^^^^^\n",
      "  File \"/Users/kasimirtanner/Documents/LocalCode/Code_PDM/AISTATS/.venv/lib/python3.11/site-packages/numpy/linalg/linalg.py\", line 561, in inv\n",
      "    ainv = _umath_linalg.inv(a, signature=signature, extobj=extobj)\n",
      "           ^^^^^^^^^^^^^^^^^^^^^^^^^^^^^^^^^^^^^^^^^^^^^^^^^^^^^^^^\n",
      "  File \"/Users/kasimirtanner/Documents/LocalCode/Code_PDM/AISTATS/.venv/lib/python3.11/site-packages/numpy/linalg/linalg.py\", line 112, in _raise_linalgerror_singular\n",
      "    raise LinAlgError(\"Singular matrix\")\n",
      "numpy.linalg.LinAlgError: Singular matrix\n",
      "INFO:root:Received task 10 from 3\n",
      "DEBUG:root:Singular matrix\n",
      "ERROR:root:Error Task(id=10, task_type=<TaskType.SE: 1>, erm_problem_type=None, alpha=10.0, epsilon=0.1, test_against_epsilons=[0.0, 0.1], lam=0.1, tau=0.1, d=100, data_model=DataModel(d=100, normalize_matrices=False, data_model_factory=k_features_factory, factory_kwargs={'x_diagonal': KFeaturesDefinition(diagonal=[[100, 1]]), 'θ_diagonal': KFeaturesDefinition(diagonal=[[100, 1]]), 'ω_diagonal': KFeaturesDefinition(diagonal=[[100, 1]]), 'δ_diagonal': KFeaturesDefinition(diagonal=[[100, 1]]), 'ν_diagonal': KFeaturesDefinition(diagonal=[[100, 1]])}, name='', description='', gamma=1), values={}, gamma_fair_error=0.01, gamma=1, result=LinAlgError('Singular matrix'))\n",
      "ERROR:root:Singular matrix\n",
      "Traceback (most recent call last):\n",
      "  File \"/Users/kasimirtanner/Documents/LocalCode/Code_PDM/AISTATS/sweep/helpers.py\", line 65, in process_task\n",
      "    data_model.generate_model_matrices()\n",
      "  File \"/Users/kasimirtanner/Documents/LocalCode/Code_PDM/AISTATS/model/data.py\", line 113, in generate_model_matrices\n",
      "    assumption_1 = self.Σ_x - self.Σ_x.T @ np.linalg.inv(self.Σ_x) @ self.Σ_x\n",
      "                                           ^^^^^^^^^^^^^^^^^^^^^^^\n",
      "  File \"/Users/kasimirtanner/Documents/LocalCode/Code_PDM/AISTATS/.venv/lib/python3.11/site-packages/numpy/linalg/linalg.py\", line 561, in inv\n",
      "    ainv = _umath_linalg.inv(a, signature=signature, extobj=extobj)\n",
      "           ^^^^^^^^^^^^^^^^^^^^^^^^^^^^^^^^^^^^^^^^^^^^^^^^^^^^^^^^\n",
      "  File \"/Users/kasimirtanner/Documents/LocalCode/Code_PDM/AISTATS/.venv/lib/python3.11/site-packages/numpy/linalg/linalg.py\", line 112, in _raise_linalgerror_singular\n",
      "    raise LinAlgError(\"Singular matrix\")\n",
      "numpy.linalg.LinAlgError: Singular matrix\n",
      "ERROR:root:Singular matrix\n",
      " 45%|████▌     | 9/20 [00:02<00:03,  3.32it/s]INFO:root:Received the 9th task\n",
      "INFO:root:Received task 9 from 1\n",
      "DEBUG:root:Singular matrix\n",
      "ERROR:root:Error Task(id=9, task_type=<TaskType.SE: 1>, erm_problem_type=None, alpha=10.0, epsilon=0.0, test_against_epsilons=[0.0, 0.1], lam=0.1, tau=0.1, d=100, data_model=DataModel(d=100, normalize_matrices=False, data_model_factory=k_features_factory, factory_kwargs={'x_diagonal': KFeaturesDefinition(diagonal=[[100, 1]]), 'θ_diagonal': KFeaturesDefinition(diagonal=[[100, 1]]), 'ω_diagonal': KFeaturesDefinition(diagonal=[[100, 1]]), 'δ_diagonal': KFeaturesDefinition(diagonal=[[100, 1]]), 'ν_diagonal': KFeaturesDefinition(diagonal=[[100, 1]])}, name='', description='', gamma=1), values={}, gamma_fair_error=0.01, gamma=1, result=LinAlgError('Singular matrix'))\n",
      "ERROR:root:Singular matrix\n",
      "INFO:root:Received the 10th task\n",
      "INFO:root:Starting task 14\n",
      "DEBUG:root:DataModel(d=100, normalize_matrices=False, data_model_factory=k_features_factory, factory_kwargs={'x_diagonal': KFeaturesDefinition(diagonal=[[100, 1]]), 'θ_diagonal': KFeaturesDefinition(diagonal=[[100, 1]]), 'ω_diagonal': KFeaturesDefinition(diagonal=[[100, 1]]), 'δ_diagonal': KFeaturesDefinition(diagonal=[[100, 1]]), 'ν_diagonal': KFeaturesDefinition(diagonal=[[100, 1]])}, name='', description='', gamma=1)\n",
      "INFO:root:Initializing data model\n",
      "INFO:root:Starting task 13\n",
      "DEBUG:root:DataModel(d=100, normalize_matrices=False, data_model_factory=k_features_factory, factory_kwargs={'x_diagonal': KFeaturesDefinition(diagonal=[[100, 1]]), 'θ_diagonal': KFeaturesDefinition(diagonal=[[100, 1]]), 'ω_diagonal': KFeaturesDefinition(diagonal=[[100, 1]]), 'δ_diagonal': KFeaturesDefinition(diagonal=[[100, 1]]), 'ν_diagonal': KFeaturesDefinition(diagonal=[[100, 1]])}, name='', description='', gamma=1)\n",
      "INFO:root:Initializing data model\n",
      "ERROR:root:Singular matrix\n",
      "Traceback (most recent call last):\n",
      "  File \"/Users/kasimirtanner/Documents/LocalCode/Code_PDM/AISTATS/sweep/helpers.py\", line 65, in process_task\n",
      "    data_model.generate_model_matrices()\n",
      "  File \"/Users/kasimirtanner/Documents/LocalCode/Code_PDM/AISTATS/model/data.py\", line 113, in generate_model_matrices\n",
      "    assumption_1 = self.Σ_x - self.Σ_x.T @ np.linalg.inv(self.Σ_x) @ self.Σ_x\n",
      "                                           ^^^^^^^^^^^^^^^^^^^^^^^\n",
      "  File \"/Users/kasimirtanner/Documents/LocalCode/Code_PDM/AISTATS/.venv/lib/python3.11/site-packages/numpy/linalg/linalg.py\", line 561, in inv\n",
      "    ainv = _umath_linalg.inv(a, signature=signature, extobj=extobj)\n",
      "           ^^^^^^^^^^^^^^^^^^^^^^^^^^^^^^^^^^^^^^^^^^^^^^^^^^^^^^^^\n",
      "  File \"/Users/kasimirtanner/Documents/LocalCode/Code_PDM/AISTATS/.venv/lib/python3.11/site-packages/numpy/linalg/linalg.py\", line 112, in _raise_linalgerror_singular\n",
      "    raise LinAlgError(\"Singular matrix\")\n",
      "numpy.linalg.LinAlgError: Singular matrix\n",
      "INFO:root:Received task 11 from 2\n",
      "DEBUG:root:Singular matrix\n",
      "ERROR:root:Error Task(id=11, task_type=<TaskType.ERM: 0>, erm_problem_type=<ProblemType.Logistic: 0>, alpha=0.0, epsilon=0.0, test_against_epsilons=[0.0, 0.1], lam=0.1, tau=0.1, d=100, data_model=DataModel(d=100, normalize_matrices=False, data_model_factory=k_features_factory, factory_kwargs={'x_diagonal': KFeaturesDefinition(diagonal=[[100, 1]]), 'θ_diagonal': KFeaturesDefinition(diagonal=[[100, 1]]), 'ω_diagonal': KFeaturesDefinition(diagonal=[[100, 1]]), 'δ_diagonal': KFeaturesDefinition(diagonal=[[100, 1]]), 'ν_diagonal': KFeaturesDefinition(diagonal=[[100, 1]])}, name='', description='', gamma=1), values={}, gamma_fair_error=0.01, gamma=1, result=LinAlgError('Singular matrix'))\n",
      "ERROR:root:Singular matrix\n",
      " 55%|█████▌    | 11/20 [00:02<00:01,  4.99it/s]INFO:root:Received the 11th task\n",
      "ERROR:root:Singular matrix\n",
      "Traceback (most recent call last):\n",
      "  File \"/Users/kasimirtanner/Documents/LocalCode/Code_PDM/AISTATS/sweep/helpers.py\", line 65, in process_task\n",
      "    data_model.generate_model_matrices()\n",
      "  File \"/Users/kasimirtanner/Documents/LocalCode/Code_PDM/AISTATS/model/data.py\", line 113, in generate_model_matrices\n",
      "    assumption_1 = self.Σ_x - self.Σ_x.T @ np.linalg.inv(self.Σ_x) @ self.Σ_x\n",
      "                                           ^^^^^^^^^^^^^^^^^^^^^^^\n",
      "  File \"/Users/kasimirtanner/Documents/LocalCode/Code_PDM/AISTATS/.venv/lib/python3.11/site-packages/numpy/linalg/linalg.py\", line 561, in inv\n",
      "    ainv = _umath_linalg.inv(a, signature=signature, extobj=extobj)\n",
      "           ^^^^^^^^^^^^^^^^^^^^^^^^^^^^^^^^^^^^^^^^^^^^^^^^^^^^^^^^\n",
      "  File \"/Users/kasimirtanner/Documents/LocalCode/Code_PDM/AISTATS/.venv/lib/python3.11/site-packages/numpy/linalg/linalg.py\", line 112, in _raise_linalgerror_singular\n",
      "    raise LinAlgError(\"Singular matrix\")\n",
      "numpy.linalg.LinAlgError: Singular matrix\n",
      "INFO:root:Received task 12 from 4\n",
      "DEBUG:root:Singular matrix\n",
      "ERROR:root:Error Task(id=12, task_type=<TaskType.ERM: 0>, erm_problem_type=<ProblemType.Logistic: 0>, alpha=0.0, epsilon=0.1, test_against_epsilons=[0.0, 0.1], lam=0.1, tau=0.1, d=100, data_model=DataModel(d=100, normalize_matrices=False, data_model_factory=k_features_factory, factory_kwargs={'x_diagonal': KFeaturesDefinition(diagonal=[[100, 1]]), 'θ_diagonal': KFeaturesDefinition(diagonal=[[100, 1]]), 'ω_diagonal': KFeaturesDefinition(diagonal=[[100, 1]]), 'δ_diagonal': KFeaturesDefinition(diagonal=[[100, 1]]), 'ν_diagonal': KFeaturesDefinition(diagonal=[[100, 1]])}, name='', description='', gamma=1), values={}, gamma_fair_error=0.01, gamma=1, result=LinAlgError('Singular matrix'))\n",
      "ERROR:root:Singular matrix\n",
      "INFO:root:Received the 12th task\n",
      "INFO:root:Starting task 16\n",
      "DEBUG:root:DataModel(d=100, normalize_matrices=False, data_model_factory=k_features_factory, factory_kwargs={'x_diagonal': KFeaturesDefinition(diagonal=[[100, 1]]), 'θ_diagonal': KFeaturesDefinition(diagonal=[[100, 1]]), 'ω_diagonal': KFeaturesDefinition(diagonal=[[100, 1]]), 'δ_diagonal': KFeaturesDefinition(diagonal=[[100, 1]]), 'ν_diagonal': KFeaturesDefinition(diagonal=[[100, 1]])}, name='', description='', gamma=1)\n",
      "INFO:root:Initializing data model\n",
      "INFO:root:Starting task 15\n",
      "DEBUG:root:DataModel(d=100, normalize_matrices=False, data_model_factory=k_features_factory, factory_kwargs={'x_diagonal': KFeaturesDefinition(diagonal=[[100, 1]]), 'θ_diagonal': KFeaturesDefinition(diagonal=[[100, 1]]), 'ω_diagonal': KFeaturesDefinition(diagonal=[[100, 1]]), 'δ_diagonal': KFeaturesDefinition(diagonal=[[100, 1]]), 'ν_diagonal': KFeaturesDefinition(diagonal=[[100, 1]])}, name='', description='', gamma=1)\n",
      "INFO:root:Initializing data model\n"
     ]
    },
    {
     "name": "stdout",
     "output_type": "stream",
     "text": [
      "2025-02-13 22:55:23,753 - Rank 0 - INFO - Received task 10 from 3\n",
      "2025-02-13 22:55:23,753 - Rank 0 - DEBUG - Singular matrix\n",
      "2025-02-13 22:55:23,753 - Rank 0 - ERROR - Error Task(id=10, task_type=<TaskType.SE: 1>, erm_problem_type=None, alpha=10.0, epsilon=0.1, test_against_epsilons=[0.0, 0.1], lam=0.1, tau=0.1, d=100, data_model=DataModel(d=100, normalize_matrices=False, data_model_factory=k_features_factory, factory_kwargs={'x_diagonal': KFeaturesDefinition(diagonal=[[100, 1]]), 'θ_diagonal': KFeaturesDefinition(diagonal=[[100, 1]]), 'ω_diagonal': KFeaturesDefinition(diagonal=[[100, 1]]), 'δ_diagonal': KFeaturesDefinition(diagonal=[[100, 1]]), 'ν_diagonal': KFeaturesDefinition(diagonal=[[100, 1]])}, name='', description='', gamma=1), values={}, gamma_fair_error=0.01, gamma=1, result=LinAlgError('Singular matrix'))\n",
      "2025-02-13 22:55:23,755 - Rank 0 - ERROR - Singular matrix\n",
      "2025-02-13 22:55:23,755 - Rank 0 - INFO - Received the 9th task\n",
      "2025-02-13 22:55:23,756 - Rank 0 - INFO - Received task 9 from 1\n",
      "2025-02-13 22:55:23,756 - Rank 0 - DEBUG - Singular matrix\n",
      "2025-02-13 22:55:23,756 - Rank 0 - ERROR - Error Task(id=9, task_type=<TaskType.SE: 1>, erm_problem_type=None, alpha=10.0, epsilon=0.0, test_against_epsilons=[0.0, 0.1], lam=0.1, tau=0.1, d=100, data_model=DataModel(d=100, normalize_matrices=False, data_model_factory=k_features_factory, factory_kwargs={'x_diagonal': KFeaturesDefinition(diagonal=[[100, 1]]), 'θ_diagonal': KFeaturesDefinition(diagonal=[[100, 1]]), 'ω_diagonal': KFeaturesDefinition(diagonal=[[100, 1]]), 'δ_diagonal': KFeaturesDefinition(diagonal=[[100, 1]]), 'ν_diagonal': KFeaturesDefinition(diagonal=[[100, 1]])}, name='', description='', gamma=1), values={}, gamma_fair_error=0.01, gamma=1, result=LinAlgError('Singular matrix'))\n",
      "2025-02-13 22:55:23,756 - Rank 0 - ERROR - Singular matrix\n",
      "2025-02-13 22:55:23,756 - Rank 0 - INFO - Received the 10th task\n",
      "2025-02-13 22:55:23,865 - Rank 0 - INFO - Received task 11 from 2\n",
      "2025-02-13 22:55:23,865 - Rank 0 - DEBUG - Singular matrix\n",
      "2025-02-13 22:55:23,865 - Rank 0 - ERROR - Error Task(id=11, task_type=<TaskType.ERM: 0>, erm_problem_type=<ProblemType.Logistic: 0>, alpha=0.0, epsilon=0.0, test_against_epsilons=[0.0, 0.1], lam=0.1, tau=0.1, d=100, data_model=DataModel(d=100, normalize_matrices=False, data_model_factory=k_features_factory, factory_kwargs={'x_diagonal': KFeaturesDefinition(diagonal=[[100, 1]]), 'θ_diagonal': KFeaturesDefinition(diagonal=[[100, 1]]), 'ω_diagonal': KFeaturesDefinition(diagonal=[[100, 1]]), 'δ_diagonal': KFeaturesDefinition(diagonal=[[100, 1]]), 'ν_diagonal': KFeaturesDefinition(diagonal=[[100, 1]])}, name='', description='', gamma=1), values={}, gamma_fair_error=0.01, gamma=1, result=LinAlgError('Singular matrix'))\n",
      "2025-02-13 22:55:23,865 - Rank 0 - ERROR - Singular matrix\n",
      "2025-02-13 22:55:23,865 - Rank 0 - INFO - Received the 11th task\n",
      "2025-02-13 22:55:23,904 - Rank 0 - INFO - Received task 12 from 4\n",
      "2025-02-13 22:55:23,904 - Rank 0 - DEBUG - Singular matrix\n",
      "2025-02-13 22:55:23,904 - Rank 0 - ERROR - Error Task(id=12, task_type=<TaskType.ERM: 0>, erm_problem_type=<ProblemType.Logistic: 0>, alpha=0.0, epsilon=0.1, test_against_epsilons=[0.0, 0.1], lam=0.1, tau=0.1, d=100, data_model=DataModel(d=100, normalize_matrices=False, data_model_factory=k_features_factory, factory_kwargs={'x_diagonal': KFeaturesDefinition(diagonal=[[100, 1]]), 'θ_diagonal': KFeaturesDefinition(diagonal=[[100, 1]]), 'ω_diagonal': KFeaturesDefinition(diagonal=[[100, 1]]), 'δ_diagonal': KFeaturesDefinition(diagonal=[[100, 1]]), 'ν_diagonal': KFeaturesDefinition(diagonal=[[100, 1]])}, name='', description='', gamma=1), values={}, gamma_fair_error=0.01, gamma=1, result=LinAlgError('Singular matrix'))\n",
      "2025-02-13 22:55:23,904 - Rank 0 - ERROR - Singular matrix\n",
      "2025-02-13 22:55:23,904 - Rank 0 - INFO - Received the 12th task\n"
     ]
    },
    {
     "name": "stderr",
     "output_type": "stream",
     "text": [
      "ERROR:root:Singular matrix\n",
      "Traceback (most recent call last):\n",
      "  File \"/Users/kasimirtanner/Documents/LocalCode/Code_PDM/AISTATS/sweep/helpers.py\", line 65, in process_task\n",
      "    data_model.generate_model_matrices()\n",
      "  File \"/Users/kasimirtanner/Documents/LocalCode/Code_PDM/AISTATS/model/data.py\", line 113, in generate_model_matrices\n",
      "    assumption_1 = self.Σ_x - self.Σ_x.T @ np.linalg.inv(self.Σ_x) @ self.Σ_x\n",
      "                                           ^^^^^^^^^^^^^^^^^^^^^^^\n",
      "  File \"/Users/kasimirtanner/Documents/LocalCode/Code_PDM/AISTATS/.venv/lib/python3.11/site-packages/numpy/linalg/linalg.py\", line 561, in inv\n",
      "    ainv = _umath_linalg.inv(a, signature=signature, extobj=extobj)\n",
      "           ^^^^^^^^^^^^^^^^^^^^^^^^^^^^^^^^^^^^^^^^^^^^^^^^^^^^^^^^\n",
      "  File \"/Users/kasimirtanner/Documents/LocalCode/Code_PDM/AISTATS/.venv/lib/python3.11/site-packages/numpy/linalg/linalg.py\", line 112, in _raise_linalgerror_singular\n",
      "    raise LinAlgError(\"Singular matrix\")\n",
      "numpy.linalg.LinAlgError: Singular matrix\n",
      "INFO:root:Received task 14 from 1\n",
      "DEBUG:root:Singular matrix\n",
      "ERROR:root:Error Task(id=14, task_type=<TaskType.ERM: 0>, erm_problem_type=<ProblemType.Logistic: 0>, alpha=2.5, epsilon=0.1, test_against_epsilons=[0.0, 0.1], lam=0.1, tau=0.1, d=100, data_model=DataModel(d=100, normalize_matrices=False, data_model_factory=k_features_factory, factory_kwargs={'x_diagonal': KFeaturesDefinition(diagonal=[[100, 1]]), 'θ_diagonal': KFeaturesDefinition(diagonal=[[100, 1]]), 'ω_diagonal': KFeaturesDefinition(diagonal=[[100, 1]]), 'δ_diagonal': KFeaturesDefinition(diagonal=[[100, 1]]), 'ν_diagonal': KFeaturesDefinition(diagonal=[[100, 1]])}, name='', description='', gamma=1), values={}, gamma_fair_error=0.01, gamma=1, result=LinAlgError('Singular matrix'))\n",
      "ERROR:root:Singular matrix\n",
      " 65%|██████▌   | 13/20 [00:03<00:01,  4.19it/s]INFO:root:Received the 13th task\n",
      "INFO:root:Starting task 17\n",
      "DEBUG:root:DataModel(d=100, normalize_matrices=False, data_model_factory=k_features_factory, factory_kwargs={'x_diagonal': KFeaturesDefinition(diagonal=[[100, 1]]), 'θ_diagonal': KFeaturesDefinition(diagonal=[[100, 1]]), 'ω_diagonal': KFeaturesDefinition(diagonal=[[100, 1]]), 'δ_diagonal': KFeaturesDefinition(diagonal=[[100, 1]]), 'ν_diagonal': KFeaturesDefinition(diagonal=[[100, 1]])}, name='', description='', gamma=1)\n",
      "INFO:root:Initializing data model\n"
     ]
    },
    {
     "name": "stdout",
     "output_type": "stream",
     "text": [
      "2025-02-13 22:55:24,471 - Rank 0 - INFO - Received task 14 from 1\n",
      "2025-02-13 22:55:24,471 - Rank 0 - DEBUG - Singular matrix\n",
      "2025-02-13 22:55:24,471 - Rank 0 - ERROR - Error Task(id=14, task_type=<TaskType.ERM: 0>, erm_problem_type=<ProblemType.Logistic: 0>, alpha=2.5, epsilon=0.1, test_against_epsilons=[0.0, 0.1], lam=0.1, tau=0.1, d=100, data_model=DataModel(d=100, normalize_matrices=False, data_model_factory=k_features_factory, factory_kwargs={'x_diagonal': KFeaturesDefinition(diagonal=[[100, 1]]), 'θ_diagonal': KFeaturesDefinition(diagonal=[[100, 1]]), 'ω_diagonal': KFeaturesDefinition(diagonal=[[100, 1]]), 'δ_diagonal': KFeaturesDefinition(diagonal=[[100, 1]]), 'ν_diagonal': KFeaturesDefinition(diagonal=[[100, 1]])}, name='', description='', gamma=1), values={}, gamma_fair_error=0.01, gamma=1, result=LinAlgError('Singular matrix'))\n",
      "2025-02-13 22:55:24,471 - Rank 0 - ERROR - Singular matrix\n",
      "2025-02-13 22:55:24,471 - Rank 0 - INFO - Received the 13th task\n"
     ]
    },
    {
     "name": "stderr",
     "output_type": "stream",
     "text": [
      "ERROR:root:Singular matrix\n",
      "Traceback (most recent call last):\n",
      "  File \"/Users/kasimirtanner/Documents/LocalCode/Code_PDM/AISTATS/sweep/helpers.py\", line 65, in process_task\n",
      "    data_model.generate_model_matrices()\n",
      "  File \"/Users/kasimirtanner/Documents/LocalCode/Code_PDM/AISTATS/model/data.py\", line 113, in generate_model_matrices\n",
      "    assumption_1 = self.Σ_x - self.Σ_x.T @ np.linalg.inv(self.Σ_x) @ self.Σ_x\n",
      "                                           ^^^^^^^^^^^^^^^^^^^^^^^\n",
      "  File \"/Users/kasimirtanner/Documents/LocalCode/Code_PDM/AISTATS/.venv/lib/python3.11/site-packages/numpy/linalg/linalg.py\", line 561, in inv\n",
      "    ainv = _umath_linalg.inv(a, signature=signature, extobj=extobj)\n",
      "           ^^^^^^^^^^^^^^^^^^^^^^^^^^^^^^^^^^^^^^^^^^^^^^^^^^^^^^^^\n",
      "  File \"/Users/kasimirtanner/Documents/LocalCode/Code_PDM/AISTATS/.venv/lib/python3.11/site-packages/numpy/linalg/linalg.py\", line 112, in _raise_linalgerror_singular\n",
      "    raise LinAlgError(\"Singular matrix\")\n",
      "numpy.linalg.LinAlgError: Singular matrix\n",
      "INFO:root:Received task 13 from 3\n",
      "DEBUG:root:Singular matrix\n",
      "ERROR:root:Error Task(id=13, task_type=<TaskType.ERM: 0>, erm_problem_type=<ProblemType.Logistic: 0>, alpha=2.5, epsilon=0.0, test_against_epsilons=[0.0, 0.1], lam=0.1, tau=0.1, d=100, data_model=DataModel(d=100, normalize_matrices=False, data_model_factory=k_features_factory, factory_kwargs={'x_diagonal': KFeaturesDefinition(diagonal=[[100, 1]]), 'θ_diagonal': KFeaturesDefinition(diagonal=[[100, 1]]), 'ω_diagonal': KFeaturesDefinition(diagonal=[[100, 1]]), 'δ_diagonal': KFeaturesDefinition(diagonal=[[100, 1]]), 'ν_diagonal': KFeaturesDefinition(diagonal=[[100, 1]])}, name='', description='', gamma=1), values={}, gamma_fair_error=0.01, gamma=1, result=LinAlgError('Singular matrix'))\n",
      "ERROR:root:Singular matrix\n",
      " 70%|███████   | 14/20 [00:03<00:01,  4.15it/s]INFO:root:Received the 14th task\n",
      "INFO:root:Starting task 18\n",
      "DEBUG:root:DataModel(d=100, normalize_matrices=False, data_model_factory=k_features_factory, factory_kwargs={'x_diagonal': KFeaturesDefinition(diagonal=[[100, 1]]), 'θ_diagonal': KFeaturesDefinition(diagonal=[[100, 1]]), 'ω_diagonal': KFeaturesDefinition(diagonal=[[100, 1]]), 'δ_diagonal': KFeaturesDefinition(diagonal=[[100, 1]]), 'ν_diagonal': KFeaturesDefinition(diagonal=[[100, 1]])}, name='', description='', gamma=1)\n",
      "INFO:root:Initializing data model\n",
      "ERROR:root:Singular matrix\n",
      "Traceback (most recent call last):\n",
      "  File \"/Users/kasimirtanner/Documents/LocalCode/Code_PDM/AISTATS/sweep/helpers.py\", line 65, in process_task\n",
      "    data_model.generate_model_matrices()\n",
      "  File \"/Users/kasimirtanner/Documents/LocalCode/Code_PDM/AISTATS/model/data.py\", line 113, in generate_model_matrices\n",
      "    assumption_1 = self.Σ_x - self.Σ_x.T @ np.linalg.inv(self.Σ_x) @ self.Σ_x\n",
      "                                           ^^^^^^^^^^^^^^^^^^^^^^^\n",
      "  File \"/Users/kasimirtanner/Documents/LocalCode/Code_PDM/AISTATS/.venv/lib/python3.11/site-packages/numpy/linalg/linalg.py\", line 561, in inv\n",
      "    ainv = _umath_linalg.inv(a, signature=signature, extobj=extobj)\n",
      "           ^^^^^^^^^^^^^^^^^^^^^^^^^^^^^^^^^^^^^^^^^^^^^^^^^^^^^^^^\n",
      "  File \"/Users/kasimirtanner/Documents/LocalCode/Code_PDM/AISTATS/.venv/lib/python3.11/site-packages/numpy/linalg/linalg.py\", line 112, in _raise_linalgerror_singular\n",
      "    raise LinAlgError(\"Singular matrix\")\n",
      "numpy.linalg.LinAlgError: Singular matrix\n",
      "INFO:root:Received task 16 from 4\n",
      "DEBUG:root:Singular matrix\n",
      "ERROR:root:Error Task(id=16, task_type=<TaskType.ERM: 0>, erm_problem_type=<ProblemType.Logistic: 0>, alpha=5.0, epsilon=0.1, test_against_epsilons=[0.0, 0.1], lam=0.1, tau=0.1, d=100, data_model=DataModel(d=100, normalize_matrices=False, data_model_factory=k_features_factory, factory_kwargs={'x_diagonal': KFeaturesDefinition(diagonal=[[100, 1]]), 'θ_diagonal': KFeaturesDefinition(diagonal=[[100, 1]]), 'ω_diagonal': KFeaturesDefinition(diagonal=[[100, 1]]), 'δ_diagonal': KFeaturesDefinition(diagonal=[[100, 1]]), 'ν_diagonal': KFeaturesDefinition(diagonal=[[100, 1]])}, name='', description='', gamma=1), values={}, gamma_fair_error=0.01, gamma=1, result=LinAlgError('Singular matrix'))\n",
      "ERROR:root:Singular matrix\n",
      " 75%|███████▌  | 15/20 [00:03<00:01,  4.53it/s]INFO:root:Received the 15th task\n",
      "INFO:root:Starting task 19\n",
      "DEBUG:root:DataModel(d=100, normalize_matrices=False, data_model_factory=k_features_factory, factory_kwargs={'x_diagonal': KFeaturesDefinition(diagonal=[[100, 1]]), 'θ_diagonal': KFeaturesDefinition(diagonal=[[100, 1]]), 'ω_diagonal': KFeaturesDefinition(diagonal=[[100, 1]]), 'δ_diagonal': KFeaturesDefinition(diagonal=[[100, 1]]), 'ν_diagonal': KFeaturesDefinition(diagonal=[[100, 1]])}, name='', description='', gamma=1)\n",
      "INFO:root:Initializing data model\n"
     ]
    },
    {
     "name": "stdout",
     "output_type": "stream",
     "text": [
      "2025-02-13 22:55:24,692 - Rank 0 - INFO - Received task 13 from 3\n",
      "2025-02-13 22:55:24,692 - Rank 0 - DEBUG - Singular matrix\n",
      "2025-02-13 22:55:24,721 - Rank 0 - ERROR - Error Task(id=13, task_type=<TaskType.ERM: 0>, erm_problem_type=<ProblemType.Logistic: 0>, alpha=2.5, epsilon=0.0, test_against_epsilons=[0.0, 0.1], lam=0.1, tau=0.1, d=100, data_model=DataModel(d=100, normalize_matrices=False, data_model_factory=k_features_factory, factory_kwargs={'x_diagonal': KFeaturesDefinition(diagonal=[[100, 1]]), 'θ_diagonal': KFeaturesDefinition(diagonal=[[100, 1]]), 'ω_diagonal': KFeaturesDefinition(diagonal=[[100, 1]]), 'δ_diagonal': KFeaturesDefinition(diagonal=[[100, 1]]), 'ν_diagonal': KFeaturesDefinition(diagonal=[[100, 1]])}, name='', description='', gamma=1), values={}, gamma_fair_error=0.01, gamma=1, result=LinAlgError('Singular matrix'))\n",
      "2025-02-13 22:55:24,721 - Rank 0 - ERROR - Singular matrix\n",
      "2025-02-13 22:55:24,721 - Rank 0 - INFO - Received the 14th task\n",
      "2025-02-13 22:55:24,841 - Rank 0 - INFO - Received task 16 from 4\n",
      "2025-02-13 22:55:24,858 - Rank 0 - DEBUG - Singular matrix\n",
      "2025-02-13 22:55:24,874 - Rank 0 - ERROR - Error Task(id=16, task_type=<TaskType.ERM: 0>, erm_problem_type=<ProblemType.Logistic: 0>, alpha=5.0, epsilon=0.1, test_against_epsilons=[0.0, 0.1], lam=0.1, tau=0.1, d=100, data_model=DataModel(d=100, normalize_matrices=False, data_model_factory=k_features_factory, factory_kwargs={'x_diagonal': KFeaturesDefinition(diagonal=[[100, 1]]), 'θ_diagonal': KFeaturesDefinition(diagonal=[[100, 1]]), 'ω_diagonal': KFeaturesDefinition(diagonal=[[100, 1]]), 'δ_diagonal': KFeaturesDefinition(diagonal=[[100, 1]]), 'ν_diagonal': KFeaturesDefinition(diagonal=[[100, 1]])}, name='', description='', gamma=1), values={}, gamma_fair_error=0.01, gamma=1, result=LinAlgError('Singular matrix'))\n",
      "2025-02-13 22:55:24,874 - Rank 0 - ERROR - Singular matrix\n",
      "2025-02-13 22:55:24,874 - Rank 0 - INFO - Received the 15th task\n"
     ]
    },
    {
     "name": "stderr",
     "output_type": "stream",
     "text": [
      "ERROR:root:Singular matrix\n",
      "Traceback (most recent call last):\n",
      "  File \"/Users/kasimirtanner/Documents/LocalCode/Code_PDM/AISTATS/sweep/helpers.py\", line 65, in process_task\n",
      "    data_model.generate_model_matrices()\n",
      "  File \"/Users/kasimirtanner/Documents/LocalCode/Code_PDM/AISTATS/model/data.py\", line 113, in generate_model_matrices\n",
      "    assumption_1 = self.Σ_x - self.Σ_x.T @ np.linalg.inv(self.Σ_x) @ self.Σ_x\n",
      "                                           ^^^^^^^^^^^^^^^^^^^^^^^\n",
      "  File \"/Users/kasimirtanner/Documents/LocalCode/Code_PDM/AISTATS/.venv/lib/python3.11/site-packages/numpy/linalg/linalg.py\", line 561, in inv\n",
      "    ainv = _umath_linalg.inv(a, signature=signature, extobj=extobj)\n",
      "           ^^^^^^^^^^^^^^^^^^^^^^^^^^^^^^^^^^^^^^^^^^^^^^^^^^^^^^^^\n",
      "  File \"/Users/kasimirtanner/Documents/LocalCode/Code_PDM/AISTATS/.venv/lib/python3.11/site-packages/numpy/linalg/linalg.py\", line 112, in _raise_linalgerror_singular\n",
      "    raise LinAlgError(\"Singular matrix\")\n",
      "numpy.linalg.LinAlgError: Singular matrix\n",
      "INFO:root:Received task 15 from 2\n",
      "DEBUG:root:Singular matrix\n",
      "ERROR:root:Error Task(id=15, task_type=<TaskType.ERM: 0>, erm_problem_type=<ProblemType.Logistic: 0>, alpha=5.0, epsilon=0.0, test_against_epsilons=[0.0, 0.1], lam=0.1, tau=0.1, d=100, data_model=DataModel(d=100, normalize_matrices=False, data_model_factory=k_features_factory, factory_kwargs={'x_diagonal': KFeaturesDefinition(diagonal=[[100, 1]]), 'θ_diagonal': KFeaturesDefinition(diagonal=[[100, 1]]), 'ω_diagonal': KFeaturesDefinition(diagonal=[[100, 1]]), 'δ_diagonal': KFeaturesDefinition(diagonal=[[100, 1]]), 'ν_diagonal': KFeaturesDefinition(diagonal=[[100, 1]])}, name='', description='', gamma=1), values={}, gamma_fair_error=0.01, gamma=1, result=LinAlgError('Singular matrix'))\n",
      "ERROR:root:Singular matrix\n",
      "INFO:root:Received the 16th task\n",
      "INFO:root:Starting task 20\n",
      "DEBUG:root:DataModel(d=100, normalize_matrices=False, data_model_factory=k_features_factory, factory_kwargs={'x_diagonal': KFeaturesDefinition(diagonal=[[100, 1]]), 'θ_diagonal': KFeaturesDefinition(diagonal=[[100, 1]]), 'ω_diagonal': KFeaturesDefinition(diagonal=[[100, 1]]), 'δ_diagonal': KFeaturesDefinition(diagonal=[[100, 1]]), 'ν_diagonal': KFeaturesDefinition(diagonal=[[100, 1]])}, name='', description='', gamma=1)\n",
      "INFO:root:Initializing data model\n"
     ]
    },
    {
     "name": "stdout",
     "output_type": "stream",
     "text": [
      "2025-02-13 22:55:24,913 - Rank 0 - INFO - Received task 15 from 2\n",
      "2025-02-13 22:55:24,913 - Rank 0 - DEBUG - Singular matrix\n",
      "2025-02-13 22:55:24,913 - Rank 0 - ERROR - Error Task(id=15, task_type=<TaskType.ERM: 0>, erm_problem_type=<ProblemType.Logistic: 0>, alpha=5.0, epsilon=0.0, test_against_epsilons=[0.0, 0.1], lam=0.1, tau=0.1, d=100, data_model=DataModel(d=100, normalize_matrices=False, data_model_factory=k_features_factory, factory_kwargs={'x_diagonal': KFeaturesDefinition(diagonal=[[100, 1]]), 'θ_diagonal': KFeaturesDefinition(diagonal=[[100, 1]]), 'ω_diagonal': KFeaturesDefinition(diagonal=[[100, 1]]), 'δ_diagonal': KFeaturesDefinition(diagonal=[[100, 1]]), 'ν_diagonal': KFeaturesDefinition(diagonal=[[100, 1]])}, name='', description='', gamma=1), values={}, gamma_fair_error=0.01, gamma=1, result=LinAlgError('Singular matrix'))\n",
      "2025-02-13 22:55:24,914 - Rank 0 - ERROR - Singular matrix\n",
      "2025-02-13 22:55:24,914 - Rank 0 - INFO - Received the 16th task\n"
     ]
    },
    {
     "name": "stderr",
     "output_type": "stream",
     "text": [
      "ERROR:root:Singular matrix\n",
      "Traceback (most recent call last):\n",
      "  File \"/Users/kasimirtanner/Documents/LocalCode/Code_PDM/AISTATS/sweep/helpers.py\", line 65, in process_task\n",
      "    data_model.generate_model_matrices()\n",
      "  File \"/Users/kasimirtanner/Documents/LocalCode/Code_PDM/AISTATS/model/data.py\", line 113, in generate_model_matrices\n",
      "    assumption_1 = self.Σ_x - self.Σ_x.T @ np.linalg.inv(self.Σ_x) @ self.Σ_x\n",
      "                                           ^^^^^^^^^^^^^^^^^^^^^^^\n",
      "  File \"/Users/kasimirtanner/Documents/LocalCode/Code_PDM/AISTATS/.venv/lib/python3.11/site-packages/numpy/linalg/linalg.py\", line 561, in inv\n",
      "    ainv = _umath_linalg.inv(a, signature=signature, extobj=extobj)\n",
      "           ^^^^^^^^^^^^^^^^^^^^^^^^^^^^^^^^^^^^^^^^^^^^^^^^^^^^^^^^\n",
      "  File \"/Users/kasimirtanner/Documents/LocalCode/Code_PDM/AISTATS/.venv/lib/python3.11/site-packages/numpy/linalg/linalg.py\", line 112, in _raise_linalgerror_singular\n",
      "    raise LinAlgError(\"Singular matrix\")\n",
      "numpy.linalg.LinAlgError: Singular matrix\n",
      "INFO:root:Received task 17 from 1\n",
      "DEBUG:root:Singular matrix\n",
      "ERROR:root:Error Task(id=17, task_type=<TaskType.ERM: 0>, erm_problem_type=<ProblemType.Logistic: 0>, alpha=7.5, epsilon=0.0, test_against_epsilons=[0.0, 0.1], lam=0.1, tau=0.1, d=100, data_model=DataModel(d=100, normalize_matrices=False, data_model_factory=k_features_factory, factory_kwargs={'x_diagonal': KFeaturesDefinition(diagonal=[[100, 1]]), 'θ_diagonal': KFeaturesDefinition(diagonal=[[100, 1]]), 'ω_diagonal': KFeaturesDefinition(diagonal=[[100, 1]]), 'δ_diagonal': KFeaturesDefinition(diagonal=[[100, 1]]), 'ν_diagonal': KFeaturesDefinition(diagonal=[[100, 1]])}, name='', description='', gamma=1), values={}, gamma_fair_error=0.01, gamma=1, result=LinAlgError('Singular matrix'))\n",
      "ERROR:root:Singular matrix\n",
      " 85%|████████▌ | 17/20 [00:04<00:00,  5.00it/s]INFO:root:Received the 17th task\n",
      "ERROR:root:Singular matrix\n",
      "Traceback (most recent call last):\n",
      "  File \"/Users/kasimirtanner/Documents/LocalCode/Code_PDM/AISTATS/sweep/helpers.py\", line 65, in process_task\n",
      "    data_model.generate_model_matrices()\n",
      "  File \"/Users/kasimirtanner/Documents/LocalCode/Code_PDM/AISTATS/model/data.py\", line 113, in generate_model_matrices\n",
      "    assumption_1 = self.Σ_x - self.Σ_x.T @ np.linalg.inv(self.Σ_x) @ self.Σ_x\n",
      "                                           ^^^^^^^^^^^^^^^^^^^^^^^\n",
      "  File \"/Users/kasimirtanner/Documents/LocalCode/Code_PDM/AISTATS/.venv/lib/python3.11/site-packages/numpy/linalg/linalg.py\", line 561, in inv\n",
      "    ainv = _umath_linalg.inv(a, signature=signature, extobj=extobj)\n",
      "           ^^^^^^^^^^^^^^^^^^^^^^^^^^^^^^^^^^^^^^^^^^^^^^^^^^^^^^^^\n",
      "  File \"/Users/kasimirtanner/Documents/LocalCode/Code_PDM/AISTATS/.venv/lib/python3.11/site-packages/numpy/linalg/linalg.py\", line 112, in _raise_linalgerror_singular\n",
      "    raise LinAlgError(\"Singular matrix\")\n",
      "numpy.linalg.LinAlgError: Singular matrix\n",
      "INFO:root:Received task 18 from 3\n",
      "DEBUG:root:Singular matrix\n",
      "ERROR:root:Error Task(id=18, task_type=<TaskType.ERM: 0>, erm_problem_type=<ProblemType.Logistic: 0>, alpha=7.5, epsilon=0.1, test_against_epsilons=[0.0, 0.1], lam=0.1, tau=0.1, d=100, data_model=DataModel(d=100, normalize_matrices=False, data_model_factory=k_features_factory, factory_kwargs={'x_diagonal': KFeaturesDefinition(diagonal=[[100, 1]]), 'θ_diagonal': KFeaturesDefinition(diagonal=[[100, 1]]), 'ω_diagonal': KFeaturesDefinition(diagonal=[[100, 1]]), 'δ_diagonal': KFeaturesDefinition(diagonal=[[100, 1]]), 'ν_diagonal': KFeaturesDefinition(diagonal=[[100, 1]])}, name='', description='', gamma=1), values={}, gamma_fair_error=0.01, gamma=1, result=LinAlgError('Singular matrix'))\n",
      "ERROR:root:Singular matrix\n",
      " 90%|█████████ | 18/20 [00:04<00:00,  5.60it/s]INFO:root:Received the 18th task\n"
     ]
    },
    {
     "name": "stdout",
     "output_type": "stream",
     "text": [
      "2025-02-13 22:55:25,211 - Rank 0 - INFO - Received task 17 from 1\n",
      "2025-02-13 22:55:25,211 - Rank 0 - DEBUG - Singular matrix\n",
      "2025-02-13 22:55:25,211 - Rank 0 - ERROR - Error Task(id=17, task_type=<TaskType.ERM: 0>, erm_problem_type=<ProblemType.Logistic: 0>, alpha=7.5, epsilon=0.0, test_against_epsilons=[0.0, 0.1], lam=0.1, tau=0.1, d=100, data_model=DataModel(d=100, normalize_matrices=False, data_model_factory=k_features_factory, factory_kwargs={'x_diagonal': KFeaturesDefinition(diagonal=[[100, 1]]), 'θ_diagonal': KFeaturesDefinition(diagonal=[[100, 1]]), 'ω_diagonal': KFeaturesDefinition(diagonal=[[100, 1]]), 'δ_diagonal': KFeaturesDefinition(diagonal=[[100, 1]]), 'ν_diagonal': KFeaturesDefinition(diagonal=[[100, 1]])}, name='', description='', gamma=1), values={}, gamma_fair_error=0.01, gamma=1, result=LinAlgError('Singular matrix'))\n",
      "2025-02-13 22:55:25,211 - Rank 0 - ERROR - Singular matrix\n",
      "2025-02-13 22:55:25,211 - Rank 0 - INFO - Received the 17th task\n",
      "2025-02-13 22:55:25,314 - Rank 0 - INFO - Received task 18 from 3\n",
      "2025-02-13 22:55:25,314 - Rank 0 - DEBUG - Singular matrix\n",
      "2025-02-13 22:55:25,314 - Rank 0 - ERROR - Error Task(id=18, task_type=<TaskType.ERM: 0>, erm_problem_type=<ProblemType.Logistic: 0>, alpha=7.5, epsilon=0.1, test_against_epsilons=[0.0, 0.1], lam=0.1, tau=0.1, d=100, data_model=DataModel(d=100, normalize_matrices=False, data_model_factory=k_features_factory, factory_kwargs={'x_diagonal': KFeaturesDefinition(diagonal=[[100, 1]]), 'θ_diagonal': KFeaturesDefinition(diagonal=[[100, 1]]), 'ω_diagonal': KFeaturesDefinition(diagonal=[[100, 1]]), 'δ_diagonal': KFeaturesDefinition(diagonal=[[100, 1]]), 'ν_diagonal': KFeaturesDefinition(diagonal=[[100, 1]])}, name='', description='', gamma=1), values={}, gamma_fair_error=0.01, gamma=1, result=LinAlgError('Singular matrix'))\n",
      "2025-02-13 22:55:25,314 - Rank 0 - ERROR - Singular matrix\n",
      "2025-02-13 22:55:25,315 - Rank 0 - INFO - Received the 18th task\n"
     ]
    },
    {
     "name": "stderr",
     "output_type": "stream",
     "text": [
      "ERROR:root:Singular matrix\n",
      "Traceback (most recent call last):\n",
      "  File \"/Users/kasimirtanner/Documents/LocalCode/Code_PDM/AISTATS/sweep/helpers.py\", line 65, in process_task\n",
      "    data_model.generate_model_matrices()\n",
      "  File \"/Users/kasimirtanner/Documents/LocalCode/Code_PDM/AISTATS/model/data.py\", line 113, in generate_model_matrices\n",
      "    assumption_1 = self.Σ_x - self.Σ_x.T @ np.linalg.inv(self.Σ_x) @ self.Σ_x\n",
      "                                           ^^^^^^^^^^^^^^^^^^^^^^^\n",
      "  File \"/Users/kasimirtanner/Documents/LocalCode/Code_PDM/AISTATS/.venv/lib/python3.11/site-packages/numpy/linalg/linalg.py\", line 561, in inv\n",
      "    ainv = _umath_linalg.inv(a, signature=signature, extobj=extobj)\n",
      "           ^^^^^^^^^^^^^^^^^^^^^^^^^^^^^^^^^^^^^^^^^^^^^^^^^^^^^^^^\n",
      "  File \"/Users/kasimirtanner/Documents/LocalCode/Code_PDM/AISTATS/.venv/lib/python3.11/site-packages/numpy/linalg/linalg.py\", line 112, in _raise_linalgerror_singular\n",
      "    raise LinAlgError(\"Singular matrix\")\n",
      "numpy.linalg.LinAlgError: Singular matrix\n",
      "INFO:root:Received task 19 from 4\n",
      "DEBUG:root:Singular matrix\n",
      "ERROR:root:Error Task(id=19, task_type=<TaskType.ERM: 0>, erm_problem_type=<ProblemType.Logistic: 0>, alpha=10.0, epsilon=0.0, test_against_epsilons=[0.0, 0.1], lam=0.1, tau=0.1, d=100, data_model=DataModel(d=100, normalize_matrices=False, data_model_factory=k_features_factory, factory_kwargs={'x_diagonal': KFeaturesDefinition(diagonal=[[100, 1]]), 'θ_diagonal': KFeaturesDefinition(diagonal=[[100, 1]]), 'ω_diagonal': KFeaturesDefinition(diagonal=[[100, 1]]), 'δ_diagonal': KFeaturesDefinition(diagonal=[[100, 1]]), 'ν_diagonal': KFeaturesDefinition(diagonal=[[100, 1]])}, name='', description='', gamma=1), values={}, gamma_fair_error=0.01, gamma=1, result=LinAlgError('Singular matrix'))\n",
      "ERROR:root:Singular matrix\n",
      " 95%|█████████▌| 19/20 [00:04<00:00,  5.21it/s]INFO:root:Received the 19th task\n",
      "ERROR:root:Singular matrix\n",
      "Traceback (most recent call last):\n",
      "  File \"/Users/kasimirtanner/Documents/LocalCode/Code_PDM/AISTATS/sweep/helpers.py\", line 65, in process_task\n",
      "    data_model.generate_model_matrices()\n",
      "  File \"/Users/kasimirtanner/Documents/LocalCode/Code_PDM/AISTATS/model/data.py\", line 113, in generate_model_matrices\n",
      "    assumption_1 = self.Σ_x - self.Σ_x.T @ np.linalg.inv(self.Σ_x) @ self.Σ_x\n",
      "                                           ^^^^^^^^^^^^^^^^^^^^^^^\n",
      "  File \"/Users/kasimirtanner/Documents/LocalCode/Code_PDM/AISTATS/.venv/lib/python3.11/site-packages/numpy/linalg/linalg.py\", line 561, in inv\n",
      "    ainv = _umath_linalg.inv(a, signature=signature, extobj=extobj)\n",
      "           ^^^^^^^^^^^^^^^^^^^^^^^^^^^^^^^^^^^^^^^^^^^^^^^^^^^^^^^^\n",
      "  File \"/Users/kasimirtanner/Documents/LocalCode/Code_PDM/AISTATS/.venv/lib/python3.11/site-packages/numpy/linalg/linalg.py\", line 112, in _raise_linalgerror_singular\n",
      "    raise LinAlgError(\"Singular matrix\")\n",
      "numpy.linalg.LinAlgError: Singular matrix\n",
      "INFO:root:Received task 20 from 2\n",
      "DEBUG:root:Singular matrix\n",
      "ERROR:root:Error Task(id=20, task_type=<TaskType.ERM: 0>, erm_problem_type=<ProblemType.Logistic: 0>, alpha=10.0, epsilon=0.1, test_against_epsilons=[0.0, 0.1], lam=0.1, tau=0.1, d=100, data_model=DataModel(d=100, normalize_matrices=False, data_model_factory=k_features_factory, factory_kwargs={'x_diagonal': KFeaturesDefinition(diagonal=[[100, 1]]), 'θ_diagonal': KFeaturesDefinition(diagonal=[[100, 1]]), 'ω_diagonal': KFeaturesDefinition(diagonal=[[100, 1]]), 'δ_diagonal': KFeaturesDefinition(diagonal=[[100, 1]]), 'ν_diagonal': KFeaturesDefinition(diagonal=[[100, 1]])}, name='', description='', gamma=1), values={}, gamma_fair_error=0.01, gamma=1, result=LinAlgError('Singular matrix'))\n",
      "ERROR:root:Singular matrix\n",
      "INFO:root:All tasks sent and received\n",
      "INFO:root:Marking experiment vanilla-gaussian as finished\n",
      "INFO:root:Experiment took 4 seconds\n",
      "100%|██████████| 20/20 [00:04<00:00,  4.55it/s]\n",
      "INFO:root:All done - signaling exit\n",
      "INFO:root:Received exit signal - my rank is 4\n",
      "INFO:root:Worker exiting - my rank is 4\n",
      "INFO:root:Received exit signal - my rank is 1\n",
      "INFO:root:Worker exiting - my rank is 1\n",
      "INFO:root:Received exit signal - my rank is 2\n",
      "INFO:root:Worker exiting - my rank is 2\n",
      "INFO:root:Received exit signal - my rank is 3\n",
      "INFO:root:Worker exiting - my rank is 3\n"
     ]
    },
    {
     "name": "stdout",
     "output_type": "stream",
     "text": [
      "2025-02-13 22:55:25,549 - Rank 0 - INFO - Received task 19 from 4\n",
      "2025-02-13 22:55:25,549 - Rank 0 - DEBUG - Singular matrix\n",
      "2025-02-13 22:55:25,549 - Rank 0 - ERROR - Error Task(id=19, task_type=<TaskType.ERM: 0>, erm_problem_type=<ProblemType.Logistic: 0>, alpha=10.0, epsilon=0.0, test_against_epsilons=[0.0, 0.1], lam=0.1, tau=0.1, d=100, data_model=DataModel(d=100, normalize_matrices=False, data_model_factory=k_features_factory, factory_kwargs={'x_diagonal': KFeaturesDefinition(diagonal=[[100, 1]]), 'θ_diagonal': KFeaturesDefinition(diagonal=[[100, 1]]), 'ω_diagonal': KFeaturesDefinition(diagonal=[[100, 1]]), 'δ_diagonal': KFeaturesDefinition(diagonal=[[100, 1]]), 'ν_diagonal': KFeaturesDefinition(diagonal=[[100, 1]])}, name='', description='', gamma=1), values={}, gamma_fair_error=0.01, gamma=1, result=LinAlgError('Singular matrix'))\n",
      "2025-02-13 22:55:25,549 - Rank 0 - ERROR - Singular matrix\n",
      "2025-02-13 22:55:25,549 - Rank 0 - INFO - Received the 19th task\n",
      "2025-02-13 22:55:25,582 - Rank 0 - INFO - Received task 20 from 2\n",
      "2025-02-13 22:55:25,582 - Rank 0 - DEBUG - Singular matrix\n",
      "2025-02-13 22:55:25,582 - Rank 0 - ERROR - Error Task(id=20, task_type=<TaskType.ERM: 0>, erm_problem_type=<ProblemType.Logistic: 0>, alpha=10.0, epsilon=0.1, test_against_epsilons=[0.0, 0.1], lam=0.1, tau=0.1, d=100, data_model=DataModel(d=100, normalize_matrices=False, data_model_factory=k_features_factory, factory_kwargs={'x_diagonal': KFeaturesDefinition(diagonal=[[100, 1]]), 'θ_diagonal': KFeaturesDefinition(diagonal=[[100, 1]]), 'ω_diagonal': KFeaturesDefinition(diagonal=[[100, 1]]), 'δ_diagonal': KFeaturesDefinition(diagonal=[[100, 1]]), 'ν_diagonal': KFeaturesDefinition(diagonal=[[100, 1]])}, name='', description='', gamma=1), values={}, gamma_fair_error=0.01, gamma=1, result=LinAlgError('Singular matrix'))\n",
      "2025-02-13 22:55:25,582 - Rank 0 - ERROR - Singular matrix\n",
      "2025-02-13 22:55:25,582 - Rank 0 - INFO - All tasks sent and received\n",
      "2025-02-13 22:55:25,582 - Rank 0 - INFO - Marking experiment vanilla-gaussian as finished\n",
      "2025-02-13 22:55:25,582 - Rank 0 - INFO - Experiment took 4 seconds\n",
      "2025-02-13 22:55:25,583 - Rank 0 - INFO - All done - signaling exit\n"
     ]
    },
    {
     "data": {
      "text/plain": [
       "CompletedProcess(args=['mpiexec', '-n', '5', '.venv/bin/python', 'sweep/run_sweep.py', '--json', '{\"name\": \"vanilla-gaussian\", \"state_evolution_repetitions\": 1, \"erm_repetitions\": 1, \"alphas\": [0.0, 2.5, 5.0, 7.5, 10.0], \"epsilons\": [0.0, 0.1], \"test_against_epsilons\": [0.0, 0.1], \"lambdas\": [0.1], \"taus\": [0.1], \"d\": 100, \"experiment_type\": \"Sweep\", \"data_model\": {\"d\": 100, \"normalize_matrices\": false, \"data_model_factory_name\": \"k_features_factory\", \"factory_kwargs\": {\"x_diagonal\": {\"diagonal\": [[100, 1]]}, \"\\\\u03b8_diagonal\": {\"diagonal\": [[100, 1]]}, \"\\\\u03c9_diagonal\": {\"diagonal\": [[100, 1]]}, \"\\\\u03b4_diagonal\": {\"diagonal\": [[100, 1]]}, \"\\\\u03bd_diagonal\": {\"diagonal\": [[100, 1]]}}, \"name\": \"\", \"description\": \"\", \"gamma\": 1}, \"erm_problem_type\": \"Logistic\", \"gamma_fair_error\": 0.01}', '--log-level', 'DEBUG'], returncode=0)"
      ]
     },
     "execution_count": 231,
     "metadata": {},
     "output_type": "execute_result"
    }
   ],
   "source": [
    "venv_python = \".venv/bin/python\"\n",
    "command = [\"mpiexec\", \"-n\", \"5\", venv_python, \"sweep/run_sweep.py\", \"--json\", experiment_json, \"--log-level\", \"DEBUG\"]\n",
    "subprocess.run(command)"
   ]
  },
  {
   "cell_type": "code",
   "execution_count": null,
   "metadata": {},
   "outputs": [],
   "source": []
  }
 ],
 "metadata": {
  "kernelspec": {
   "display_name": ".venv",
   "language": "python",
   "name": "python3"
  },
  "language_info": {
   "codemirror_mode": {
    "name": "ipython",
    "version": 3
   },
   "file_extension": ".py",
   "mimetype": "text/x-python",
   "name": "python",
   "nbconvert_exporter": "python",
   "pygments_lexer": "ipython3",
   "version": "3.11.6"
  },
  "orig_nbformat": 4
 },
 "nbformat": 4,
 "nbformat_minor": 2
}

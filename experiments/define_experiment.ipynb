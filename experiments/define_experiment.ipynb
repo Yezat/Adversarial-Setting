{
 "cells": [
  {
   "cell_type": "code",
   "execution_count": 7,
   "metadata": {},
   "outputs": [
    {
     "name": "stdout",
     "output_type": "stream",
     "text": [
      "The autoreload extension is already loaded. To reload it, use:\n",
      "  %reload_ext autoreload\n"
     ]
    }
   ],
   "source": [
    "import sys\n",
    "sys.path.insert(0, \"../\")\n",
    "sys.path.insert(0, \"../experiments\")\n",
    "\n",
    "\n",
    "from experiment_information import *\n",
    "from experiment_setup import *\n",
    "from data import *\n",
    "from helpers import *\n",
    "from data_loading import *\n",
    "import matplotlib.pyplot as plt\n",
    "\n",
    "\n",
    "\n",
    "import pandas as pd\n",
    "import numpy as np\n",
    "import logging\n",
    "logger = logging.getLogger()\n",
    "logger.setLevel(logging.INFO)\n",
    "\n",
    "\n",
    "import numpy as np\n",
    "import re\n",
    "%load_ext autoreload\n",
    "%autoreload 2\n",
    "\n"
   ]
  },
  {
   "cell_type": "markdown",
   "metadata": {},
   "source": [
    "Define the sweep parameters"
   ]
  },
  {
   "cell_type": "code",
   "execution_count": 8,
   "metadata": {},
   "outputs": [],
   "source": [
    "sweep_definition = {}\n",
    "\n",
    "# try not to normalize in features\n",
    "sweep_definition[\"normalize_matrices\"] = True\n",
    "\n",
    "# repetitions\n",
    "sweep_definition[\"state_evolution_repetitions\"] = 1\n",
    "sweep_definition[\"erm_repetitions\"] = 10\n",
    "\n",
    "\n",
    "# sweeps\n",
    "sweep_definition[\"alphas\"] = np.logspace(-0.8, 2, 14)\n",
    "sweep_definition[\"epsilons\"] = np.array([0.0, 0.1, 0.2])\n",
    "sweep_definition[\"lambdas\"] = np.array([1e-3])\n",
    "sweep_definition[\"taus\"] = np.array([0.05])\n",
    "sweep_definition[\"test_against_epsilons\"] = np.array([0.1]) # np.linspace(0.001,0.5,3) #np.array([0.006]) # the attack epsilons to sweep\n",
    "\n",
    "# types\n",
    "# sweep_definition[\"experiment_type\"] = ExperimentType.OptimalAdversarialErrorEpsilon\n",
    "# OptimalLambda\n",
    "sweep_definition[\"experiment_type\"] = ExperimentType.Sweep\n",
    "sweep_definition[\"problem_types\"] = [ProblemType.Logistic]\n"
   ]
  },
  {
   "cell_type": "markdown",
   "metadata": {},
   "source": [
    "Write the necessary files to run the experiment\n"
   ]
  },
  {
   "cell_type": "code",
   "execution_count": 9,
   "metadata": {},
   "outputs": [
    {
     "name": "stderr",
     "output_type": "stream",
     "text": [
      "Experiment: experiment_id: 6669c119-a5c2-4a23-97d2-e0e6c6489e70 (<class 'str'>)\n",
      "experiment_name: Defence Sweep (<class 'str'>)\n",
      "duration: 0.0 (<class 'float'>)\n",
      "code_version: 113 (<class 'str'>)\n",
      "date: 2024-06-15 19:38:03 (<class 'str'>)\n",
      "state_evolution_repetitions: 1 (<class 'int'>)\n",
      "erm_repetitions: 10 (<class 'int'>)\n",
      "alphas: [  0.1585   0.2602   0.4273   0.7017   1.1522   1.892    3.1068   5.1014\n",
      "   8.3768  13.755   22.5864  37.0878  60.8997 100.    ] (<class 'numpy.ndarray'>)\n",
      "epsilons: [0.  0.1 0.2] (<class 'numpy.ndarray'>)\n",
      "test_against_epsilons: [0.1] (<class 'numpy.ndarray'>)\n",
      "lambdas: [0.001] (<class 'numpy.ndarray'>)\n",
      "taus: [0.05] (<class 'numpy.ndarray'>)\n",
      "ps: None (<class 'NoneType'>)\n",
      "dp: 0.01 (<class 'float'>)\n",
      "d: 500 (<class 'int'>)\n",
      "experiment_type: ExperimentType.Sweep (<enum 'ExperimentType'>)\n",
      "completed: False (<class 'bool'>)\n",
      "data_model_types: [<DataModelType.KFeaturesModel: 5>, <DataModelType.KFeaturesModel: 5>, <DataModelType.KFeaturesModel: 5>] (<class 'list'>)\n",
      "data_model_names: ['KFeaturesModel_TwoFeatures_ProtectingIdentity_AttackingIdentity_[0.5 0.5]_[5.  0.2]_[1 1]_SD_1_1_SU_1_1___Defence Sweep', 'KFeaturesModel_TwoFeatures_ProtectingFirstStronger_AttackingIdentity_[0.5 0.5]_[5.  0.2]_[1 1]_SD_2_1_SU_1_1___Defence Sweep', 'KFeaturesModel_TwoFeatures_ProtectingSecondStronger_AttackingIdentity_[0.5 0.5]_[5.  0.2]_[1 1]_SD_1_2_SU_1_1___Defence Sweep'] (<class 'list'>)\n",
      "data_model_descriptions: ['2 Features, θ Identity, Σ_ν Identity, Σ_δ Identity', '2 Features, θ Identity, Σ_ν Identity, Σ_δ First Protectes', '2 Features, θ Identity, Σ_ν Identity, Σ_δ Second Protected'] (<class 'list'>)\n",
      "problem_types: [<ProblemType.Logistic: 0>] (<class 'list'>)\n",
      "gamma_fair_error: 0.0001 (<class 'float'>)\n",
      "Experiment: experiment_id: 6669c119-a5c2-4a23-97d2-e0e6c6489e70 (<class 'str'>)\n",
      "experiment_name: Defence Sweep (<class 'str'>)\n",
      "duration: 0.0 (<class 'float'>)\n",
      "code_version: 113 (<class 'str'>)\n",
      "date: 2024-06-15 19:38:03 (<class 'str'>)\n",
      "state_evolution_repetitions: 1 (<class 'int'>)\n",
      "erm_repetitions: 10 (<class 'int'>)\n",
      "alphas: [  0.1585   0.2602   0.4273   0.7017   1.1522   1.892    3.1068   5.1014\n",
      "   8.3768  13.755   22.5864  37.0878  60.8997 100.    ] (<class 'numpy.ndarray'>)\n",
      "epsilons: [0.  0.1 0.2] (<class 'numpy.ndarray'>)\n",
      "test_against_epsilons: [0.1] (<class 'numpy.ndarray'>)\n",
      "lambdas: [0.001] (<class 'numpy.ndarray'>)\n",
      "taus: [0.05] (<class 'numpy.ndarray'>)\n",
      "ps: None (<class 'NoneType'>)\n",
      "dp: 0.01 (<class 'float'>)\n",
      "d: 500 (<class 'int'>)\n",
      "experiment_type: ExperimentType.Sweep (<enum 'ExperimentType'>)\n",
      "completed: False (<class 'bool'>)\n",
      "data_model_types: [<DataModelType.KFeaturesModel: 5>, <DataModelType.KFeaturesModel: 5>, <DataModelType.KFeaturesModel: 5>] (<class 'list'>)\n",
      "data_model_names: ['KFeaturesModel_TwoFeatures_ProtectingIdentity_AttackingIdentity_[0.5 0.5]_[5.  0.2]_[1 1]_SD_1_1_SU_1_1___Defence Sweep', 'KFeaturesModel_TwoFeatures_ProtectingFirstStronger_AttackingIdentity_[0.5 0.5]_[5.  0.2]_[1 1]_SD_2_1_SU_1_1___Defence Sweep', 'KFeaturesModel_TwoFeatures_ProtectingSecondStronger_AttackingIdentity_[0.5 0.5]_[5.  0.2]_[1 1]_SD_1_2_SU_1_1___Defence Sweep'] (<class 'list'>)\n",
      "data_model_descriptions: ['2 Features, θ Identity, Σ_ν Identity, Σ_δ Identity', '2 Features, θ Identity, Σ_ν Identity, Σ_δ First Protectes', '2 Features, θ Identity, Σ_ν Identity, Σ_δ Second Protected'] (<class 'list'>)\n",
      "problem_types: [<ProblemType.Logistic: 0>] (<class 'list'>)\n",
      "gamma_fair_error: 0.0001 (<class 'float'>)\n",
      "Succesfully saved experiment to sweep_experiment.json.\n",
      "Succesfully saved experiment to sweep_experiment.json.\n"
     ]
    }
   ],
   "source": [
    "# set_experiment_up(\"FeatureCombinations\",sweep_definition)\n",
    "set_experiment_up(\"DefenceSweep\",sweep_definition)\n",
    "# set_experiment_up(\"MultipleFeaturesCombination\",sweep_definition)"
   ]
  },
  {
   "cell_type": "markdown",
   "metadata": {},
   "source": [
    "Having created the experiment, you have have two run the following two commands:\n",
    "\n",
    "`mpiexec -n 5 python create_data_model.py sweep_experiment.json`\n",
    "\n",
    "`mpiexec -n 5 python sweep.py sweep_experiment.json`\n",
    "\n",
    "If you are in a cluster environment, you can also use the `run.sh` script that has been created automatically.\n",
    "\n",
    "This stores the experiments result in the `experiments.db` file, which is loaded and interpreted in the following"
   ]
  },
  {
   "cell_type": "markdown",
   "metadata": {},
   "source": [
    "In the folder `Evaluate`, there are jupyter notebooks for extracting data and creating plots"
   ]
  },
  {
   "cell_type": "markdown",
   "metadata": {},
   "source": []
  }
 ],
 "metadata": {
  "kernelspec": {
   "display_name": "pdm",
   "language": "python",
   "name": "python3"
  },
  "language_info": {
   "codemirror_mode": {
    "name": "ipython",
    "version": 3
   },
   "file_extension": ".py",
   "mimetype": "text/x-python",
   "name": "python",
   "nbconvert_exporter": "python",
   "pygments_lexer": "ipython3",
   "version": "3.11.5"
  },
  "orig_nbformat": 4
 },
 "nbformat": 4,
 "nbformat_minor": 2
}

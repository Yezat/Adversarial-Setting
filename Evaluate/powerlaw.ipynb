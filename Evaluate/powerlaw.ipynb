{
 "cells": [
  {
   "cell_type": "code",
   "execution_count": 20,
   "metadata": {},
   "outputs": [
    {
     "name": "stdout",
     "output_type": "stream",
     "text": [
      "The autoreload extension is already loaded. To reload it, use:\n",
      "  %reload_ext autoreload\n"
     ]
    }
   ],
   "source": [
    "%load_ext autoreload\n",
    "%autoreload 2"
   ]
  },
  {
   "cell_type": "code",
   "execution_count": 30,
   "metadata": {},
   "outputs": [],
   "source": [
    "import numpy as np\n",
    "import polars as pl\n",
    "from sweep.experiment import Experiment, ExperimentType\n",
    "from model.data import DataModel, KFeaturesDefinition, k_features_factory\n",
    "from erm.problems.problems import ProblemType\n",
    "import subprocess\n",
    "from experiments.data_loading import read_result_dataframe\n",
    "import os\n",
    "import matplotlib.pyplot as plt\n",
    "import datetime\n",
    "from matplotlib.lines import Line2D\n",
    "from scipy.special import erfc"
   ]
  },
  {
   "cell_type": "markdown",
   "metadata": {},
   "source": [
    "Define a datamodel"
   ]
  },
  {
   "cell_type": "code",
   "execution_count": 22,
   "metadata": {},
   "outputs": [],
   "source": [
    "d = 500"
   ]
  },
  {
   "cell_type": "code",
   "execution_count": 23,
   "metadata": {},
   "outputs": [],
   "source": [
    "beta = 1.5\n",
    "powerlaw_kwargs = {\n",
    "    \"x_diagonal\": KFeaturesDefinition(diagonal=[(10e2 * i**-beta, 1) for i in range(1, d + 1)]),\n",
    "    \"θ_diagonal\": KFeaturesDefinition(diagonal=[(1, d)]),\n",
    "    \"ω_diagonal\": KFeaturesDefinition(diagonal=[(1, d)]),\n",
    "    \"δ_diagonal\": KFeaturesDefinition(diagonal=[(1, d)]),\n",
    "    \"ν_diagonal\": KFeaturesDefinition(diagonal=[(1, d)]),\n",
    "}\n",
    "\n",
    "powerlaw_datamodel = DataModel(\n",
    "    d,\n",
    "    normalize_matrices=True,\n",
    "    data_model_factory=k_features_factory,\n",
    "    factory_kwargs=powerlaw_kwargs,\n",
    "    name=\"powerlaw\"\n",
    ")"
   ]
  },
  {
   "cell_type": "markdown",
   "metadata": {},
   "source": [
    "Define an experiment"
   ]
  },
  {
   "cell_type": "code",
   "execution_count": 24,
   "metadata": {},
   "outputs": [],
   "source": [
    "experiment = Experiment(\n",
    "    state_evolution_repetitions=1,\n",
    "    erm_repetitions=0,\n",
    "    alphas=np.logspace(-0.2,3,10),\n",
    "    epsilons=np.array([0.0, 0.1, 0.2]),\n",
    "    lambdas=np.array([0.001]),\n",
    "    taus=np.array([0.05]),\n",
    "    d=d,\n",
    "    experiment_type=ExperimentType.Sweep,\n",
    "    data_models = [powerlaw_datamodel],\n",
    "    test_against_epsilons=np.array([0.2]),\n",
    "    erm_problem_type=ProblemType.Logistic,\n",
    "    gamma_fair_error=0.01,\n",
    "    name=\"powerlaw\"\n",
    ")\n",
    "experiment_json = experiment.to_json()"
   ]
  },
  {
   "cell_type": "code",
   "execution_count": 25,
   "metadata": {},
   "outputs": [],
   "source": [
    "with open(\"powerlaw.json\", \"w\") as f:\n",
    "    f.write(experiment_json)"
   ]
  },
  {
   "cell_type": "code",
   "execution_count": 26,
   "metadata": {},
   "outputs": [
    {
     "name": "stdout",
     "output_type": "stream",
     "text": [
      "/Users/kasimirtanner/Documents/LocalCode/Code_PDM/AISTATS\n"
     ]
    },
    {
     "data": {
      "text/plain": [
       "CompletedProcess(args=['pwd'], returncode=0)"
      ]
     },
     "execution_count": 26,
     "metadata": {},
     "output_type": "execute_result"
    }
   ],
   "source": [
    "command = [\"pwd\"]\n",
    "subprocess.run(command)"
   ]
  },
  {
   "cell_type": "code",
   "execution_count": 27,
   "metadata": {},
   "outputs": [],
   "source": [
    "# venv_python = \".venv/bin/python\"\n",
    "# command = [\"mpiexec\", \"-n\", \"5\", venv_python, \"sweep/run_sweep.py\", \"--json\", experiment_json, \"--log-level\", \"INFO\"]\n",
    "# subprocess.run(command)"
   ]
  },
  {
   "cell_type": "code",
   "execution_count": 28,
   "metadata": {},
   "outputs": [
    {
     "name": "stderr",
     "output_type": "stream",
     "text": [
      "/Users/kasimirtanner/Documents/LocalCode/Code_PDM/AISTATS/experiments/data_loading.py:50: UserWarning: `to_struct()` should be passed a list of field names to avoid query errors in subsequent operations (e.g. <struct operation> not supported for dtype Unknown)\n",
      "  df.with_columns(pl.col(column_list[i]).list.to_struct())\n"
     ]
    }
   ],
   "source": [
    "df = read_result_dataframe(experiment.name)"
   ]
  },
  {
   "cell_type": "code",
   "execution_count": 29,
   "metadata": {},
   "outputs": [
    {
     "data": {
      "text/html": [
       "<div><style>\n",
       ".dataframe > thead > tr,\n",
       ".dataframe > tbody > tr {\n",
       "  text-align: right;\n",
       "  white-space: pre-wrap;\n",
       "}\n",
       "</style>\n",
       "<small>shape: (30, 92)</small><table border=\"1\" class=\"dataframe\"><thead><tr><th>alpha</th><th>epsilon</th><th>tau</th><th>lam</th><th>epsilon_g</th><th>data_model_name</th><th>id</th><th>date</th><th>task_type</th><th>erm_problem_type</th><th>test_against_epsilons</th><th>d</th><th>values</th><th>gamma_fair_error</th><th>gamma</th><th>generalization_error</th><th>adversarial_generalization_errors</th><th>training_error</th><th>training_loss</th><th>test_losses</th><th>m</th><th>q</th><th>sigma</th><th>A</th><th>P</th><th>F</th><th>m_hat</th><th>q_hat</th><th>sigma_hat</th><th>A_hat</th><th>F_hat</th><th>P_hat</th><th>n_m</th><th>n_q</th><th>n_sigma</th><th>n_A</th><th>n_P</th><th>&hellip;</th><th>values_std</th><th>gamma_fair_error_std</th><th>gamma_std</th><th>generalization_error_std</th><th>adversarial_generalization_errors_std</th><th>training_error_std</th><th>training_loss_std</th><th>test_losses_std</th><th>m_std</th><th>q_std</th><th>sigma_std</th><th>A_std</th><th>P_std</th><th>F_std</th><th>m_hat_std</th><th>q_hat_std</th><th>sigma_hat_std</th><th>A_hat_std</th><th>F_hat_std</th><th>P_hat_std</th><th>n_m_std</th><th>n_q_std</th><th>n_sigma_std</th><th>n_A_std</th><th>n_P_std</th><th>n_F_std</th><th>angle_std</th><th>data_model_angle_std</th><th>data_model_attackability_std</th><th>data_model_adversarial_test_errors_std</th><th>sigmax_eigenvalues_std</th><th>sigmaθ_eigenvalues_std</th><th>xθ_eigenvalues_std</th><th>mu_usefulness_std</th><th>gamma_robustness_es_std</th><th>mu_margin_std</th><th>duration_std</th></tr><tr><td>f64</td><td>f64</td><td>f64</td><td>f64</td><td>f64</td><td>str</td><td>str</td><td>str</td><td>str</td><td>str</td><td>list[f64]</td><td>f64</td><td>struct[0]</td><td>f64</td><td>f64</td><td>f64</td><td>f64</td><td>f64</td><td>f64</td><td>f64</td><td>f64</td><td>f64</td><td>f64</td><td>f64</td><td>f64</td><td>f64</td><td>f64</td><td>f64</td><td>f64</td><td>f64</td><td>f64</td><td>f64</td><td>f64</td><td>f64</td><td>f64</td><td>f64</td><td>f64</td><td>&hellip;</td><td>struct[0]</td><td>f64</td><td>f64</td><td>f64</td><td>f64</td><td>f64</td><td>f64</td><td>f64</td><td>f64</td><td>f64</td><td>f64</td><td>f64</td><td>f64</td><td>f64</td><td>f64</td><td>f64</td><td>f64</td><td>f64</td><td>f64</td><td>f64</td><td>f64</td><td>f64</td><td>f64</td><td>f64</td><td>f64</td><td>f64</td><td>f64</td><td>f64</td><td>f64</td><td>f64</td><td>list[f64]</td><td>list[f64]</td><td>list[f64]</td><td>f64</td><td>f64</td><td>f64</td><td>f64</td></tr></thead><tbody><tr><td>1.430723</td><td>0.1</td><td>0.05</td><td>0.001</td><td>0.2</td><td>&quot;powerlaw&quot;</td><td>null</td><td>null</td><td>null</td><td>null</td><td>null</td><td>500.0</td><td>{}</td><td>0.01</td><td>1.0</td><td>0.087844</td><td>0.145581</td><td>6.0127e-23</td><td>1.003729</td><td>5.460578</td><td>12.736672</td><td>174.796205</td><td>46.246608</td><td>67.029912</td><td>67.029912</td><td>4.189498</td><td>0.09059</td><td>0.002204</td><td>0.006681</td><td>0.0</td><td>0.0</td><td>0.000313</td><td>12.736672</td><td>174.796205</td><td>46.246608</td><td>67.029912</td><td>67.029912</td><td>&hellip;</td><td>{}</td><td>null</td><td>null</td><td>null</td><td>null</td><td>null</td><td>null</td><td>null</td><td>null</td><td>null</td><td>null</td><td>null</td><td>null</td><td>null</td><td>null</td><td>null</td><td>null</td><td>null</td><td>null</td><td>null</td><td>null</td><td>null</td><td>null</td><td>null</td><td>null</td><td>null</td><td>null</td><td>null</td><td>null</td><td>null</td><td>null</td><td>null</td><td>null</td><td>null</td><td>null</td><td>null</td><td>null</td></tr><tr><td>1000.0</td><td>0.2</td><td>0.05</td><td>0.001</td><td>0.2</td><td>&quot;powerlaw&quot;</td><td>null</td><td>null</td><td>null</td><td>null</td><td>null</td><td>500.0</td><td>{}</td><td>0.01</td><td>1.0</td><td>0.044739</td><td>0.096838</td><td>0.044739</td><td>0.80412</td><td>0.804892</td><td>8.15135</td><td>67.605574</td><td>0.006914</td><td>17.746015</td><td>17.746015</td><td>3.63749</td><td>526.142283</td><td>64.345672</td><td>61.870531</td><td>0.0</td><td>0.0</td><td>5.995963</td><td>8.15135</td><td>67.605574</td><td>0.006914</td><td>17.746015</td><td>17.746015</td><td>&hellip;</td><td>{}</td><td>null</td><td>null</td><td>null</td><td>null</td><td>null</td><td>null</td><td>null</td><td>null</td><td>null</td><td>null</td><td>null</td><td>null</td><td>null</td><td>null</td><td>null</td><td>null</td><td>null</td><td>null</td><td>null</td><td>null</td><td>null</td><td>null</td><td>null</td><td>null</td><td>null</td><td>null</td><td>null</td><td>null</td><td>null</td><td>null</td><td>null</td><td>null</td><td>null</td><td>null</td><td>null</td><td>null</td></tr><tr><td>16.681005</td><td>0.0</td><td>0.05</td><td>0.001</td><td>0.2</td><td>&quot;powerlaw&quot;</td><td>null</td><td>null</td><td>null</td><td>null</td><td>null</td><td>500.0</td><td>{}</td><td>0.01</td><td>1.0</td><td>0.030973</td><td>0.150064</td><td>0.002712</td><td>0.022922</td><td>74.31958</td><td>22.76952</td><td>522.085795</td><td>6.316658</td><td>462.3204</td><td>462.3204</td><td>19.891793</td><td>3.149101</td><td>0.080567</td><td>0.13743</td><td>0.0</td><td>0.0</td><td>0.0</td><td>22.76952</td><td>522.085795</td><td>6.316658</td><td>462.3204</td><td>462.3204</td><td>&hellip;</td><td>{}</td><td>null</td><td>null</td><td>null</td><td>null</td><td>null</td><td>null</td><td>null</td><td>null</td><td>null</td><td>null</td><td>null</td><td>null</td><td>null</td><td>null</td><td>null</td><td>null</td><td>null</td><td>null</td><td>null</td><td>null</td><td>null</td><td>null</td><td>null</td><td>null</td><td>null</td><td>null</td><td>null</td><td>null</td><td>null</td><td>null</td><td>null</td><td>null</td><td>null</td><td>null</td><td>null</td><td>null</td></tr><tr><td>7.356423</td><td>0.2</td><td>0.05</td><td>0.001</td><td>0.2</td><td>&quot;powerlaw&quot;</td><td>null</td><td>null</td><td>null</td><td>null</td><td>null</td><td>500.0</td><td>{}</td><td>0.01</td><td>1.0</td><td>0.051899</td><td>0.114311</td><td>0.019187</td><td>2.684552</td><td>2.842277</td><td>10.641418</td><td>116.01427</td><td>1.514259</td><td>43.328254</td><td>43.328254</td><td>5.140224</td><td>3.394549</td><td>0.380124</td><td>0.307235</td><td>0.0</td><td>0.0</td><td>0.023344</td><td>10.641418</td><td>116.01427</td><td>1.514259</td><td>43.328254</td><td>43.328254</td><td>&hellip;</td><td>{}</td><td>null</td><td>null</td><td>null</td><td>null</td><td>null</td><td>null</td><td>null</td><td>null</td><td>null</td><td>null</td><td>null</td><td>null</td><td>null</td><td>null</td><td>null</td><td>null</td><td>null</td><td>null</td><td>null</td><td>null</td><td>null</td><td>null</td><td>null</td><td>null</td><td>null</td><td>null</td><td>null</td><td>null</td><td>null</td><td>null</td><td>null</td><td>null</td><td>null</td><td>null</td><td>null</td><td>null</td></tr><tr><td>16.681005</td><td>0.1</td><td>0.05</td><td>0.001</td><td>0.2</td><td>&quot;powerlaw&quot;</td><td>null</td><td>null</td><td>null</td><td>null</td><td>null</td><td>500.0</td><td>{}</td><td>0.01</td><td>1.0</td><td>0.033971</td><td>0.128843</td><td>0.012317</td><td>5.851015</td><td>19.368457</td><td>15.755793</td><td>250.467918</td><td>1.501508</td><td>158.217668</td><td>158.217668</td><td>11.433529</td><td>7.614698</td><td>0.555849</td><td>0.475905</td><td>0.0</td><td>0.0</td><td>0.009183</td><td>15.755793</td><td>250.467918</td><td>1.501508</td><td>158.217668</td><td>158.217668</td><td>&hellip;</td><td>{}</td><td>null</td><td>null</td><td>null</td><td>null</td><td>null</td><td>null</td><td>null</td><td>null</td><td>null</td><td>null</td><td>null</td><td>null</td><td>null</td><td>null</td><td>null</td><td>null</td><td>null</td><td>null</td><td>null</td><td>null</td><td>null</td><td>null</td><td>null</td><td>null</td><td>null</td><td>null</td><td>null</td><td>null</td><td>null</td><td>null</td><td>null</td><td>null</td><td>null</td><td>null</td><td>null</td><td>null</td></tr><tr><td>&hellip;</td><td>&hellip;</td><td>&hellip;</td><td>&hellip;</td><td>&hellip;</td><td>&hellip;</td><td>&hellip;</td><td>&hellip;</td><td>&hellip;</td><td>&hellip;</td><td>&hellip;</td><td>&hellip;</td><td>&hellip;</td><td>&hellip;</td><td>&hellip;</td><td>&hellip;</td><td>&hellip;</td><td>&hellip;</td><td>&hellip;</td><td>&hellip;</td><td>&hellip;</td><td>&hellip;</td><td>&hellip;</td><td>&hellip;</td><td>&hellip;</td><td>&hellip;</td><td>&hellip;</td><td>&hellip;</td><td>&hellip;</td><td>&hellip;</td><td>&hellip;</td><td>&hellip;</td><td>&hellip;</td><td>&hellip;</td><td>&hellip;</td><td>&hellip;</td><td>&hellip;</td><td>&hellip;</td><td>&hellip;</td><td>&hellip;</td><td>&hellip;</td><td>&hellip;</td><td>&hellip;</td><td>&hellip;</td><td>&hellip;</td><td>&hellip;</td><td>&hellip;</td><td>&hellip;</td><td>&hellip;</td><td>&hellip;</td><td>&hellip;</td><td>&hellip;</td><td>&hellip;</td><td>&hellip;</td><td>&hellip;</td><td>&hellip;</td><td>&hellip;</td><td>&hellip;</td><td>&hellip;</td><td>&hellip;</td><td>&hellip;</td><td>&hellip;</td><td>&hellip;</td><td>&hellip;</td><td>&hellip;</td><td>&hellip;</td><td>&hellip;</td><td>&hellip;</td><td>&hellip;</td><td>&hellip;</td><td>&hellip;</td><td>&hellip;</td><td>&hellip;</td><td>&hellip;</td><td>&hellip;</td></tr><tr><td>441.005945</td><td>0.0</td><td>0.05</td><td>0.001</td><td>0.2</td><td>&quot;powerlaw&quot;</td><td>null</td><td>null</td><td>null</td><td>null</td><td>null</td><td>500.0</td><td>{}</td><td>0.01</td><td>1.0</td><td>0.016419</td><td>0.158113</td><td>0.015277</td><td>0.035064</td><td>211.686848</td><td>34.679538</td><td>1202.868679</td><td>0.203037</td><td>1196.612966</td><td>1196.612966</td><td>34.527668</td><td>170.056423</td><td>4.78446</td><td>4.902657</td><td>0.0</td><td>0.0</td><td>0.0</td><td>34.679538</td><td>1202.868679</td><td>0.203037</td><td>1196.612966</td><td>1196.612966</td><td>&hellip;</td><td>{}</td><td>null</td><td>null</td><td>null</td><td>null</td><td>null</td><td>null</td><td>null</td><td>null</td><td>null</td><td>null</td><td>null</td><td>null</td><td>null</td><td>null</td><td>null</td><td>null</td><td>null</td><td>null</td><td>null</td><td>null</td><td>null</td><td>null</td><td>null</td><td>null</td><td>null</td><td>null</td><td>null</td><td>null</td><td>null</td><td>null</td><td>null</td><td>null</td><td>null</td><td>null</td><td>null</td><td>null</td></tr><tr><td>7.356423</td><td>0.0</td><td>0.05</td><td>0.001</td><td>0.2</td><td>&quot;powerlaw&quot;</td><td>null</td><td>null</td><td>null</td><td>null</td><td>null</td><td>500.0</td><td>{}</td><td>0.01</td><td>1.0</td><td>0.046246</td><td>0.144043</td><td>0.00004</td><td>0.018041</td><td>35.864594</td><td>18.146502</td><td>335.506583</td><td>16.068782</td><td>251.451122</td><td>251.451122</td><td>12.963548</td><td>0.806754</td><td>0.017917</td><td>0.043743</td><td>0.0</td><td>0.0</td><td>0.0</td><td>18.146502</td><td>335.506583</td><td>16.068782</td><td>251.451122</td><td>251.451122</td><td>&hellip;</td><td>{}</td><td>null</td><td>null</td><td>null</td><td>null</td><td>null</td><td>null</td><td>null</td><td>null</td><td>null</td><td>null</td><td>null</td><td>null</td><td>null</td><td>null</td><td>null</td><td>null</td><td>null</td><td>null</td><td>null</td><td>null</td><td>null</td><td>null</td><td>null</td><td>null</td><td>null</td><td>null</td><td>null</td><td>null</td><td>null</td><td>null</td><td>null</td><td>null</td><td>null</td><td>null</td><td>null</td><td>null</td></tr><tr><td>194.486244</td><td>0.2</td><td>0.05</td><td>0.001</td><td>0.2</td><td>&quot;powerlaw&quot;</td><td>null</td><td>null</td><td>null</td><td>null</td><td>null</td><td>500.0</td><td>{}</td><td>0.01</td><td>1.0</td><td>0.044911</td><td>0.09732</td><td>0.043705</td><td>0.82714</td><td>0.831168</td><td>8.207946</td><td>68.5581</td><td>0.035998</td><td>18.199277</td><td>18.199277</td><td>3.673305</td><td>102.042141</td><td>12.449198</td><td>11.91879</td><td>0.0</td><td>0.0</td><td>1.146021</td><td>8.207946</td><td>68.5581</td><td>0.035998</td><td>18.199277</td><td>18.199277</td><td>&hellip;</td><td>{}</td><td>null</td><td>null</td><td>null</td><td>null</td><td>null</td><td>null</td><td>null</td><td>null</td><td>null</td><td>null</td><td>null</td><td>null</td><td>null</td><td>null</td><td>null</td><td>null</td><td>null</td><td>null</td><td>null</td><td>null</td><td>null</td><td>null</td><td>null</td><td>null</td><td>null</td><td>null</td><td>null</td><td>null</td><td>null</td><td>null</td><td>null</td><td>null</td><td>null</td><td>null</td><td>null</td><td>null</td></tr><tr><td>1.430723</td><td>0.2</td><td>0.05</td><td>0.001</td><td>0.2</td><td>&quot;powerlaw&quot;</td><td>null</td><td>null</td><td>null</td><td>null</td><td>null</td><td>500.0</td><td>{}</td><td>0.01</td><td>1.0</td><td>0.088055</td><td>0.146737</td><td>1.5215e-15</td><td>6.75202</td><td>7.682208</td><td>14.206663</td><td>217.554098</td><td>31.125222</td><td>85.899479</td><td>85.899479</td><td>4.733772</td><td>0.152088</td><td>0.006237</td><td>0.010065</td><td>0.0</td><td>0.0</td><td>0.000923</td><td>14.206663</td><td>217.554098</td><td>31.125222</td><td>85.899479</td><td>85.899479</td><td>&hellip;</td><td>{}</td><td>null</td><td>null</td><td>null</td><td>null</td><td>null</td><td>null</td><td>null</td><td>null</td><td>null</td><td>null</td><td>null</td><td>null</td><td>null</td><td>null</td><td>null</td><td>null</td><td>null</td><td>null</td><td>null</td><td>null</td><td>null</td><td>null</td><td>null</td><td>null</td><td>null</td><td>null</td><td>null</td><td>null</td><td>null</td><td>null</td><td>null</td><td>null</td><td>null</td><td>null</td><td>null</td><td>null</td></tr><tr><td>0.630957</td><td>0.2</td><td>0.05</td><td>0.001</td><td>0.2</td><td>&quot;powerlaw&quot;</td><td>null</td><td>null</td><td>null</td><td>null</td><td>null</td><td>500.0</td><td>{}</td><td>0.01</td><td>1.0</td><td>0.112106</td><td>0.155468</td><td>1.2961e-45</td><td>0.84019</td><td>1.995307</td><td>10.7239</td><td>130.20937</td><td>71.157013</td><td>31.534476</td><td>31.534476</td><td>2.149892</td><td>0.030213</td><td>0.000708</td><td>0.002539</td><td>0.0</td><td>0.0</td><td>0.000387</td><td>10.7239</td><td>130.20937</td><td>71.157013</td><td>31.534476</td><td>31.534476</td><td>&hellip;</td><td>{}</td><td>null</td><td>null</td><td>null</td><td>null</td><td>null</td><td>null</td><td>null</td><td>null</td><td>null</td><td>null</td><td>null</td><td>null</td><td>null</td><td>null</td><td>null</td><td>null</td><td>null</td><td>null</td><td>null</td><td>null</td><td>null</td><td>null</td><td>null</td><td>null</td><td>null</td><td>null</td><td>null</td><td>null</td><td>null</td><td>null</td><td>null</td><td>null</td><td>null</td><td>null</td><td>null</td><td>null</td></tr></tbody></table></div>"
      ],
      "text/plain": [
       "shape: (30, 92)\n",
       "┌────────────┬─────────┬──────┬───────┬───┬──────────────┬─────────────┬─────────────┬─────────────┐\n",
       "│ alpha      ┆ epsilon ┆ tau  ┆ lam   ┆ … ┆ mu_usefulnes ┆ gamma_robus ┆ mu_margin_s ┆ duration_st │\n",
       "│ ---        ┆ ---     ┆ ---  ┆ ---   ┆   ┆ s_std        ┆ tness_es_st ┆ td          ┆ d           │\n",
       "│ f64        ┆ f64     ┆ f64  ┆ f64   ┆   ┆ ---          ┆ d           ┆ ---         ┆ ---         │\n",
       "│            ┆         ┆      ┆       ┆   ┆ f64          ┆ ---         ┆ f64         ┆ f64         │\n",
       "│            ┆         ┆      ┆       ┆   ┆              ┆ f64         ┆             ┆             │\n",
       "╞════════════╪═════════╪══════╪═══════╪═══╪══════════════╪═════════════╪═════════════╪═════════════╡\n",
       "│ 1.430723   ┆ 0.1     ┆ 0.05 ┆ 0.001 ┆ … ┆ null         ┆ null        ┆ null        ┆ null        │\n",
       "│ 1000.0     ┆ 0.2     ┆ 0.05 ┆ 0.001 ┆ … ┆ null         ┆ null        ┆ null        ┆ null        │\n",
       "│ 16.681005  ┆ 0.0     ┆ 0.05 ┆ 0.001 ┆ … ┆ null         ┆ null        ┆ null        ┆ null        │\n",
       "│ 7.356423   ┆ 0.2     ┆ 0.05 ┆ 0.001 ┆ … ┆ null         ┆ null        ┆ null        ┆ null        │\n",
       "│ 16.681005  ┆ 0.1     ┆ 0.05 ┆ 0.001 ┆ … ┆ null         ┆ null        ┆ null        ┆ null        │\n",
       "│ …          ┆ …       ┆ …    ┆ …     ┆ … ┆ …            ┆ …           ┆ …           ┆ …           │\n",
       "│ 441.005945 ┆ 0.0     ┆ 0.05 ┆ 0.001 ┆ … ┆ null         ┆ null        ┆ null        ┆ null        │\n",
       "│ 7.356423   ┆ 0.0     ┆ 0.05 ┆ 0.001 ┆ … ┆ null         ┆ null        ┆ null        ┆ null        │\n",
       "│ 194.486244 ┆ 0.2     ┆ 0.05 ┆ 0.001 ┆ … ┆ null         ┆ null        ┆ null        ┆ null        │\n",
       "│ 1.430723   ┆ 0.2     ┆ 0.05 ┆ 0.001 ┆ … ┆ null         ┆ null        ┆ null        ┆ null        │\n",
       "│ 0.630957   ┆ 0.2     ┆ 0.05 ┆ 0.001 ┆ … ┆ null         ┆ null        ┆ null        ┆ null        │\n",
       "└────────────┴─────────┴──────┴───────┴───┴──────────────┴─────────────┴─────────────┴─────────────┘"
      ]
     },
     "execution_count": 29,
     "metadata": {},
     "output_type": "execute_result"
    }
   ],
   "source": [
    "df"
   ]
  },
  {
   "cell_type": "code",
   "execution_count": 31,
   "metadata": {},
   "outputs": [],
   "source": [
    "data_models = list(df[\"data_model_name\"].unique())\n",
    "epsilons = list(df[\"epsilon\"].unique())\n",
    "alphas = list(df[\"alpha\"].unique())"
   ]
  },
  {
   "cell_type": "code",
   "execution_count": 33,
   "metadata": {},
   "outputs": [
    {
     "data": {
      "image/png": "[encoded data removed]",
      "text/plain": [
       "<Figure size 237.5x140 with 1 Axes>"
      ]
     },
     "metadata": {},
     "output_type": "display_data"
    }
   ],
   "source": [
    "IMG_DIRECTORY = \"./Assets/powerlaw\"\n",
    "if not os.path.exists(IMG_DIRECTORY):\n",
    "    os.makedirs(IMG_DIRECTORY)\n",
    "\n",
    "\n",
    "def save_plot(fig, name, formats=[\"pdf\",\"jpg\"], date=False):\n",
    "    current_date = datetime.datetime.now().strftime(\"%Y-%m-%d\")\n",
    "    for f in formats:        \n",
    "        path = \"{}\".format(name) + \"_{}\".format(current_date) + \".\" + f\n",
    "        if not date:\n",
    "            path = \"{}\".format(name) + \".\" + f\n",
    "        fig.savefig(            \n",
    "            os.path.join(IMG_DIRECTORY, path),\n",
    "            format=f,\n",
    "        )\n",
    "\n",
    "\n",
    "def set_size(width, fraction=1, subplots=(1, 1)):\n",
    "    if width == \"thesis\":\n",
    "        width_pt = 426.79135\n",
    "    elif width == \"beamer\":\n",
    "        width_pt = 307.28987\n",
    "    else:\n",
    "        width_pt = width\n",
    "\n",
    "    fig_width_pt = width_pt * fraction\n",
    "    inches_per_pt = 1 / 72.27\n",
    "\n",
    "    golden_ratio = (5**0.5 - 1) / 2\n",
    "\n",
    "    fig_width_in = fig_width_pt * inches_per_pt\n",
    "    fig_height_in = fig_width_in * (golden_ratio) * (subplots[0] / subplots[1])\n",
    "\n",
    "    return (fig_width_in, fig_height_in)\n",
    "\n",
    "\n",
    "# width = 1.5 * 458.63788\n",
    "\n",
    "multiplier = 1.25 \n",
    "width = multiplier * 487.8225\n",
    "width = 487.8225\n",
    "# multiplier = 1.25\n",
    "# width = multiplier * 1.5 * 234.8775\n",
    "\n",
    "plt.style.use(\"latex_ready.mplstyle\")\n",
    "\n",
    "tuple_size = set_size(width, fraction=0.50)\n",
    "tuple_size = (2.375,1.4)\n",
    "\n",
    "multiplier = 0.9\n",
    "second_multiplier = 0.7\n",
    "\n",
    "\n",
    "# import Line2D for custom legend\n",
    "\n",
    "fig, axes = plt.subplots(\n",
    "    nrows=1,\n",
    "    ncols=1,\n",
    "    sharex=True,\n",
    "    sharey=True,\n",
    "    figsize=( tuple_size[0], tuple_size[1]),\n",
    "    gridspec_kw={\"hspace\": 0,\"wspace\": 0},\n",
    ")\n",
    "\n",
    "\n",
    "# ICML adjustments\n",
    "fig.subplots_adjust(left=0.2)\n",
    "# fig.subplots_adjust(bottom=0.16)\n",
    "fig.subplots_adjust(top=0.85)\n",
    "fig.subplots_adjust(right=0.97)\n",
    "# plt.subplots_adjust(bottom=0.30)\n",
    "\n",
    "\n",
    "\n",
    "# Create a custom legend\n",
    "custom_legend = []\n",
    "\n",
    "linestyles = [\"solid\", \"dashed\", \"dashdot\", \"dotted\"]\n",
    "\n",
    "for epsilon_idx, epsilon in enumerate(epsilons):\n",
    "\n",
    "    # ax = axes[epsilon_idx]\n",
    "    ax = axes\n",
    "\n",
    "    if not epsilon in [0.0, 0.1, 0.2]:\n",
    "        continue\n",
    "\n",
    "    df_filtered = df.filter(pl.col(\"epsilon\") == epsilon)\n",
    "    df_filtered = df_filtered.sort(by=\"alpha\")        \n",
    "\n",
    "    adversarial_error = df_filtered[\"adversarial_generalization_errors\"]\n",
    "    generalization_error = df_filtered[\"generalization_error\"]\n",
    "    boundary_error = adversarial_error - generalization_error\n",
    "    \n",
    "    adversarial_lines = ax.plot(alphas, adversarial_error, linestyle=linestyles[epsilon_idx],color=\"C0\")\n",
    "    ax.plot(alphas, generalization_error, linestyle=linestyles[epsilon_idx],color=\"C1\")\n",
    "    ax.plot(alphas, boundary_error,linestyle=linestyles[epsilon_idx], color=\"C2\")\n",
    "\n",
    "    custom_legend.append(Line2D([0],[0],color=\"C0\", linestyle=linestyles[epsilon_idx]))\n",
    "    custom_legend.append(Line2D([0],[0],color=\"C1\", linestyle=linestyles[epsilon_idx]))\n",
    "    custom_legend.append(Line2D([0],[0],color=\"C2\", linestyle=linestyles[epsilon_idx]))\n",
    "\n",
    "    # ax.legend(title=f\"$\\\\beta={1.5}$\")\n",
    "    # Set the major ticks to face inwards\n",
    "    ax.tick_params(axis='both', which='major', direction='in')\n",
    "\n",
    "    # Set the minor ticks to face inwards\n",
    "    ax.tick_params(axis='both', which='minor', direction='in')\n",
    "\n",
    "\n",
    "axes.set_xscale(\"log\")\n",
    "axes.set_yscale(\"log\")\n",
    "\n",
    "\n",
    "axes.set_ylabel(r\"$E$\", labelpad=2.0)\n",
    "# axes.set_ylabel(r\"$E$\", labelpad=2.0)\n",
    "\n",
    "\n",
    "\n",
    "axes.set_xlabel(r\"$\\alpha$\", labelpad=2.0)\n",
    "axes.grid(which=\"both\", axis=\"both\", alpha=0.5)\n",
    "\n",
    "\n",
    "\n",
    "error_legend = []\n",
    "\n",
    "error_legend.append(Line2D([0],[0],label=r\"$E_{\\mathrm{adv}}$\",color=\"C0\"))\n",
    "error_legend.append(Line2D([0],[0],label=r\"$E_{\\mathrm{gen}}$\",color=\"C1\"))\n",
    "error_legend.append(Line2D([0],[0],label=r\"$E_{\\mathrm{bound}}$\",color=\"C2\"))\n",
    "# error_legend.append(Line2D([0],[0],label=r\"$E_{\\mathrm{CP}}$\",color=\"C3\"))\n",
    "\n",
    "# epsilon_legend = []\n",
    "\n",
    "# for idx, (beta, value) in enumerate(df_dict.items()):\n",
    "#     epsilon_legend.append(Line2D([0],[0],color=\"black\", linestyle=linestyles[idx], label=r\"$\\beta={}$\".format(beta))) \n",
    "\n",
    "\n",
    "custom_legend = []\n",
    "\n",
    "# mix the two legends\n",
    "for idx in range(len(error_legend)):\n",
    "    \n",
    "    # custom_legend.append(epsilon_legend[idx+1])\n",
    "    custom_legend.append(error_legend[idx])\n",
    "\n",
    "# custom_legend.append(epsilon_legend[-1])\n",
    "\n",
    "# Place the legend at the bottom of the figure\n",
    "# fig.legend(handles=custom_legend, loc='upper center', ncol=3, handlelength=1)\n",
    "\n",
    "save = True\n",
    "if save:\n",
    "    save_plot(\n",
    "        fig,\n",
    "        \"powerlaw\",\n",
    "    )\n",
    "\n",
    "plt.show()"
   ]
  },
  {
   "cell_type": "code",
   "execution_count": null,
   "metadata": {},
   "outputs": [],
   "source": []
  }
 ],
 "metadata": {
  "kernelspec": {
   "display_name": ".venv",
   "language": "python",
   "name": "python3"
  },
  "language_info": {
   "codemirror_mode": {
    "name": "ipython",
    "version": 3
   },
   "file_extension": ".py",
   "mimetype": "text/x-python",
   "name": "python",
   "nbconvert_exporter": "python",
   "pygments_lexer": "ipython3",
   "version": "3.11.6"
  },
  "orig_nbformat": 4
 },
 "nbformat": 4,
 "nbformat_minor": 2
}

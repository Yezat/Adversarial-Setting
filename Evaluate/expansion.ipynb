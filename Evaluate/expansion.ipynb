{
 "cells": [
  {
   "cell_type": "code",
   "execution_count": 7,
   "metadata": {},
   "outputs": [
    {
     "name": "stdout",
     "output_type": "stream",
     "text": [
      "The autoreload extension is already loaded. To reload it, use:\n",
      "  %reload_ext autoreload\n"
     ]
    }
   ],
   "source": [
    "\n",
    "import matplotlib.pyplot as plt\n",
    "\n",
    "import os\n",
    "import datetime\n",
    "import numpy as np\n",
    "%load_ext autoreload\n",
    "%autoreload 2\n"
   ]
  },
  {
   "cell_type": "markdown",
   "metadata": {},
   "source": [
    "# Figure saving"
   ]
  },
  {
   "cell_type": "code",
   "execution_count": 8,
   "metadata": {},
   "outputs": [
    {
     "data": {
      "image/png": "[encoded data removed]",
      "text/plain": [
       "<Figure size 356.972x249.881 with 2 Axes>"
      ]
     },
     "metadata": {},
     "output_type": "display_data"
    },
    {
     "data": {
      "text/plain": [
       "<Figure size 640x480 with 0 Axes>"
      ]
     },
     "metadata": {},
     "output_type": "display_data"
    }
   ],
   "source": [
    "\n",
    "IMG_DIRECTORY = \"./Assets/expansion\"\n",
    "if not os.path.exists(IMG_DIRECTORY):\n",
    "    os.makedirs(IMG_DIRECTORY)\n",
    "\n",
    "\n",
    "def save_plot(fig, name, formats=[\"pdf\",\"jpg\"], date=False):\n",
    "    current_date = datetime.datetime.now().strftime(\"%Y-%m-%d\")\n",
    "    for f in formats:        \n",
    "        path = \"{}\".format(name) + \"_{}\".format(current_date) + \".\" + f\n",
    "        if not date:\n",
    "            path = \"{}\".format(name) + \".\" + f\n",
    "        fig.savefig(            \n",
    "            os.path.join(IMG_DIRECTORY, path),\n",
    "            format=f,\n",
    "        )\n",
    "\n",
    "\n",
    "def set_size(width, fraction=1, subplots=(1, 1)):\n",
    "    if width == \"thesis\":\n",
    "        width_pt = 426.79135\n",
    "    elif width == \"beamer\":\n",
    "        width_pt = 307.28987\n",
    "    else:\n",
    "        width_pt = width\n",
    "\n",
    "    fig_width_pt = width_pt * fraction\n",
    "    inches_per_pt = 1 / 72.27\n",
    "\n",
    "    golden_ratio = (5**0.5 - 1) / 2\n",
    "\n",
    "    fig_width_in = fig_width_pt * inches_per_pt\n",
    "    fig_height_in = fig_width_in * (golden_ratio) * (subplots[0] / subplots[1])\n",
    "\n",
    "    return (fig_width_in, fig_height_in)\n",
    "\n",
    "\n",
    "width = 1.25 * 458.63788\n",
    "\n",
    "plt.style.use(\"latex_ready.mplstyle\")\n",
    "\n",
    "tuple_size = set_size(width, fraction=0.50)\n",
    "\n",
    "multiplier = 0.9\n",
    "second_multiplier = 0.7\n",
    "\n",
    "fig, axs = plt.subplots(\n",
    "    nrows=1,\n",
    "    ncols=2,\n",
    "    sharex=True,\n",
    "    sharey=True,\n",
    "    figsize=(multiplier * tuple_size[0], second_multiplier * multiplier * tuple_size[0]),\n",
    "    gridspec_kw={\"wspace\": 0},\n",
    ")\n",
    "\n",
    "from matplotlib.pyplot import Line2D\n",
    "\n",
    "# ICML adjustments\n",
    "fig.subplots_adjust(left=0.2)\n",
    "fig.subplots_adjust(bottom=0.2)\n",
    "# fig.subplots_adjust(top=0.8)\n",
    "# fig.subplots_adjust(right=0.8)\n",
    "\n",
    "\n",
    "def loss(beta, z ):\n",
    "    return np.log(1+np.exp(-beta*z))\n",
    "\n",
    "betas = np.linspace(0,2,30)\n",
    "\n",
    "zs = np.linspace(1,5,3)\n",
    "\n",
    "linestyles = [\"solid\", \"dashed\", \"dashdot\", \"dotted\"]\n",
    "\n",
    "for idx, z in enumerate(zs):\n",
    "\n",
    "\n",
    "\n",
    "    axs[0].plot(betas, loss(betas,z),  color=\"C0\", linestyle=linestyles[idx])\n",
    "    # axs[0].plot(betas, class_preserving,  color=\"C3\", linestyle=linestyles[idx])\n",
    "\n",
    "\n",
    "    axs[1].plot(\n",
    "        betas,\n",
    "        loss(betas,-z),        \n",
    "        linestyle=linestyles[idx],\n",
    "        color=\"C0\"\n",
    "    )\n",
    "\n",
    "\n",
    "\n",
    "\n",
    "# axs[0].set_xscale(\"log\")\n",
    "# axs[0].set_yscale(\"log\")\n",
    "axs[0].set_ylabel(r\"$\\ell(-z\\norm{\\boldsymbol{w}})$\", labelpad=2.0)\n",
    "axs[0].set_xlabel(r\"$\\norm{\\boldsymbol{w}}$\", labelpad=2.0)\n",
    "axs[0].grid(which=\"both\", axis=\"both\", alpha=0.5)\n",
    "axs[0].tick_params(axis='both', which='major', direction='in')\n",
    "axs[0].tick_params(axis='both', which='minor', direction='in')\n",
    "# axs[0].legend(title=\"State Evolution\", loc=\"lower left\")\n",
    "\n",
    "# axs[1].set_xscale(\"log\")\n",
    "# axs[1].set_yscale(\"log\")\n",
    "\n",
    "axs[1].yaxis.set_label_position(\"right\")\n",
    "axs[1].yaxis.tick_right()\n",
    "axs[1].set_ylabel(r\"$\\ell(z\\norm{\\boldsymbol{w}})$\", labelpad=2.0)\n",
    "axs[1].set_xlabel(r\"$\\norm{\\boldsymbol{w}}$\", labelpad=2.0)\n",
    "axs[1].grid(which=\"both\", axis=\"both\", alpha=0.5)\n",
    "axs[1].tick_params(axis='both', which='major', direction='in')\n",
    "axs[1].tick_params(axis='both', which='minor', direction='in')\n",
    "# axs[1].legend(title=\"Perturbed\", loc=\"lower left\")\n",
    "\n",
    "\n",
    "\n",
    "epsilon_legend = []\n",
    "\n",
    "for idx, epsilon in enumerate(zs):\n",
    "    epsilon_legend.append(Line2D([0],[0],color=\"C0\", linestyle=linestyles[idx], label=r\"$z={}$\".format(zs[idx]))) \n",
    "\n",
    "\n",
    "fig.legend(handles=epsilon_legend, loc=\"upper center\", ncol=4, handlelength=2)\n",
    "\n",
    "save = True\n",
    "if save:\n",
    "    save_plot(\n",
    "        fig,\n",
    "        \"expansion\",\n",
    "    )\n",
    "\n",
    "plt.show()\n",
    "\n",
    "plt.tight_layout()\n",
    "\n",
    "\n",
    "\n"
   ]
  },
  {
   "cell_type": "code",
   "execution_count": null,
   "metadata": {},
   "outputs": [],
   "source": []
  }
 ],
 "metadata": {
  "kernelspec": {
   "display_name": ".venv",
   "language": "python",
   "name": "python3"
  },
  "language_info": {
   "codemirror_mode": {
    "name": "ipython",
    "version": 3
   },
   "file_extension": ".py",
   "mimetype": "text/x-python",
   "name": "python",
   "nbconvert_exporter": "python",
   "pygments_lexer": "ipython3",
   "version": "3.11.6"
  },
  "orig_nbformat": 4
 },
 "nbformat": 4,
 "nbformat_minor": 2
}

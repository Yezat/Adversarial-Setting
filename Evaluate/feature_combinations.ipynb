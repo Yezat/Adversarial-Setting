{
 "cells": [
  {
   "cell_type": "code",
   "execution_count": 67,
   "metadata": {},
   "outputs": [
    {
     "name": "stdout",
     "output_type": "stream",
     "text": [
      "The autoreload extension is already loaded. To reload it, use:\n",
      "  %reload_ext autoreload\n"
     ]
    }
   ],
   "source": [
    "%load_ext autoreload\n",
    "%autoreload 2"
   ]
  },
  {
   "cell_type": "code",
   "execution_count": 136,
   "metadata": {},
   "outputs": [],
   "source": [
    "import numpy as np\n",
    "import polars as pl\n",
    "from sweep.experiment import Experiment, ExperimentType\n",
    "from model.data import DataModel, KFeaturesDefinition, k_features_factory\n",
    "from erm.problems.problems import ProblemType\n",
    "import subprocess\n",
    "from experiments.data_loading import read_polars_dataframe"
   ]
  },
  {
   "cell_type": "markdown",
   "metadata": {},
   "source": [
    "Define a datamodel"
   ]
  },
  {
   "cell_type": "code",
   "execution_count": 69,
   "metadata": {},
   "outputs": [],
   "source": [
    "d = 1000"
   ]
  },
  {
   "cell_type": "code",
   "execution_count": 70,
   "metadata": {},
   "outputs": [],
   "source": [
    "x_diagonal = KFeaturesDefinition(diagonal=[(0.5,d)])\n",
    "θ_diagonal = KFeaturesDefinition(diagonal=[(2,d)])\n",
    "ω_diagonal = KFeaturesDefinition(diagonal=[(1,d)])\n",
    "δ_diagonal = KFeaturesDefinition(diagonal=[(1,d)])\n",
    "ν_diagonal = KFeaturesDefinition(diagonal=[(1,d)])\n",
    "\n",
    "low_low_kwargs = {\n",
    "    \"x_diagonal\": x_diagonal,\n",
    "    \"θ_diagonal\": θ_diagonal,\n",
    "    \"ω_diagonal\": ω_diagonal,\n",
    "    \"δ_diagonal\": δ_diagonal,\n",
    "    \"ν_diagonal\": ν_diagonal,\n",
    "}\n",
    "\n",
    "low_robustness_low_usefulness = DataModel(\n",
    "    d,\n",
    "    normalize_matrices=False,\n",
    "    data_model_factory=k_features_factory,\n",
    "    factory_kwargs=low_low_kwargs,\n",
    "    name=\"low_robustness_low_usefulness\"\n",
    ")\n"
   ]
  },
  {
   "cell_type": "code",
   "execution_count": 71,
   "metadata": {},
   "outputs": [],
   "source": [
    "x_diagonal = KFeaturesDefinition(diagonal=[(0.5,d)])\n",
    "θ_diagonal = KFeaturesDefinition(diagonal=[(8,d)])\n",
    "ω_diagonal = KFeaturesDefinition(diagonal=[(1,d)])\n",
    "δ_diagonal = KFeaturesDefinition(diagonal=[(1,d)])\n",
    "ν_diagonal = KFeaturesDefinition(diagonal=[(1,d)])\n",
    "\n",
    "low_high_kwargs = {\n",
    "    \"x_diagonal\": x_diagonal,\n",
    "    \"θ_diagonal\": θ_diagonal,\n",
    "    \"ω_diagonal\": ω_diagonal,\n",
    "    \"δ_diagonal\": δ_diagonal,\n",
    "    \"ν_diagonal\": ν_diagonal,\n",
    "}\n",
    "\n",
    "low_robustness_high_usefulness = DataModel(\n",
    "    d,\n",
    "    normalize_matrices=False,\n",
    "    data_model_factory=k_features_factory,\n",
    "    factory_kwargs=low_high_kwargs,\n",
    "    name=\"low_robustness_high_usefulness\"\n",
    ")\n"
   ]
  },
  {
   "cell_type": "code",
   "execution_count": 72,
   "metadata": {},
   "outputs": [],
   "source": [
    "x_diagonal = KFeaturesDefinition(diagonal=[(2,d)])\n",
    "θ_diagonal = KFeaturesDefinition(diagonal=[(0.5,d)])\n",
    "ω_diagonal = KFeaturesDefinition(diagonal=[(1,d)])\n",
    "δ_diagonal = KFeaturesDefinition(diagonal=[(1,d)])\n",
    "ν_diagonal = KFeaturesDefinition(diagonal=[(1,d)])\n",
    "\n",
    "high_low_kwargs = {\n",
    "    \"x_diagonal\": x_diagonal,\n",
    "    \"θ_diagonal\": θ_diagonal,\n",
    "    \"ω_diagonal\": ω_diagonal,\n",
    "    \"δ_diagonal\": δ_diagonal,\n",
    "    \"ν_diagonal\": ν_diagonal,\n",
    "}\n",
    "\n",
    "high_robustness_low_usefulness = DataModel(\n",
    "    d,\n",
    "    normalize_matrices=False,\n",
    "    data_model_factory=k_features_factory,\n",
    "    factory_kwargs=high_low_kwargs,\n",
    "    name=\"high_robustness_low_usefulness\"\n",
    ")\n"
   ]
  },
  {
   "cell_type": "code",
   "execution_count": 73,
   "metadata": {},
   "outputs": [],
   "source": [
    "x_diagonal = KFeaturesDefinition(diagonal=[(2,d)])\n",
    "θ_diagonal = KFeaturesDefinition(diagonal=[(2,d)])\n",
    "ω_diagonal = KFeaturesDefinition(diagonal=[(1,d)])\n",
    "δ_diagonal = KFeaturesDefinition(diagonal=[(1,d)])\n",
    "ν_diagonal = KFeaturesDefinition(diagonal=[(1,d)])\n",
    "\n",
    "high_high_kwargs = {\n",
    "    \"x_diagonal\": x_diagonal,\n",
    "    \"θ_diagonal\": θ_diagonal,\n",
    "    \"ω_diagonal\": ω_diagonal,\n",
    "    \"δ_diagonal\": δ_diagonal,\n",
    "    \"ν_diagonal\": ν_diagonal,\n",
    "}\n",
    "\n",
    "high_robustness_high_usefulness = DataModel(\n",
    "    d,\n",
    "    normalize_matrices=False,\n",
    "    data_model_factory=k_features_factory,\n",
    "    factory_kwargs=high_high_kwargs,\n",
    "    name=\"high_robustness_high_usefulness\"\n",
    ")\n"
   ]
  },
  {
   "cell_type": "markdown",
   "metadata": {},
   "source": [
    "Define an experiment"
   ]
  },
  {
   "cell_type": "code",
   "execution_count": 74,
   "metadata": {},
   "outputs": [],
   "source": [
    "experiment = Experiment(\n",
    "    state_evolution_repetitions=1,\n",
    "    erm_repetitions=1,\n",
    "    alphas=np.logspace(-0.2,2,10),\n",
    "    epsilons=np.array([0.0, 0.1, 0.2, 0.3]),\n",
    "    lambdas=np.array([0.001]),\n",
    "    taus=np.array([0.05]),\n",
    "    d=d,\n",
    "    experiment_type=ExperimentType.Sweep,\n",
    "    data_models = [low_robustness_low_usefulness, low_robustness_high_usefulness, high_robustness_low_usefulness, high_robustness_high_usefulness],\n",
    "    test_against_epsilons=np.array([0.2]),\n",
    "    erm_problem_type=ProblemType.Logistic,\n",
    "    gamma_fair_error=0.01,\n",
    "    name=\"feature_combinations\"\n",
    ")\n",
    "experiment_json = experiment.to_json()"
   ]
  },
  {
   "cell_type": "code",
   "execution_count": 75,
   "metadata": {},
   "outputs": [],
   "source": [
    "with open(\"feature_combinations.json\", \"w\") as f:\n",
    "    f.write(experiment_json)"
   ]
  },
  {
   "cell_type": "code",
   "execution_count": 76,
   "metadata": {},
   "outputs": [],
   "source": [
    "# venv_python = \".venv/bin/python\"\n",
    "# command = [\"mpiexec\", \"-n\", \"5\", venv_python, \"sweep/run_sweep.py\", \"--json\", experiment_json, \"--log-level\", \"INFO\"]\n",
    "# subprocess.run(command)"
   ]
  },
  {
   "cell_type": "code",
   "execution_count": 234,
   "metadata": {},
   "outputs": [
    {
     "name": "stdout",
     "output_type": "stream",
     "text": [
      "/Users/kasimirtanner/Documents/LocalCode/Code_PDM/AISTATS\n"
     ]
    },
    {
     "data": {
      "text/plain": [
       "CompletedProcess(args='pwd', returncode=0)"
      ]
     },
     "execution_count": 234,
     "metadata": {},
     "output_type": "execute_result"
    }
   ],
   "source": [
    "subprocess.run(\"pwd\")"
   ]
  },
  {
   "cell_type": "code",
   "execution_count": 196,
   "metadata": {},
   "outputs": [
    {
     "name": "stderr",
     "output_type": "stream",
     "text": [
      "/Users/kasimirtanner/Documents/LocalCode/Code_PDM/AISTATS/experiments/data_loading.py:40: UserWarning: `to_struct()` should be passed a list of field names to avoid query errors in subsequent operations (e.g. <struct operation> not supported for dtype Unknown)\n",
      "  df = df.rename({\"epsilon_g_0\":\"epsilon_g\"})\n"
     ]
    }
   ],
   "source": [
    "df = read_polars_dataframe(experiment.name)"
   ]
  },
  {
   "cell_type": "code",
   "execution_count": 198,
   "metadata": {},
   "outputs": [
    {
     "data": {
      "text/html": [
       "<div><style>\n",
       ".dataframe > thead > tr,\n",
       ".dataframe > tbody > tr {\n",
       "  text-align: right;\n",
       "  white-space: pre-wrap;\n",
       "}\n",
       "</style>\n",
       "<small>shape: (160, 148)</small><table border=\"1\" class=\"dataframe\"><thead><tr><th>alpha</th><th>epsilon</th><th>tau</th><th>lam</th><th>epsilon_g</th><th>data_model_name</th><th>id</th><th>date</th><th>task_type</th><th>erm_problem_type</th><th>test_against_epsilons</th><th>d</th><th>values</th><th>gamma_fair_error</th><th>gamma</th><th>generalization_error</th><th>adversarial_generalization_errors</th><th>training_error</th><th>training_loss</th><th>test_losses</th><th>m</th><th>q</th><th>sigma</th><th>A</th><th>P</th><th>F</th><th>m_hat</th><th>q_hat</th><th>sigma_hat</th><th>A_hat</th><th>F_hat</th><th>P_hat</th><th>n_m</th><th>n_q</th><th>n_sigma</th><th>n_A</th><th>n_P</th><th>&hellip;</th><th>adversarial_generalization_errors_teacher</th><th>adversarial_generalization_errors_overlap</th><th>fair_adversarial_errors</th><th>training_error_erm</th><th>boundary_loss_train</th><th>boundary_loss_test_es</th><th>training_loss_erm</th><th>test_losses_erm</th><th>duration_erm</th><th>id_std_erm</th><th>date_std_erm</th><th>task_type_std_erm</th><th>erm_problem_type_std_erm</th><th>test_against_epsilons_std_erm</th><th>d_std_erm</th><th>values_std_erm</th><th>gamma_fair_error_std_erm</th><th>gamma_std_erm</th><th>ρ_std</th><th>m_std_erm</th><th>F_std_erm</th><th>Q_std</th><th>A_std_erm</th><th>P_std_erm</th><th>angle_std_erm</th><th>generalization_error_erm_std</th><th>generalization_error_overlap_std</th><th>adversarial_generalization_errors_std_erm</th><th>adversarial_generalization_errors_teacher_std</th><th>adversarial_generalization_errors_overlap_std</th><th>fair_adversarial_errors_std</th><th>training_error_std_erm</th><th>boundary_loss_train_std</th><th>boundary_loss_test_es_std</th><th>training_loss_std_erm</th><th>test_losses_std_erm</th><th>duration_std_erm</th></tr><tr><td>f64</td><td>f64</td><td>f64</td><td>f64</td><td>f64</td><td>str</td><td>str</td><td>str</td><td>str</td><td>str</td><td>list[f64]</td><td>f64</td><td>struct[0]</td><td>f64</td><td>f64</td><td>f64</td><td>f64</td><td>f64</td><td>f64</td><td>f64</td><td>f64</td><td>f64</td><td>f64</td><td>f64</td><td>f64</td><td>f64</td><td>f64</td><td>f64</td><td>f64</td><td>f64</td><td>f64</td><td>f64</td><td>f64</td><td>f64</td><td>f64</td><td>f64</td><td>f64</td><td>&hellip;</td><td>f64</td><td>f64</td><td>f64</td><td>f64</td><td>f64</td><td>f64</td><td>f64</td><td>f64</td><td>f64</td><td>str</td><td>str</td><td>str</td><td>str</td><td>list[f64]</td><td>f64</td><td>struct[0]</td><td>f64</td><td>f64</td><td>f64</td><td>f64</td><td>f64</td><td>f64</td><td>f64</td><td>f64</td><td>f64</td><td>f64</td><td>f64</td><td>f64</td><td>f64</td><td>f64</td><td>f64</td><td>f64</td><td>f64</td><td>f64</td><td>f64</td><td>f64</td><td>f64</td></tr></thead><tbody><tr><td>0.630957</td><td>0.0</td><td>0.05</td><td>0.001</td><td>0.2</td><td>&quot;low_robustness_high_usefulness&quot;</td><td>null</td><td>null</td><td>null</td><td>null</td><td>null</td><td>1000.0</td><td>{}</td><td>0.01</td><td>1.0</td><td>0.30329</td><td>0.423484</td><td>0.0</td><td>0.011026</td><td>4.362861</td><td>4.427787</td><td>14.59142</td><td>291.863443</td><td>29.18284</td><td>29.18284</td><td>8.855575</td><td>0.003793</td><td>0.000114</td><td>0.001426</td><td>0.0</td><td>0.0</td><td>0.0</td><td>4.427787</td><td>14.59142</td><td>291.863443</td><td>29.18284</td><td>29.18284</td><td>&hellip;</td><td>0.1295</td><td>0.595167</td><td>0.4159</td><td>0.0</td><td>0.0</td><td>18.46232</td><td>0.010394</td><td>1.173841</td><td>18.655912</td><td>null</td><td>null</td><td>null</td><td>null</td><td>null</td><td>null</td><td>{}</td><td>null</td><td>null</td><td>null</td><td>null</td><td>null</td><td>null</td><td>null</td><td>null</td><td>null</td><td>null</td><td>null</td><td>null</td><td>null</td><td>null</td><td>null</td><td>null</td><td>null</td><td>null</td><td>null</td><td>null</td><td>null</td></tr><tr><td>100.0</td><td>0.0</td><td>0.05</td><td>0.001</td><td>0.2</td><td>&quot;low_robustness_high_usefulness&quot;</td><td>null</td><td>null</td><td>null</td><td>null</td><td>null</td><td>1000.0</td><td>{}</td><td>0.01</td><td>1.0</td><td>0.010747</td><td>0.222703</td><td>0.005813</td><td>0.022581</td><td>351.075538</td><td>61.262941</td><td>938.770702</td><td>0.917681</td><td>1877.541404</td><td>1877.541404</td><td>122.525881</td><td>16.689601</td><td>0.574405</td><td>1.087703</td><td>0.0</td><td>0.0</td><td>0.0</td><td>61.262941</td><td>938.770702</td><td>0.917681</td><td>1877.541404</td><td>1877.541404</td><td>&hellip;</td><td>0.23</td><td>0.570608</td><td>0.1025</td><td>0.00573</td><td>0.0</td><td>2094.717195</td><td>0.022662</td><td>1.051357</td><td>59.017711</td><td>null</td><td>null</td><td>null</td><td>null</td><td>null</td><td>null</td><td>{}</td><td>null</td><td>null</td><td>null</td><td>null</td><td>null</td><td>null</td><td>null</td><td>null</td><td>null</td><td>null</td><td>null</td><td>null</td><td>null</td><td>null</td><td>null</td><td>null</td><td>null</td><td>null</td><td>null</td><td>null</td><td>null</td></tr><tr><td>5.994843</td><td>0.0</td><td>0.05</td><td>0.001</td><td>0.2</td><td>&quot;high_robustness_low_usefulness&quot;</td><td>null</td><td>null</td><td>null</td><td>null</td><td>null</td><td>1000.0</td><td>{}</td><td>0.01</td><td>1.0</td><td>0.076062</td><td>0.144942</td><td>1.1302e-29</td><td>0.008788</td><td>18.103042</td><td>17.194694</td><td>312.422403</td><td>75.169449</td><td>156.211201</td><td>156.211201</td><td>8.597347</td><td>0.228746</td><td>0.002967</td><td>0.012803</td><td>0.0</td><td>0.0</td><td>0.0</td><td>17.194694</td><td>312.422403</td><td>75.169449</td><td>156.211201</td><td>156.211201</td><td>&hellip;</td><td>0.1117</td><td>-0.431544</td><td>0.1298</td><td>0.0</td><td>0.0</td><td>340.524849</td><td>0.008571</td><td>0.525551</td><td>49.044804</td><td>null</td><td>null</td><td>null</td><td>null</td><td>null</td><td>null</td><td>{}</td><td>null</td><td>null</td><td>null</td><td>null</td><td>null</td><td>null</td><td>null</td><td>null</td><td>null</td><td>null</td><td>null</td><td>null</td><td>null</td><td>null</td><td>null</td><td>null</td><td>null</td><td>null</td><td>null</td><td>null</td><td>null</td></tr><tr><td>32.442261</td><td>0.2</td><td>0.05</td><td>0.001</td><td>0.2</td><td>&quot;high_robustness_low_usefulness&quot;</td><td>null</td><td>null</td><td>null</td><td>null</td><td>null</td><td>1000.0</td><td>{}</td><td>0.01</td><td>1.0</td><td>0.028747</td><td>0.114271</td><td>0.014585</td><td>4.314174</td><td>4.38137</td><td>10.504156</td><td>110.964747</td><td>0.565413</td><td>55.482374</td><td>55.482374</td><td>5.252078</td><td>18.577849</td><td>1.962684</td><td>1.71634</td><td>0.0</td><td>0.0</td><td>0.103558</td><td>10.504156</td><td>110.964747</td><td>0.565413</td><td>55.482374</td><td>55.482374</td><td>&hellip;</td><td>0.1077</td><td>-0.441666</td><td>0.0661</td><td>0.014703</td><td>406.354458</td><td>125.488195</td><td>0.184422</td><td>0.203569</td><td>30.646932</td><td>null</td><td>null</td><td>null</td><td>null</td><td>null</td><td>null</td><td>{}</td><td>null</td><td>null</td><td>null</td><td>null</td><td>null</td><td>null</td><td>null</td><td>null</td><td>null</td><td>null</td><td>null</td><td>null</td><td>null</td><td>null</td><td>null</td><td>null</td><td>null</td><td>null</td><td>null</td><td>null</td><td>null</td></tr><tr><td>5.994843</td><td>0.3</td><td>0.05</td><td>0.001</td><td>0.2</td><td>&quot;high_robustness_high_usefulnes…</td><td>null</td><td>null</td><td>null</td><td>null</td><td>null</td><td>1000.0</td><td>{}</td><td>0.01</td><td>1.0</td><td>0.073855</td><td>0.143106</td><td>0.004528</td><td>11.532701</td><td>6.177271</td><td>22.948687</td><td>138.924017</td><td>4.642131</td><td>69.462009</td><td>69.462009</td><td>11.474343</td><td>1.235892</td><td>0.337061</td><td>0.202323</td><td>0.0</td><td>0.0</td><td>0.02519</td><td>22.948687</td><td>138.924017</td><td>4.642131</td><td>69.462009</td><td>69.462009</td><td>&hellip;</td><td>0.1135</td><td>0.545327</td><td>0.1257</td><td>0.00317</td><td>154.948698</td><td>159.249107</td><td>0.179152</td><td>0.392646</td><td>35.183068</td><td>null</td><td>null</td><td>null</td><td>null</td><td>null</td><td>null</td><td>{}</td><td>null</td><td>null</td><td>null</td><td>null</td><td>null</td><td>null</td><td>null</td><td>null</td><td>null</td><td>null</td><td>null</td><td>null</td><td>null</td><td>null</td><td>null</td><td>null</td><td>null</td><td>null</td><td>null</td><td>null</td><td>null</td></tr><tr><td>&hellip;</td><td>&hellip;</td><td>&hellip;</td><td>&hellip;</td><td>&hellip;</td><td>&hellip;</td><td>&hellip;</td><td>&hellip;</td><td>&hellip;</td><td>&hellip;</td><td>&hellip;</td><td>&hellip;</td><td>&hellip;</td><td>&hellip;</td><td>&hellip;</td><td>&hellip;</td><td>&hellip;</td><td>&hellip;</td><td>&hellip;</td><td>&hellip;</td><td>&hellip;</td><td>&hellip;</td><td>&hellip;</td><td>&hellip;</td><td>&hellip;</td><td>&hellip;</td><td>&hellip;</td><td>&hellip;</td><td>&hellip;</td><td>&hellip;</td><td>&hellip;</td><td>&hellip;</td><td>&hellip;</td><td>&hellip;</td><td>&hellip;</td><td>&hellip;</td><td>&hellip;</td><td>&hellip;</td><td>&hellip;</td><td>&hellip;</td><td>&hellip;</td><td>&hellip;</td><td>&hellip;</td><td>&hellip;</td><td>&hellip;</td><td>&hellip;</td><td>&hellip;</td><td>&hellip;</td><td>&hellip;</td><td>&hellip;</td><td>&hellip;</td><td>&hellip;</td><td>&hellip;</td><td>&hellip;</td><td>&hellip;</td><td>&hellip;</td><td>&hellip;</td><td>&hellip;</td><td>&hellip;</td><td>&hellip;</td><td>&hellip;</td><td>&hellip;</td><td>&hellip;</td><td>&hellip;</td><td>&hellip;</td><td>&hellip;</td><td>&hellip;</td><td>&hellip;</td><td>&hellip;</td><td>&hellip;</td><td>&hellip;</td><td>&hellip;</td><td>&hellip;</td><td>&hellip;</td><td>&hellip;</td></tr><tr><td>56.958108</td><td>0.0</td><td>0.05</td><td>0.001</td><td>0.2</td><td>&quot;low_robustness_high_usefulness&quot;</td><td>null</td><td>null</td><td>null</td><td>null</td><td>null</td><td>1000.0</td><td>{}</td><td>0.01</td><td>1.0</td><td>0.013246</td><td>0.222703</td><td>0.004762</td><td>0.024205</td><td>247.825375</td><td>51.786245</td><td>671.196611</td><td>1.50442</td><td>1342.393223</td><td>1342.393223</td><td>103.572489</td><td>8.605685</td><td>0.328208</td><td>0.662708</td><td>0.0</td><td>0.0</td><td>0.0</td><td>51.786245</td><td>671.196611</td><td>1.50442</td><td>1342.393223</td><td>1342.393223</td><td>&hellip;</td><td>0.2226</td><td>0.580978</td><td>0.1126</td><td>0.00467</td><td>0.0</td><td>1509.104774</td><td>0.023997</td><td>0.895668</td><td>41.887833</td><td>null</td><td>null</td><td>null</td><td>null</td><td>null</td><td>null</td><td>{}</td><td>null</td><td>null</td><td>null</td><td>null</td><td>null</td><td>null</td><td>null</td><td>null</td><td>null</td><td>null</td><td>null</td><td>null</td><td>null</td><td>null</td><td>null</td><td>null</td><td>null</td><td>null</td><td>null</td><td>null</td><td>null</td></tr><tr><td>0.630957</td><td>0.2</td><td>0.05</td><td>0.001</td><td>0.2</td><td>&quot;low_robustness_low_usefulness&quot;</td><td>null</td><td>null</td><td>null</td><td>null</td><td>null</td><td>1000.0</td><td>{}</td><td>0.01</td><td>1.0</td><td>0.304297</td><td>0.424433</td><td>0.0</td><td>2.646676</td><td>6.344104</td><td>2.625037</td><td>20.659576</td><td>213.274232</td><td>41.319152</td><td>41.319152</td><td>5.250074</td><td>0.012308</td><td>0.000303</td><td>0.001997</td><td>0.0</td><td>0.0</td><td>0.000346</td><td>2.625037</td><td>20.659576</td><td>213.274232</td><td>41.319152</td><td>41.319152</td><td>&hellip;</td><td>0.1288</td><td>0.606269</td><td>0.4188</td><td>0.0</td><td>4.782306</td><td>26.601356</td><td>0.018156</td><td>1.409722</td><td>28.110478</td><td>null</td><td>null</td><td>null</td><td>null</td><td>null</td><td>null</td><td>{}</td><td>null</td><td>null</td><td>null</td><td>null</td><td>null</td><td>null</td><td>null</td><td>null</td><td>null</td><td>null</td><td>null</td><td>null</td><td>null</td><td>null</td><td>null</td><td>null</td><td>null</td><td>null</td><td>null</td><td>null</td><td>null</td></tr><tr><td>3.414549</td><td>0.2</td><td>0.05</td><td>0.001</td><td>0.2</td><td>&quot;high_robustness_low_usefulness&quot;</td><td>null</td><td>null</td><td>null</td><td>null</td><td>null</td><td>1000.0</td><td>{}</td><td>0.01</td><td>1.0</td><td>0.123782</td><td>0.187667</td><td>3.6641e-38</td><td>17.653053</td><td>19.328098</td><td>16.572011</td><td>319.937972</td><td>93.104672</td><td>159.968986</td><td>159.968986</td><td>8.286006</td><td>0.177993</td><td>0.005227</td><td>0.009755</td><td>0.0</td><td>0.0</td><td>0.000971</td><td>16.572011</td><td>319.937972</td><td>93.104672</td><td>159.968986</td><td>159.968986</td><td>&hellip;</td><td>0.1054</td><td>0.547274</td><td>0.1751</td><td>0.0</td><td>128.542665</td><td>334.57136</td><td>0.01857</td><td>0.974807</td><td>44.219075</td><td>null</td><td>null</td><td>null</td><td>null</td><td>null</td><td>null</td><td>{}</td><td>null</td><td>null</td><td>null</td><td>null</td><td>null</td><td>null</td><td>null</td><td>null</td><td>null</td><td>null</td><td>null</td><td>null</td><td>null</td><td>null</td><td>null</td><td>null</td><td>null</td><td>null</td><td>null</td><td>null</td><td>null</td></tr><tr><td>10.525003</td><td>0.2</td><td>0.05</td><td>0.001</td><td>0.2</td><td>&quot;low_robustness_low_usefulness&quot;</td><td>null</td><td>null</td><td>null</td><td>null</td><td>null</td><td>1000.0</td><td>{}</td><td>0.01</td><td>1.0</td><td>0.060315</td><td>0.227148</td><td>0.01995</td><td>7.601932</td><td>7.801971</td><td>5.389877</td><td>30.044196</td><td>0.93741</td><td>60.088392</td><td>60.088392</td><td>10.779755</td><td>5.749756</td><td>1.130507</td><td>0.948861</td><td>0.0</td><td>0.0</td><td>0.057954</td><td>5.389877</td><td>30.044196</td><td>0.93741</td><td>60.088392</td><td>60.088392</td><td>&hellip;</td><td>0.2159</td><td>-0.378445</td><td>0.1653</td><td>0.018527</td><td>70.649461</td><td>64.545011</td><td>0.325801</td><td>0.427423</td><td>35.28939</td><td>null</td><td>null</td><td>null</td><td>null</td><td>null</td><td>null</td><td>{}</td><td>null</td><td>null</td><td>null</td><td>null</td><td>null</td><td>null</td><td>null</td><td>null</td><td>null</td><td>null</td><td>null</td><td>null</td><td>null</td><td>null</td><td>null</td><td>null</td><td>null</td><td>null</td><td>null</td><td>null</td><td>null</td></tr><tr><td>100.0</td><td>0.1</td><td>0.05</td><td>0.001</td><td>0.2</td><td>&quot;low_robustness_low_usefulness&quot;</td><td>null</td><td>null</td><td>null</td><td>null</td><td>null</td><td>1000.0</td><td>{}</td><td>0.01</td><td>1.0</td><td>0.020783</td><td>0.222703</td><td>0.015957</td><td>11.44601</td><td>30.278499</td><td>9.743661</td><td>95.107053</td><td>0.160507</td><td>190.214107</td><td>190.214107</td><td>19.487322</td><td>60.705527</td><td>6.525748</td><td>6.043369</td><td>0.0</td><td>0.0</td><td>0.092444</td><td>9.743661</td><td>95.107053</td><td>0.160507</td><td>190.214107</td><td>190.214107</td><td>&hellip;</td><td>0.2207</td><td>-0.38812</td><td>0.1089</td><td>0.01632</td><td>1055.686565</td><td>209.974147</td><td>0.193973</td><td>0.448748</td><td>43.042177</td><td>null</td><td>null</td><td>null</td><td>null</td><td>null</td><td>null</td><td>{}</td><td>null</td><td>null</td><td>null</td><td>null</td><td>null</td><td>null</td><td>null</td><td>null</td><td>null</td><td>null</td><td>null</td><td>null</td><td>null</td><td>null</td><td>null</td><td>null</td><td>null</td><td>null</td><td>null</td><td>null</td><td>null</td></tr></tbody></table></div>"
      ],
      "text/plain": [
       "shape: (160, 148)\n",
       "┌───────────┬─────────┬──────┬───────┬───┬──────────────┬──────────────┬─────────────┬─────────────┐\n",
       "│ alpha     ┆ epsilon ┆ tau  ┆ lam   ┆ … ┆ boundary_los ┆ training_los ┆ test_losses ┆ duration_st │\n",
       "│ ---       ┆ ---     ┆ ---  ┆ ---   ┆   ┆ s_test_es_st ┆ s_std_erm    ┆ _std_erm    ┆ d_erm       │\n",
       "│ f64       ┆ f64     ┆ f64  ┆ f64   ┆   ┆ d            ┆ ---          ┆ ---         ┆ ---         │\n",
       "│           ┆         ┆      ┆       ┆   ┆ ---          ┆ f64          ┆ f64         ┆ f64         │\n",
       "│           ┆         ┆      ┆       ┆   ┆ f64          ┆              ┆             ┆             │\n",
       "╞═══════════╪═════════╪══════╪═══════╪═══╪══════════════╪══════════════╪═════════════╪═════════════╡\n",
       "│ 0.630957  ┆ 0.0     ┆ 0.05 ┆ 0.001 ┆ … ┆ null         ┆ null         ┆ null        ┆ null        │\n",
       "│ 100.0     ┆ 0.0     ┆ 0.05 ┆ 0.001 ┆ … ┆ null         ┆ null         ┆ null        ┆ null        │\n",
       "│ 5.994843  ┆ 0.0     ┆ 0.05 ┆ 0.001 ┆ … ┆ null         ┆ null         ┆ null        ┆ null        │\n",
       "│ 32.442261 ┆ 0.2     ┆ 0.05 ┆ 0.001 ┆ … ┆ null         ┆ null         ┆ null        ┆ null        │\n",
       "│ 5.994843  ┆ 0.3     ┆ 0.05 ┆ 0.001 ┆ … ┆ null         ┆ null         ┆ null        ┆ null        │\n",
       "│ …         ┆ …       ┆ …    ┆ …     ┆ … ┆ …            ┆ …            ┆ …           ┆ …           │\n",
       "│ 56.958108 ┆ 0.0     ┆ 0.05 ┆ 0.001 ┆ … ┆ null         ┆ null         ┆ null        ┆ null        │\n",
       "│ 0.630957  ┆ 0.2     ┆ 0.05 ┆ 0.001 ┆ … ┆ null         ┆ null         ┆ null        ┆ null        │\n",
       "│ 3.414549  ┆ 0.2     ┆ 0.05 ┆ 0.001 ┆ … ┆ null         ┆ null         ┆ null        ┆ null        │\n",
       "│ 10.525003 ┆ 0.2     ┆ 0.05 ┆ 0.001 ┆ … ┆ null         ┆ null         ┆ null        ┆ null        │\n",
       "│ 100.0     ┆ 0.1     ┆ 0.05 ┆ 0.001 ┆ … ┆ null         ┆ null         ┆ null        ┆ null        │\n",
       "└───────────┴─────────┴──────┴───────┴───┴──────────────┴──────────────┴─────────────┴─────────────┘"
      ]
     },
     "execution_count": 198,
     "metadata": {},
     "output_type": "execute_result"
    }
   ],
   "source": [
    "df"
   ]
  },
  {
   "cell_type": "code",
   "execution_count": 202,
   "metadata": {},
   "outputs": [],
   "source": [
    "import os\n",
    "import matplotlib.pyplot as plt\n",
    "import datetime\n",
    "from matplotlib.lines import Line2D\n",
    "from scipy.special import erfc\n",
    "from scipy.integrate import quad"
   ]
  },
  {
   "cell_type": "code",
   "execution_count": 212,
   "metadata": {},
   "outputs": [],
   "source": [
    "data_models = list(df[\"data_model_name\"].unique())\n",
    "epsilons = list(df[\"epsilon\"].unique())\n",
    "alphas = list(df[\"alpha\"].unique())"
   ]
  },
  {
   "cell_type": "code",
   "execution_count": null,
   "metadata": {},
   "outputs": [
    {
     "data": {
      "text/plain": [
       "['low_robustness_high_usefulness',\n",
       " 'high_robustness_low_usefulness',\n",
       " 'high_robustness_high_usefulness',\n",
       " 'low_robustness_low_usefulness']"
      ]
     },
     "execution_count": 211,
     "metadata": {},
     "output_type": "execute_result"
    }
   ],
   "source": []
  },
  {
   "cell_type": "code",
   "execution_count": 215,
   "metadata": {},
   "outputs": [],
   "source": [
    "df_filtered = df.filter(pl.col(\"data_model_name\") == data_models[0], pl.col(\"epsilon\") == epsilons[0])"
   ]
  },
  {
   "cell_type": "code",
   "execution_count": 238,
   "metadata": {},
   "outputs": [
    {
     "data": {
      "text/html": [
       "<div><style>\n",
       ".dataframe > thead > tr,\n",
       ".dataframe > tbody > tr {\n",
       "  text-align: right;\n",
       "  white-space: pre-wrap;\n",
       "}\n",
       "</style>\n",
       "<small>shape: (10, 148)</small><table border=\"1\" class=\"dataframe\"><thead><tr><th>alpha</th><th>epsilon</th><th>tau</th><th>lam</th><th>epsilon_g</th><th>data_model_name</th><th>id</th><th>date</th><th>task_type</th><th>erm_problem_type</th><th>test_against_epsilons</th><th>d</th><th>values</th><th>gamma_fair_error</th><th>gamma</th><th>generalization_error</th><th>adversarial_generalization_errors</th><th>training_error</th><th>training_loss</th><th>test_losses</th><th>m</th><th>q</th><th>sigma</th><th>A</th><th>P</th><th>F</th><th>m_hat</th><th>q_hat</th><th>sigma_hat</th><th>A_hat</th><th>F_hat</th><th>P_hat</th><th>n_m</th><th>n_q</th><th>n_sigma</th><th>n_A</th><th>n_P</th><th>&hellip;</th><th>adversarial_generalization_errors_teacher</th><th>adversarial_generalization_errors_overlap</th><th>fair_adversarial_errors</th><th>training_error_erm</th><th>boundary_loss_train</th><th>boundary_loss_test_es</th><th>training_loss_erm</th><th>test_losses_erm</th><th>duration_erm</th><th>id_std_erm</th><th>date_std_erm</th><th>task_type_std_erm</th><th>erm_problem_type_std_erm</th><th>test_against_epsilons_std_erm</th><th>d_std_erm</th><th>values_std_erm</th><th>gamma_fair_error_std_erm</th><th>gamma_std_erm</th><th>ρ_std</th><th>m_std_erm</th><th>F_std_erm</th><th>Q_std</th><th>A_std_erm</th><th>P_std_erm</th><th>angle_std_erm</th><th>generalization_error_erm_std</th><th>generalization_error_overlap_std</th><th>adversarial_generalization_errors_std_erm</th><th>adversarial_generalization_errors_teacher_std</th><th>adversarial_generalization_errors_overlap_std</th><th>fair_adversarial_errors_std</th><th>training_error_std_erm</th><th>boundary_loss_train_std</th><th>boundary_loss_test_es_std</th><th>training_loss_std_erm</th><th>test_losses_std_erm</th><th>duration_std_erm</th></tr><tr><td>f64</td><td>f64</td><td>f64</td><td>f64</td><td>f64</td><td>str</td><td>str</td><td>str</td><td>str</td><td>str</td><td>list[f64]</td><td>f64</td><td>struct[0]</td><td>f64</td><td>f64</td><td>f64</td><td>f64</td><td>f64</td><td>f64</td><td>f64</td><td>f64</td><td>f64</td><td>f64</td><td>f64</td><td>f64</td><td>f64</td><td>f64</td><td>f64</td><td>f64</td><td>f64</td><td>f64</td><td>f64</td><td>f64</td><td>f64</td><td>f64</td><td>f64</td><td>f64</td><td>&hellip;</td><td>f64</td><td>f64</td><td>f64</td><td>f64</td><td>f64</td><td>f64</td><td>f64</td><td>f64</td><td>f64</td><td>str</td><td>str</td><td>str</td><td>str</td><td>list[f64]</td><td>f64</td><td>struct[0]</td><td>f64</td><td>f64</td><td>f64</td><td>f64</td><td>f64</td><td>f64</td><td>f64</td><td>f64</td><td>f64</td><td>f64</td><td>f64</td><td>f64</td><td>f64</td><td>f64</td><td>f64</td><td>f64</td><td>f64</td><td>f64</td><td>f64</td><td>f64</td><td>f64</td></tr></thead><tbody><tr><td>0.630957</td><td>0.3</td><td>0.05</td><td>0.001</td><td>0.2</td><td>&quot;low_robustness_low_usefulness&quot;</td><td>null</td><td>null</td><td>null</td><td>null</td><td>null</td><td>1000.0</td><td>{}</td><td>0.01</td><td>1.0</td><td>0.304618</td><td>0.424734</td><td>0.0</td><td>8.800912</td><td>7.96353</td><td>2.907486</td><td>25.417032</td><td>174.578604</td><td>50.834063</td><td>50.834063</td><td>5.814972</td><td>0.016654</td><td>0.000557</td><td>0.002469</td><td>0.0</td><td>0.0</td><td>0.00063</td><td>2.907486</td><td>25.417032</td><td>174.578604</td><td>50.834063</td><td>50.834063</td><td>&hellip;</td><td>0.1399</td><td>-0.384134</td><td>0.4126</td><td>0.0</td><td>8.807686</td><td>34.752769</td><td>0.025513</td><td>1.510014</td><td>38.374617</td><td>null</td><td>null</td><td>null</td><td>null</td><td>null</td><td>null</td><td>{}</td><td>null</td><td>null</td><td>null</td><td>null</td><td>null</td><td>null</td><td>null</td><td>null</td><td>null</td><td>null</td><td>null</td><td>null</td><td>null</td><td>null</td><td>null</td><td>null</td><td>null</td><td>null</td><td>null</td><td>null</td><td>null</td></tr><tr><td>1.107757</td><td>0.3</td><td>0.05</td><td>0.001</td><td>0.2</td><td>&quot;low_robustness_low_usefulness&quot;</td><td>null</td><td>null</td><td>null</td><td>null</td><td>null</td><td>1000.0</td><td>{}</td><td>0.01</td><td>1.0</td><td>0.248205</td><td>0.372094</td><td>0.0</td><td>28.238185</td><td>19.759838</td><td>5.533723</td><td>60.41</td><td>81.721387</td><td>120.819999</td><td>120.819999</td><td>11.067446</td><td>0.067715</td><td>0.00446</td><td>0.007574</td><td>0.0</td><td>0.0</td><td>0.001331</td><td>5.533723</td><td>60.41</td><td>81.721387</td><td>120.819999</td><td>120.819999</td><td>&hellip;</td><td>0.151</td><td>0.608438</td><td>0.3787</td><td>0.0</td><td>28.18793</td><td>83.597859</td><td>0.04027</td><td>1.760946</td><td>31.44776</td><td>null</td><td>null</td><td>null</td><td>null</td><td>null</td><td>null</td><td>{}</td><td>null</td><td>null</td><td>null</td><td>null</td><td>null</td><td>null</td><td>null</td><td>null</td><td>null</td><td>null</td><td>null</td><td>null</td><td>null</td><td>null</td><td>null</td><td>null</td><td>null</td><td>null</td><td>null</td><td>null</td><td>null</td></tr><tr><td>1.944862</td><td>0.3</td><td>0.05</td><td>0.001</td><td>0.2</td><td>&quot;low_robustness_low_usefulness&quot;</td><td>null</td><td>null</td><td>null</td><td>null</td><td>null</td><td>1000.0</td><td>{}</td><td>0.01</td><td>1.0</td><td>0.181476</td><td>0.311987</td><td>0.0002</td><td>42.945885</td><td>28.026719</td><td>7.798462</td><td>85.601428</td><td>15.208367</td><td>171.202856</td><td>171.202856</td><td>15.596924</td><td>0.512774</td><td>0.10716</td><td>0.05085</td><td>0.0</td><td>0.0</td><td>0.006452</td><td>7.798462</td><td>85.601428</td><td>15.208367</td><td>171.202856</td><td>171.202856</td><td>&hellip;</td><td>0.1905</td><td>0.607725</td><td>0.2927</td><td>0.000514</td><td>66.701007</td><td>171.492417</td><td>0.185457</td><td>1.332673</td><td>43.124167</td><td>null</td><td>null</td><td>null</td><td>null</td><td>null</td><td>null</td><td>{}</td><td>null</td><td>null</td><td>null</td><td>null</td><td>null</td><td>null</td><td>null</td><td>null</td><td>null</td><td>null</td><td>null</td><td>null</td><td>null</td><td>null</td><td>null</td><td>null</td><td>null</td><td>null</td><td>null</td><td>null</td><td>null</td></tr><tr><td>3.414549</td><td>0.3</td><td>0.05</td><td>0.001</td><td>0.2</td><td>&quot;low_robustness_low_usefulness&quot;</td><td>null</td><td>null</td><td>null</td><td>null</td><td>null</td><td>1000.0</td><td>{}</td><td>0.01</td><td>1.0</td><td>0.12631</td><td>0.266371</td><td>0.013712</td><td>8.506062</td><td>5.170512</td><td>4.219501</td><td>20.878339</td><td>2.700649</td><td>41.756678</td><td>41.756678</td><td>8.439002</td><td>1.562403</td><td>0.421491</td><td>0.288892</td><td>0.0</td><td>0.0</td><td>0.039695</td><td>4.219501</td><td>20.878339</td><td>2.700649</td><td>41.756678</td><td>41.756678</td><td>&hellip;</td><td>0.205</td><td>-0.384181</td><td>0.2289</td><td>0.012595</td><td>28.148582</td><td>46.273117</td><td>0.374614</td><td>0.564455</td><td>30.831867</td><td>null</td><td>null</td><td>null</td><td>null</td><td>null</td><td>null</td><td>{}</td><td>null</td><td>null</td><td>null</td><td>null</td><td>null</td><td>null</td><td>null</td><td>null</td><td>null</td><td>null</td><td>null</td><td>null</td><td>null</td><td>null</td><td>null</td><td>null</td><td>null</td><td>null</td><td>null</td><td>null</td><td>null</td></tr><tr><td>5.994843</td><td>0.3</td><td>0.05</td><td>0.001</td><td>0.2</td><td>&quot;low_robustness_low_usefulness&quot;</td><td>null</td><td>null</td><td>null</td><td>null</td><td>null</td><td>1000.0</td><td>{}</td><td>0.01</td><td>1.0</td><td>0.094164</td><td>0.243781</td><td>0.026554</td><td>4.252825</td><td>2.51641</td><td>3.288642</td><td>11.790244</td><td>1.041542</td><td>23.580489</td><td>23.580489</td><td>6.577283</td><td>3.157475</td><td>0.89885</td><td>0.737374</td><td>0.0</td><td>0.0</td><td>0.110371</td><td>3.288642</td><td>11.790244</td><td>1.041542</td><td>23.580489</td><td>23.580489</td><td>&hellip;</td><td>0.2022</td><td>0.596846</td><td>0.2043</td><td>0.028695</td><td>24.451567</td><td>24.701444</td><td>0.447951</td><td>0.452752</td><td>21.285876</td><td>null</td><td>null</td><td>null</td><td>null</td><td>null</td><td>null</td><td>{}</td><td>null</td><td>null</td><td>null</td><td>null</td><td>null</td><td>null</td><td>null</td><td>null</td><td>null</td><td>null</td><td>null</td><td>null</td><td>null</td><td>null</td><td>null</td><td>null</td><td>null</td><td>null</td><td>null</td><td>null</td><td>null</td></tr><tr><td>10.525003</td><td>0.3</td><td>0.05</td><td>0.001</td><td>0.2</td><td>&quot;low_robustness_low_usefulness&quot;</td><td>null</td><td>null</td><td>null</td><td>null</td><td>null</td><td>1000.0</td><td>{}</td><td>0.01</td><td>1.0</td><td>0.071601</td><td>0.231523</td><td>0.031365</td><td>3.106231</td><td>1.81654</td><td>2.930631</td><td>9.01572</td><td>0.498175</td><td>18.031441</td><td>18.031441</td><td>5.861263</td><td>5.882737</td><td>1.721023</td><td>1.525053</td><td>0.0</td><td>0.0</td><td>0.240137</td><td>2.930631</td><td>9.01572</td><td>0.498175</td><td>18.031441</td><td>18.031441</td><td>&hellip;</td><td>0.2126</td><td>-0.374538</td><td>0.1741</td><td>0.031449</td><td>33.15243</td><td>19.700019</td><td>0.477172</td><td>0.424288</td><td>33.538827</td><td>null</td><td>null</td><td>null</td><td>null</td><td>null</td><td>null</td><td>{}</td><td>null</td><td>null</td><td>null</td><td>null</td><td>null</td><td>null</td><td>null</td><td>null</td><td>null</td><td>null</td><td>null</td><td>null</td><td>null</td><td>null</td><td>null</td><td>null</td><td>null</td><td>null</td><td>null</td><td>null</td><td>null</td></tr><tr><td>18.478498</td><td>0.3</td><td>0.05</td><td>0.001</td><td>0.2</td><td>&quot;low_robustness_low_usefulness&quot;</td><td>null</td><td>null</td><td>null</td><td>null</td><td>null</td><td>1000.0</td><td>{}</td><td>0.01</td><td>1.0</td><td>0.055048</td><td>0.225611</td><td>0.031251</td><td>2.655149</td><td>1.54158</td><td>2.759637</td><td>7.828407</td><td>0.259548</td><td>15.656813</td><td>15.656813</td><td>5.519274</td><td>10.632485</td><td>3.159077</td><td>2.907555</td><td>0.0</td><td>0.0</td><td>0.471651</td><td>2.759637</td><td>7.828407</td><td>0.259548</td><td>15.656813</td><td>15.656813</td><td>&hellip;</td><td>0.2198</td><td>0.608979</td><td>0.1539</td><td>0.031226</td><td>51.838774</td><td>17.91656</td><td>0.489408</td><td>0.409038</td><td>29.106287</td><td>null</td><td>null</td><td>null</td><td>null</td><td>null</td><td>null</td><td>{}</td><td>null</td><td>null</td><td>null</td><td>null</td><td>null</td><td>null</td><td>null</td><td>null</td><td>null</td><td>null</td><td>null</td><td>null</td><td>null</td><td>null</td><td>null</td><td>null</td><td>null</td><td>null</td><td>null</td><td>null</td><td>null</td></tr><tr><td>32.442261</td><td>0.3</td><td>0.05</td><td>0.001</td><td>0.2</td><td>&quot;low_robustness_low_usefulness&quot;</td><td>null</td><td>null</td><td>null</td><td>null</td><td>null</td><td>1000.0</td><td>{}</td><td>0.01</td><td>1.0</td><td>0.042866</td><td>0.223388</td><td>0.028875</td><td>2.443881</td><td>1.412684</td><td>2.670405</td><td>7.243856</td><td>0.140899</td><td>14.487711</td><td>14.487711</td><td>5.340809</td><td>18.952578</td><td>5.681592</td><td>5.334358</td><td>0.0</td><td>0.0</td><td>0.880455</td><td>2.670405</td><td>7.243856</td><td>0.140899</td><td>14.487711</td><td>14.487711</td><td>&hellip;</td><td>0.2316</td><td>-0.37324</td><td>0.1501</td><td>0.028605</td><td>82.262671</td><td>16.430742</td><td>0.501704</td><td>0.41026</td><td>28.475495</td><td>null</td><td>null</td><td>null</td><td>null</td><td>null</td><td>null</td><td>{}</td><td>null</td><td>null</td><td>null</td><td>null</td><td>null</td><td>null</td><td>null</td><td>null</td><td>null</td><td>null</td><td>null</td><td>null</td><td>null</td><td>null</td><td>null</td><td>null</td><td>null</td><td>null</td><td>null</td><td>null</td><td>null</td></tr><tr><td>56.958108</td><td>0.3</td><td>0.05</td><td>0.001</td><td>0.2</td><td>&quot;low_robustness_low_usefulness&quot;</td><td>null</td><td>null</td><td>null</td><td>null</td><td>null</td><td>1000.0</td><td>{}</td><td>0.01</td><td>1.0</td><td>0.034011</td><td>0.222808</td><td>0.025831</td><td>2.335733</td><td>1.346662</td><td>2.621868</td><td>6.935934</td><td>0.07815</td><td>13.871868</td><td>13.871868</td><td>5.243736</td><td>33.549242</td><td>10.109285</td><td>9.594698</td><td>0.0</td><td>0.0</td><td>1.599616</td><td>2.621868</td><td>6.935934</td><td>0.07815</td><td>13.871868</td><td>13.871868</td><td>&hellip;</td><td>0.2251</td><td>0.607492</td><td>0.1397</td><td>0.025247</td><td>137.006171</td><td>15.6061</td><td>0.506178</td><td>0.406758</td><td>37.538324</td><td>null</td><td>null</td><td>null</td><td>null</td><td>null</td><td>null</td><td>{}</td><td>null</td><td>null</td><td>null</td><td>null</td><td>null</td><td>null</td><td>null</td><td>null</td><td>null</td><td>null</td><td>null</td><td>null</td><td>null</td><td>null</td><td>null</td><td>null</td><td>null</td><td>null</td><td>null</td><td>null</td><td>null</td></tr><tr><td>100.0</td><td>0.3</td><td>0.05</td><td>0.001</td><td>0.2</td><td>&quot;low_robustness_low_usefulness&quot;</td><td>null</td><td>null</td><td>null</td><td>null</td><td>null</td><td>1000.0</td><td>{}</td><td>0.01</td><td>1.0</td><td>0.027717</td><td>0.222713</td><td>0.022958</td><td>2.277679</td><td>1.311212</td><td>2.594906</td><td>6.767928</td><td>0.043855</td><td>13.535855</td><td>13.535855</td><td>5.189811</td><td>59.170107</td><td>17.882375</td><td>17.07424</td><td>0.0</td><td>0.0</td><td>2.863085</td><td>2.594906</td><td>6.767928</td><td>0.043855</td><td>13.535855</td><td>13.535855</td><td>&hellip;</td><td>0.2239</td><td>-0.364748</td><td>0.1204</td><td>0.02284</td><td>229.949569</td><td>15.335439</td><td>0.510089</td><td>0.397393</td><td>41.261827</td><td>null</td><td>null</td><td>null</td><td>null</td><td>null</td><td>null</td><td>{}</td><td>null</td><td>null</td><td>null</td><td>null</td><td>null</td><td>null</td><td>null</td><td>null</td><td>null</td><td>null</td><td>null</td><td>null</td><td>null</td><td>null</td><td>null</td><td>null</td><td>null</td><td>null</td><td>null</td><td>null</td><td>null</td></tr></tbody></table></div>"
      ],
      "text/plain": [
       "shape: (10, 148)\n",
       "┌───────────┬─────────┬──────┬───────┬───┬──────────────┬──────────────┬─────────────┬─────────────┐\n",
       "│ alpha     ┆ epsilon ┆ tau  ┆ lam   ┆ … ┆ boundary_los ┆ training_los ┆ test_losses ┆ duration_st │\n",
       "│ ---       ┆ ---     ┆ ---  ┆ ---   ┆   ┆ s_test_es_st ┆ s_std_erm    ┆ _std_erm    ┆ d_erm       │\n",
       "│ f64       ┆ f64     ┆ f64  ┆ f64   ┆   ┆ d            ┆ ---          ┆ ---         ┆ ---         │\n",
       "│           ┆         ┆      ┆       ┆   ┆ ---          ┆ f64          ┆ f64         ┆ f64         │\n",
       "│           ┆         ┆      ┆       ┆   ┆ f64          ┆              ┆             ┆             │\n",
       "╞═══════════╪═════════╪══════╪═══════╪═══╪══════════════╪══════════════╪═════════════╪═════════════╡\n",
       "│ 0.630957  ┆ 0.3     ┆ 0.05 ┆ 0.001 ┆ … ┆ null         ┆ null         ┆ null        ┆ null        │\n",
       "│ 1.107757  ┆ 0.3     ┆ 0.05 ┆ 0.001 ┆ … ┆ null         ┆ null         ┆ null        ┆ null        │\n",
       "│ 1.944862  ┆ 0.3     ┆ 0.05 ┆ 0.001 ┆ … ┆ null         ┆ null         ┆ null        ┆ null        │\n",
       "│ 3.414549  ┆ 0.3     ┆ 0.05 ┆ 0.001 ┆ … ┆ null         ┆ null         ┆ null        ┆ null        │\n",
       "│ 5.994843  ┆ 0.3     ┆ 0.05 ┆ 0.001 ┆ … ┆ null         ┆ null         ┆ null        ┆ null        │\n",
       "│ 10.525003 ┆ 0.3     ┆ 0.05 ┆ 0.001 ┆ … ┆ null         ┆ null         ┆ null        ┆ null        │\n",
       "│ 18.478498 ┆ 0.3     ┆ 0.05 ┆ 0.001 ┆ … ┆ null         ┆ null         ┆ null        ┆ null        │\n",
       "│ 32.442261 ┆ 0.3     ┆ 0.05 ┆ 0.001 ┆ … ┆ null         ┆ null         ┆ null        ┆ null        │\n",
       "│ 56.958108 ┆ 0.3     ┆ 0.05 ┆ 0.001 ┆ … ┆ null         ┆ null         ┆ null        ┆ null        │\n",
       "│ 100.0     ┆ 0.3     ┆ 0.05 ┆ 0.001 ┆ … ┆ null         ┆ null         ┆ null        ┆ null        │\n",
       "└───────────┴─────────┴──────┴───────┴───┴──────────────┴──────────────┴─────────────┴─────────────┘"
      ]
     },
     "execution_count": 238,
     "metadata": {},
     "output_type": "execute_result"
    }
   ],
   "source": [
    "df_filtered.sort(by=\"alpha\")"
   ]
  },
  {
   "cell_type": "code",
   "execution_count": 231,
   "metadata": {},
   "outputs": [
    {
     "data": {
      "text/html": [
       "<div><style>\n",
       ".dataframe > thead > tr,\n",
       ".dataframe > tbody > tr {\n",
       "  text-align: right;\n",
       "  white-space: pre-wrap;\n",
       "}\n",
       "</style>\n",
       "<small>shape: (10,)</small><table border=\"1\" class=\"dataframe\"><thead><tr><th>generalization_error_erm_std</th></tr><tr><td>f64</td></tr></thead><tbody><tr><td>null</td></tr><tr><td>null</td></tr><tr><td>null</td></tr><tr><td>null</td></tr><tr><td>null</td></tr><tr><td>null</td></tr><tr><td>null</td></tr><tr><td>null</td></tr><tr><td>null</td></tr><tr><td>null</td></tr></tbody></table></div>"
      ],
      "text/plain": [
       "shape: (10,)\n",
       "Series: 'generalization_error_erm_std' [f64]\n",
       "[\n",
       "\tnull\n",
       "\tnull\n",
       "\tnull\n",
       "\tnull\n",
       "\tnull\n",
       "\tnull\n",
       "\tnull\n",
       "\tnull\n",
       "\tnull\n",
       "\tnull\n",
       "]"
      ]
     },
     "execution_count": 231,
     "metadata": {},
     "output_type": "execute_result"
    }
   ],
   "source": [
    "df_filtered[\"generalization_error_erm_std\"]"
   ]
  },
  {
   "cell_type": "code",
   "execution_count": 232,
   "metadata": {},
   "outputs": [],
   "source": [
    "adversarial_error = df_filtered[\"adversarial_generalization_errors\"]\n",
    "generalization_error = df_filtered[\"generalization_error\"]\n",
    "boundary_error = adversarial_error - generalization_error\n",
    "\n",
    "adversarial_error_erm = df_filtered[\"adversarial_generalization_errors_erm\"]\n",
    "generalization_error_erm = df_filtered[\"generalization_error_erm\"]\n",
    "boundary_error_erm = adversarial_error_erm - generalization_error_erm\n",
    "\n",
    "rho = df_filtered[\"ρ\"][0]\n",
    "tau = df_filtered[\"tau\"][0]\n",
    "\n",
    "adversarial_error_erm_std = df_filtered[\"adversarial_generalization_errors_std_erm\"]\n",
    "generalization_error_erm_std = df_filtered[\"generalization_error_erm_std\"]\n",
    "boundary_error_erm_std = adversarial_error_erm_std - generalization_error_erm_std"
   ]
  },
  {
   "cell_type": "code",
   "execution_count": 239,
   "metadata": {},
   "outputs": [
    {
     "name": "stdout",
     "output_type": "stream",
     "text": [
      "Figure size:  [8.5 2.4]\n",
      "Epsilon:  0.0\n",
      "Epsilon:  0.1\n",
      "Epsilon:  0.2\n",
      "Epsilon:  0.3\n",
      "Epsilon:  0.0\n",
      "Epsilon:  0.1\n",
      "Epsilon:  0.2\n",
      "Epsilon:  0.3\n",
      "Epsilon:  0.0\n",
      "Epsilon:  0.1\n",
      "Epsilon:  0.2\n",
      "Epsilon:  0.3\n",
      "Epsilon:  0.0\n",
      "Epsilon:  0.1\n",
      "Epsilon:  0.2\n",
      "Epsilon:  0.3\n"
     ]
    },
    {
     "name": "stderr",
     "output_type": "stream",
     "text": [
      "/var/folders/4p/9b_m1n3130xfbjd06qfyyqgc0000gn/T/ipykernel_96459/1065342080.py:172: UserWarning: No artists with labels found to put in legend.  Note that artists whose label start with an underscore are ignored when legend() is called with no argument.\n",
      "  axs.legend(title=data_model_name.replace(\"/\",\"/\\n\"), loc=\"lower left\")\n"
     ]
    },
    {
     "data": {
      "image/png": "[encoded data removed]",
      "text/plain": [
       "<Figure size 850x240 with 4 Axes>"
      ]
     },
     "metadata": {},
     "output_type": "display_data"
    }
   ],
   "source": [
    "IMG_DIRECTORY = \"./Assets/feature_combination_sweeps\"\n",
    "if not os.path.exists(IMG_DIRECTORY):\n",
    "    os.makedirs(IMG_DIRECTORY)\n",
    "\n",
    "\n",
    "def save_plot(fig, name, formats=[\"pdf\",\"jpg\"], date=False) -> None:\n",
    "    current_date = datetime.datetime.now().strftime(\"%Y-%m-%d\")\n",
    "    for f in formats:        \n",
    "        path = \"{}\".format(name) + \"_{}\".format(current_date) + \".\" + f\n",
    "        if not date:\n",
    "            path = \"{}\".format(name) + \".\" + f\n",
    "        fig.savefig(            \n",
    "            os.path.join(IMG_DIRECTORY, path),\n",
    "            format=f,\n",
    "        )\n",
    "\n",
    "\n",
    "def set_size(width, fraction=1, subplots=(1, 1)):\n",
    "    if width == \"thesis\":\n",
    "        width_pt = 426.79135\n",
    "    elif width == \"beamer\":\n",
    "        width_pt = 307.28987\n",
    "    else:\n",
    "        width_pt = width\n",
    "\n",
    "    fig_width_pt = width_pt * fraction\n",
    "    inches_per_pt = 1 / 72.27\n",
    "\n",
    "    golden_ratio = (5**0.5 - 1) / 2\n",
    "\n",
    "    fig_width_in = fig_width_pt * inches_per_pt\n",
    "    fig_height_in = fig_width_in * (golden_ratio) * (subplots[0] / subplots[1])\n",
    "\n",
    "    return (fig_width_in, fig_height_in)\n",
    "\n",
    "\n",
    "# width = 2.5 * 458.63788\n",
    "\n",
    "\n",
    "plt.style.use(\"latex_ready.mplstyle\")\n",
    "\n",
    "multiplier = 1.25\n",
    "width = multiplier * 487.8225\n",
    "tuple_size = set_size(width, subplots=(1,2))\n",
    "tuple_size = (8.5,2.4)\n",
    "\n",
    "\n",
    "second_multiplier = 0.7\n",
    "\n",
    "\n",
    "fig, axes = plt.subplots(\n",
    "    nrows=1,\n",
    "    ncols=4,\n",
    "    sharex=True,\n",
    "    sharey=True,\n",
    "    figsize=( tuple_size[0], tuple_size[1]),\n",
    "    gridspec_kw={\"hspace\": 0,\"wspace\": 0},\n",
    ")\n",
    "\n",
    "\n",
    "# ICML adjustments\n",
    "fig.subplots_adjust(left=0.12)\n",
    "fig.subplots_adjust(bottom=0.08)\n",
    "fig.subplots_adjust(top=0.9)\n",
    "fig.subplots_adjust(right=0.99)\n",
    "# plt.subplots_adjust(bottom=0.20)\n",
    "\n",
    "# log the figure size\n",
    "print(\"Figure size: \", fig.get_size_inches())\n",
    "\n",
    "\n",
    "\n",
    "\n",
    "axes = axes.flatten()\n",
    "\n",
    "# Create a custom legend\n",
    "legend_elements = [Line2D([0], [0], color='blue', label='Line 1'),\n",
    "                   Line2D([0], [0], color='orange', label='Line 2')]\n",
    "custom_legend = []\n",
    "\n",
    "\n",
    "\n",
    "\n",
    "for dm_idx, data_model_name in enumerate(data_models):\n",
    "\n",
    "    axs = axes[dm_idx]\n",
    "\n",
    "\n",
    "    linestyles = [\"solid\", \"dashed\", \"dashdot\", \"dotted\"]\n",
    "\n",
    "\n",
    "    for idx, epsilon in enumerate(epsilons):\n",
    "\n",
    "        print(\"Epsilon: \", epsilon)\n",
    "\n",
    "\n",
    "        df_filtered = df.filter(pl.col(\"data_model_name\") == data_model_name, pl.col(\"epsilon\") == epsilon)\n",
    "        df_filtered = df_filtered.sort(by=\"alpha\")\n",
    "\n",
    "\n",
    "        adversarial_error = df_filtered[\"adversarial_generalization_errors\"]\n",
    "        generalization_error = df_filtered[\"generalization_error\"]\n",
    "        boundary_error = adversarial_error - generalization_error\n",
    "\n",
    "        adversarial_error_erm = df_filtered[\"adversarial_generalization_errors_erm\"]\n",
    "        generalization_error_erm = df_filtered[\"generalization_error_erm\"]\n",
    "        boundary_error_erm = adversarial_error_erm - generalization_error_erm\n",
    "\n",
    "        rho = df_filtered[\"ρ\"][0]\n",
    "        tau = df_filtered[\"tau\"][0]\n",
    "\n",
    "        adversarial_error_erm_std = df_filtered[\"adversarial_generalization_errors_std_erm\"]\n",
    "        generalization_error_erm_std = df_filtered[\"generalization_error_erm_std\"]\n",
    "        boundary_error_erm_std = adversarial_error_erm_std - generalization_error_erm_std\n",
    "\n",
    "        if dm_idx == 0:\n",
    "            custom_legend.append(Line2D([0],[0],color=\"C0\", linestyle=linestyles[idx], label=r\"$E_{{\\mathrm{{adv}}}}, \\varepsilon_t={}$\".format(epsilon)))\n",
    "            custom_legend.append(Line2D([0],[0],color=\"C1\", linestyle=linestyles[idx], label=r\"$E_{{\\mathrm{{gen}}}}, \\varepsilon_t={}$\".format(epsilon)))\n",
    "            custom_legend.append(Line2D([0],[0],color=\"C2\", linestyle=linestyles[idx], label=r\"$E_{{\\mathrm{{bound}}}}, \\varepsilon_t={}$\".format(epsilon)))\n",
    "            custom_legend.append(Line2D([0],[0],color=\"C3\", linestyle=linestyles[idx], label=r\"$E_{{\\mathrm{{CP}}}}, \\varepsilon_t={}$\".format(epsilon)))\n",
    "        \n",
    "\n",
    "\n",
    "        adversarial_lines = axs.plot(alphas, adversarial_error, linestyle=linestyles[idx],color=\"C0\")\n",
    "        axs.plot(alphas, generalization_error, linestyle=linestyles[idx],color=\"C1\")        \n",
    "        axs.plot(alphas, boundary_error,linestyle=linestyles[idx], color=\"C2\")\n",
    "        \n",
    "\n",
    "        def integrand(xi):\n",
    "            return erfc(-np.sqrt(rho)/tau * xi * (1/np.sqrt(2))) * np.exp(-xi**2 / 2) / np.sqrt(2*np.pi)\n",
    "        \n",
    "        psi_i = 0.5\n",
    "        if dm_idx > 1:\n",
    "            psi_i = 2\n",
    "\n",
    "        axs.errorbar(\n",
    "            alphas,\n",
    "            adversarial_error_erm,\n",
    "            yerr=adversarial_error_erm_std,\n",
    "            fmt=\".\",\n",
    "            markersize=1,\n",
    "            color=\"C0\"\n",
    "        )\n",
    "        axs.errorbar(\n",
    "            alphas,\n",
    "            generalization_error_erm,\n",
    "            yerr=generalization_error_erm_std,\n",
    "            fmt=\".\",\n",
    "            markersize=1,\n",
    "            color=\"C1\"\n",
    "        )\n",
    "        axs.errorbar(\n",
    "            alphas,\n",
    "            boundary_error_erm,\n",
    "            yerr=boundary_error_erm_std,\n",
    "            fmt=\".\",\n",
    "            markersize=1,\n",
    "            color=\"C2\"\n",
    "        )\n",
    "\n",
    "\n",
    "    axs.set_xscale(\"log\")\n",
    "    axs.set_yscale(\"log\")\n",
    "\n",
    "\n",
    "    if dm_idx  == 0:\n",
    "        axs.set_ylabel(r\"$E$\", labelpad=2.0)\n",
    "\n",
    "\n",
    "    axs.set_xlabel(r\"$\\alpha$\", labelpad=2.0)\n",
    "    axs.grid(which=\"both\", axis=\"both\", alpha=0.5)\n",
    "    axs.legend(title=data_model_name.replace(\"/\",\"/\\n\"), loc=\"lower left\")\n",
    "\n",
    "    # Set the major ticks to face inwards\n",
    "    axs.tick_params(axis='both', which='major', direction='in')\n",
    "\n",
    "    # Set the minor ticks to face inwards\n",
    "    axs.tick_params(axis='both', which='minor', direction='in')\n",
    "\n",
    "    axs.set_ylim([8e-3, 4.9e-1])\n",
    "\n",
    "\n",
    "error_legend = []\n",
    "\n",
    "error_legend.append(Line2D([0],[0],label=r\"$E_{\\mathrm{adv}}$\",color=\"C0\"))\n",
    "error_legend.append(Line2D([0],[0],label=r\"$E_{\\mathrm{gen}}$\",color=\"C1\"))\n",
    "error_legend.append(Line2D([0],[0],label=r\"$E_{\\mathrm{bound}}$\",color=\"C2\"))\n",
    "\n",
    "epsilon_legend = []\n",
    "\n",
    "for idx, epsilon in enumerate(epsilons):\n",
    "    epsilon_legend.append(Line2D([0],[0],color=\"black\", linestyle=linestyles[idx], label=r\"$\\varepsilon_t={}$\".format(epsilons[idx]))) \n",
    "\n",
    "custom_legend = []\n",
    "\n",
    "# mix the two legends\n",
    "for idx in range(len(error_legend)):\n",
    "    custom_legend.append(error_legend[idx])\n",
    "    custom_legend.append(epsilon_legend[idx])\n",
    "\n",
    "# Place the legend at the bottom of the figure\n",
    "fig.legend(handles=custom_legend, loc='upper center', ncol=4)\n",
    "\n",
    "save = True\n",
    "if save:\n",
    "    save_plot(\n",
    "        fig,\n",
    "        \"feature_combinations_alpha_sweep\",\n",
    "    )\n",
    "\n",
    "plt.show()"
   ]
  },
  {
   "cell_type": "code",
   "execution_count": null,
   "metadata": {},
   "outputs": [],
   "source": []
  }
 ],
 "metadata": {
  "kernelspec": {
   "display_name": ".venv",
   "language": "python",
   "name": "python3"
  },
  "language_info": {
   "codemirror_mode": {
    "name": "ipython",
    "version": 3
   },
   "file_extension": ".py",
   "mimetype": "text/x-python",
   "name": "python",
   "nbconvert_exporter": "python",
   "pygments_lexer": "ipython3",
   "version": "3.11.6"
  },
  "orig_nbformat": 4
 },
 "nbformat": 4,
 "nbformat_minor": 2
}

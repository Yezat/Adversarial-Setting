{
 "cells": [
  {
   "cell_type": "code",
   "execution_count": 6,
   "metadata": {},
   "outputs": [
    {
     "name": "stderr",
     "output_type": "stream",
     "text": [
      "No artists with labels found to put in legend.  Note that artists whose label start with an underscore are ignored when legend() is called with no argument.\n"
     ]
    },
    {
     "data": {
      "image/png": "[encoded data removed]",
      "text/plain": [
       "<Figure size 356.972x267.729 with 1 Axes>"
      ]
     },
     "metadata": {},
     "output_type": "display_data"
    }
   ],
   "source": [
    "import numpy as np\n",
    "import matplotlib.pyplot as plt\n",
    "import matplotlib as mpl\n",
    "import os\n",
    "\n",
    "\n",
    "IMG_DIRECTORY = \"./Assets/\"\n",
    "\n",
    "\n",
    "def save_plot(fig, name, formats=[\"pdf\",\"jpg\"], date=True):\n",
    "    for f in formats:\n",
    "        fig.savefig(\n",
    "            os.path.join(IMG_DIRECTORY, \"{}\".format(name) + \".\" + f),\n",
    "            format=f,\n",
    "        )\n",
    "\n",
    "\n",
    "def set_size(width, fraction=1, subplots=(1, 1)):\n",
    "    if width == \"thesis\":\n",
    "        width_pt = 426.79135\n",
    "    elif width == \"beamer\":\n",
    "        width_pt = 307.28987\n",
    "    else:\n",
    "        width_pt = width\n",
    "\n",
    "    fig_width_pt = width_pt * fraction\n",
    "    inches_per_pt = 1 / 72.27\n",
    "\n",
    "    golden_ratio = (5**0.5 - 1) / 2\n",
    "\n",
    "    fig_width_in = fig_width_pt * inches_per_pt\n",
    "    fig_height_in = fig_width_in * (golden_ratio) * (subplots[0] / subplots[1])\n",
    "\n",
    "    return (fig_width_in, fig_height_in)\n",
    "\n",
    "\n",
    "save = True\n",
    "width = 1.25 * 458.63788\n",
    "\n",
    "plt.style.use(\"./latex_ready.mplstyle\")\n",
    "\n",
    "tuple_size = set_size(width, fraction=0.50)\n",
    "\n",
    "multiplier = 0.9\n",
    "second_multiplier = 0.7\n",
    "\n",
    "fig, axs = plt.subplots(\n",
    "    nrows=1,\n",
    "    ncols=1,\n",
    "    sharex=True,\n",
    "    figsize=(multiplier * tuple_size[0], 0.75 * multiplier * tuple_size[0]),\n",
    "    gridspec_kw={\"hspace\": 0},\n",
    ")\n",
    "\n",
    "\n",
    "fig.subplots_adjust(left=0.16)\n",
    "fig.subplots_adjust(bottom=0.16)\n",
    "fig.subplots_adjust(top=0.97)\n",
    "fig.subplots_adjust(right=0.97)\n",
    "\n",
    "x = np.linspace(0.0, 1.0, 1000)\n",
    "y = np.exp(-3 * x)\n",
    "yerr = 0.1 * y\n",
    "\n",
    "axs.errorbar(\n",
    "    x,\n",
    "    y,\n",
    "    yerr=yerr,\n",
    "    marker=\".\",\n",
    "    markersize=0.5,\n",
    "    linewidth=0.5,\n",
    "    linestyle=\"--\",\n",
    ")\n",
    "\n",
    "axs.set_xscale(\"log\")\n",
    "axs.set_ylabel(r\"$E_{\\mathrm{estim}}$\", labelpad=2.0)\n",
    "axs.set_xlabel(r\"$\\alpha$\", labelpad=2.0)\n",
    "axs.grid(which=\"both\", axis=\"both\", alpha=0.5)\n",
    "axs.legend()\n",
    "\n",
    "if save:\n",
    "    save_plot(\n",
    "        fig,\n",
    "        \"alpha_sweep\",\n",
    "    )\n",
    "\n",
    "plt.show()\n",
    "\n",
    "# If one needs a bit more space one can put a multiplier in the size but not more than 1.7 I should say"
   ]
  },
  {
   "cell_type": "code",
   "execution_count": null,
   "metadata": {},
   "outputs": [],
   "source": []
  }
 ],
 "metadata": {
  "kernelspec": {
   "display_name": "pdm",
   "language": "python",
   "name": "python3"
  },
  "language_info": {
   "codemirror_mode": {
    "name": "ipython",
    "version": 3
   },
   "file_extension": ".py",
   "mimetype": "text/x-python",
   "name": "python",
   "nbconvert_exporter": "python",
   "pygments_lexer": "ipython3",
   "version": "3.11.5"
  }
 },
 "nbformat": 4,
 "nbformat_minor": 2
}

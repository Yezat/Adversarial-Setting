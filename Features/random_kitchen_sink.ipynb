{
 "cells": [
  {
   "cell_type": "code",
   "execution_count": 21,
   "metadata": {},
   "outputs": [
    {
     "name": "stdout",
     "output_type": "stream",
     "text": [
      "The autoreload extension is already loaded. To reload it, use:\n",
      "  %reload_ext autoreload\n"
     ]
    }
   ],
   "source": [
    "# Let's creat a random kitchen sink model\n",
    "\n",
    "# Instead I might use https://scikit-learn.org/stable/modules/generated/sklearn.kernel_approximation.RBFSampler.html\n",
    "\n",
    "# Import the necessary libraries\n",
    "import numpy as np\n",
    "\n",
    "def get_iid_gaussian(d, number_of_samples=1, dimension_adjusted_variance = False ):\n",
    "    \"\"\"\n",
    "    returns a (n,d) dimensional normal sample\n",
    "\n",
    "    d: dimension\n",
    "    number_of_samples: number of d dimensional samples to produce\n",
    "    dimension_adjusted_variance: divide variance by dimension\n",
    "    \"\"\"\n",
    "    variance_term = 1 if not dimension_adjusted_variance else d\n",
    "    return np.random.normal(0.,1./np.sqrt(variance_term),size=(number_of_samples,d))\n",
    "\n",
    "def sample_weights(d):\n",
    "    \"\"\"\n",
    "    returns a sample weight of dimension (d,)\n",
    "    Weights are iid gaussians with mean 0 and variance 1\n",
    "\n",
    "    d: dimension\n",
    "    \"\"\"\n",
    "    return np.reshape(get_iid_gaussian(d), (d,))\n",
    "\n",
    "%load_ext autoreload\n",
    "%autoreload 2"
   ]
  },
  {
   "cell_type": "code",
   "execution_count": 22,
   "metadata": {},
   "outputs": [
    {
     "name": "stdout",
     "output_type": "stream",
     "text": [
      "0.4998483787508702 0.20535118875055666 0.6128822611695713\n"
     ]
    }
   ],
   "source": [
    "# Load the sigmoid\n",
    "def sigmoid(x):\n",
    "    return 1 / (1 + np.exp(-x))\n",
    "\n",
    "# Sample the mean of the sigmoid from a normal distributino\n",
    "def sample_k0(n):\n",
    "    return np.mean(sigmoid(np.random.normal(0, 1, n)))\n",
    "\n",
    "def sample_k1(n):\n",
    "    z = np.random.normal(0, 1, n)\n",
    "    return np.mean(sigmoid(z) * z)\n",
    "\n",
    "def sample_k2(n, k0, k1):\n",
    "    return np.sqrt( np.mean(sigmoid(np.random.normal(0,1,n)**2)) - k0**2 - k1**2 )\n",
    "\n",
    "n = 1000000\n",
    "\n",
    "k0 = sample_k0(n)\n",
    "k1 = sample_k1(n)\n",
    "k2 = sample_k2(n, k0, k1)\n",
    "\n",
    "print(k0, k1, k2)"
   ]
  },
  {
   "cell_type": "code",
   "execution_count": 23,
   "metadata": {},
   "outputs": [
    {
     "name": "stdout",
     "output_type": "stream",
     "text": [
      "(800, 1000)\n"
     ]
    }
   ],
   "source": [
    "# Let's sample the random matrix F\n",
    "p = 1000\n",
    "d = 800\n",
    "\n",
    "# F*F^T needs to be of dimension dxd\n",
    "# Hence, F needs to be of dimension dxp\n",
    "F = np.random.normal(0, 1, (d, p))\n",
    "\n",
    "print(F.shape)"
   ]
  },
  {
   "cell_type": "code",
   "execution_count": 26,
   "metadata": {},
   "outputs": [
    {
     "name": "stdout",
     "output_type": "stream",
     "text": [
      "(1000, 1000) (1000, 800) (800, 800)\n"
     ]
    }
   ],
   "source": [
    "# Let's sample teacher weights\n",
    "\n",
    "# The teacher weights are of dimension p\n",
    "theta = sample_weights(p)\n",
    "\n",
    "Psi = np.eye(p)\n",
    "Phi = k1 * F.T\n",
    "Omega = k0**2 * np.ones(d) * np.ones(d).T + k1**2 * F @ F.T/d + k2**2 * np.eye(d)\n",
    "\n",
    "print(Psi.shape, Phi.shape, Omega.shape)"
   ]
  },
  {
   "cell_type": "code",
   "execution_count": null,
   "metadata": {},
   "outputs": [],
   "source": []
  }
 ],
 "metadata": {
  "kernelspec": {
   "display_name": "base",
   "language": "python",
   "name": "python3"
  },
  "language_info": {
   "codemirror_mode": {
    "name": "ipython",
    "version": 3
   },
   "file_extension": ".py",
   "mimetype": "text/x-python",
   "name": "python",
   "nbconvert_exporter": "python",
   "pygments_lexer": "ipython3",
   "version": "3.9.13"
  },
  "orig_nbformat": 4
 },
 "nbformat": 4,
 "nbformat_minor": 2
}

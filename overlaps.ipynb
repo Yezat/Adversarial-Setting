{
 "cells": [
  {
   "cell_type": "code",
   "execution_count": 17,
   "metadata": {},
   "outputs": [
    {
     "name": "stdout",
     "output_type": "stream",
     "text": [
      "The autoreload extension is already loaded. To reload it, use:\n",
      "  %reload_ext autoreload\n"
     ]
    }
   ],
   "source": [
    "\n",
    "from experiment_information import *\n",
    "from data import *\n",
    "from helpers import *\n",
    "from _version import __version__\n",
    "import seaborn as sns\n",
    "import matplotlib.pyplot as plt\n",
    "import pandas as pd\n",
    "import numpy as np\n",
    "import logging\n",
    "%load_ext autoreload\n",
    "%autoreload 2\n",
    "\n",
    "import matplotlib as mpl\n",
    "mpl.rcParams['lines.linewidth'] = 1\n",
    "mpl.rcParams['legend.fontsize'] = 13\n",
    "mpl.rcParams['axes.titlesize'] = 15\n",
    "mpl.rcParams['axes.labelsize'] = 13\n",
    "mpl.rcParams['xtick.labelsize'] = 10\n",
    "mpl.rcParams['ytick.labelsize'] = 10\n",
    "\n",
    "# Get a logger\n",
    "logger = logging.getLogger()"
   ]
  },
  {
   "cell_type": "code",
   "execution_count": 27,
   "metadata": {},
   "outputs": [],
   "source": [
    "from state_evolution import adversarial_generalization_error_logistic, adversarial_generalization_error_overlaps, adversarial_generalization_error_overlaps_test"
   ]
  },
  {
   "cell_type": "code",
   "execution_count": 19,
   "metadata": {},
   "outputs": [],
   "source": [
    "data_model = VanillaGaussianDataModel(1000,logger,source_pickle_path=\"\")"
   ]
  },
  {
   "cell_type": "code",
   "execution_count": 20,
   "metadata": {},
   "outputs": [],
   "source": [
    "# Let's load some ms and qs\n",
    "\n",
    "with DatabaseHandler(logger,\"experiments/experiments.db\") as dbHandler:\n",
    "    df_state_evolution = dbHandler.get_state_evolutions()"
   ]
  },
  {
   "cell_type": "code",
   "execution_count": 21,
   "metadata": {},
   "outputs": [],
   "source": [
    "ms = df_state_evolution[\"m\"]\n",
    "qs = df_state_evolution[\"q\"]"
   ]
  },
  {
   "cell_type": "code",
   "execution_count": 219,
   "metadata": {},
   "outputs": [
    {
     "name": "stdout",
     "output_type": "stream",
     "text": [
      "0.5480542559636891 0.5480542559675968 0.5480542559675969\n",
      "0.5370315396530518 0.5370315396571691 0.5370315396571691\n",
      "0.5480542559636891 0.5480542559675968 0.5480542559675969\n",
      "0.5370315396530518 0.5370315396571691 0.5370315396571691\n",
      "0.548361744558192 0.5483617445620939 0.5483617445620939\n",
      "0.5370710014947846 0.5370710014989006 0.5370710014989006\n",
      "0.39351746466966747 0.3935174646383093 0.3935174646383093\n",
      "0.42566947554123213 0.42566947555031254 0.42566947555031265\n",
      "0.42858836601062267 0.4285883660194063 0.42858836601940625\n",
      "0.40515749669271245 0.40515749670469187 0.4051574967046919\n",
      "0.38368947377385343 0.38368947378728685 0.3836894737872868\n",
      "0.4002356214725854 0.4002356214855553 0.40023562148555525\n",
      "0.40359020110723026 0.4035902011195104 0.4035902011195105\n",
      "0.39021396144351883 0.390213961444217 0.39021396144421716\n",
      "0.3907293484616198 0.3907293484769721 0.39072934847697205\n",
      "0.38297395927623884 0.3829739592765435 0.38297395927654343\n",
      "0.39365767106795896 0.3936576710405707 0.3936576710405708\n",
      "0.38588096465475147 0.3858809646706167 0.38588096467061694\n",
      "Mean squared error of standard and new\n",
      "1.7336855626133427e-22\n",
      "2.60983375606402e-22\n",
      "Mean squared error of standard and test\n",
      "1.7336874295139622e-22\n",
      "2.6098261687795345e-22\n"
     ]
    }
   ],
   "source": [
    "tau = 0\n",
    "rho = 1\n",
    "n = 1000\n",
    "epsilon = 0.5\n",
    "\n",
    "errors = []\n",
    "errors_test = []\n",
    "\n",
    "for m, q in zip(ms, qs):\n",
    "\n",
    "    standard = adversarial_generalization_error_logistic(m,q,rho,tau,epsilon*np.sqrt(q))\n",
    "\n",
    "    overlaps = OverlapSet()\n",
    "    overlaps.m = m\n",
    "    overlaps.q = q\n",
    "    overlaps.N = q\n",
    "    overlaps.A = q\n",
    "\n",
    "    task = Task(None,None,None,None,None,epsilon,None,tau,None,None,None,None,None)\n",
    "\n",
    "    data_model.rho = rho\n",
    "\n",
    "    new = adversarial_generalization_error_overlaps(overlaps, task, data_model)    \n",
    "\n",
    "    test = adversarial_generalization_error_overlaps_test(overlaps, task, data_model)\n",
    "\n",
    "    print(standard, new, test)\n",
    "\n",
    "    squared_difference = (standard - new)**2\n",
    "    # print(squared_difference)\n",
    "    errors.append(squared_difference)\n",
    "\n",
    "    squared_difference_test = (standard - test)**2\n",
    "    # print(squared_difference_test)\n",
    "    errors_test.append(squared_difference_test)\n",
    "\n",
    "# print the mean squared error and the standard deviation\n",
    "print(\"Mean squared error of standard and new\")\n",
    "print(np.mean(errors))\n",
    "print(np.std(errors))\n",
    "\n",
    "print(\"Mean squared error of standard and test\")\n",
    "print(np.mean(errors_test))\n",
    "print(np.std(errors_test))\n",
    "\n"
   ]
  },
  {
   "cell_type": "code",
   "execution_count": 172,
   "metadata": {},
   "outputs": [],
   "source": [
    "from scipy.special import erfc\n",
    "from scipy.integrate import quad\n",
    "def exp_erf_integral(a,b):\n",
    "    def integrand(x):\n",
    "        return np.exp(-x**2)*erfc(a*x)\n",
    "    return quad(integrand,0,b)[0]"
   ]
  },
  {
   "cell_type": "code",
   "execution_count": 173,
   "metadata": {},
   "outputs": [],
   "source": [
    "from scipy.special import owens_t\n",
    "from scipy.special import erf\n",
    "def solution(a,b):\n",
    "    r = -4*np.pi*np.sqrt(a**2)*owens_t(np.sqrt(2)*np.sqrt(a**2)*b,1/np.sqrt(a**2))\n",
    "    r += np.pi*a*erf(b)*erfc(a*b)\n",
    "    r += 2*a*np.arctan(1/a)\n",
    "    r /= 2*np.sqrt(np.pi)*a\n",
    "    return r"
   ]
  },
  {
   "cell_type": "code",
   "execution_count": 174,
   "metadata": {},
   "outputs": [],
   "source": [
    "epsilons = np.linspace(0,1,100)\n",
    "activations = -ms/np.sqrt(qs) / (np.sqrt(2 * (1- ms**2/qs)))\n",
    "\n",
    "for eps in epsilons:\n",
    "    for act in activations:\n",
    "        i = exp_erf_integral(act,eps)\n",
    "        s = solution(act,eps)\n",
    "        if np.abs(i-s) > 1e-15:\n",
    "            print(\"Error in integral\")\n",
    "            print(i,s)\n",
    "            print(act,eps)"
   ]
  },
  {
   "cell_type": "code",
   "execution_count": 175,
   "metadata": {},
   "outputs": [],
   "source": [
    "def custom_owen(x,a):\n",
    "    def integrand(t):\n",
    "        return np.exp( -x**2*(1+t**2)*0.5 )/(1+t**2)\n",
    "    return quad(integrand,0,a)[0]/(2*np.pi)"
   ]
  },
  {
   "cell_type": "code",
   "execution_count": 176,
   "metadata": {},
   "outputs": [],
   "source": [
    "for eps in epsilons:\n",
    "    for act in activations:\n",
    "        i = custom_owen(act,eps)\n",
    "        s = owens_t(act,eps)\n",
    "        if np.abs(i-s) > 1e-15:\n",
    "            print(\"Error in integral\")\n",
    "            print(i,s)\n",
    "            print(act,eps)"
   ]
  },
  {
   "cell_type": "code",
   "execution_count": 177,
   "metadata": {},
   "outputs": [
    {
     "data": {
      "text/plain": [
       "0.16666666666666666"
      ]
     },
     "execution_count": 177,
     "metadata": {},
     "output_type": "execute_result"
    }
   ],
   "source": [
    "quad(lambda x: x**2/2,0,1)[0]"
   ]
  },
  {
   "cell_type": "code",
   "execution_count": 178,
   "metadata": {},
   "outputs": [
    {
     "data": {
      "text/plain": [
       "0.16666666666666663"
      ]
     },
     "execution_count": 178,
     "metadata": {},
     "output_type": "execute_result"
    }
   ],
   "source": [
    "quad(lambda x: x**2*np.sqrt(2),0,1/np.sqrt(2))[0]"
   ]
  },
  {
   "cell_type": "code",
   "execution_count": 204,
   "metadata": {},
   "outputs": [],
   "source": [
    "from helpers import gaussian\n",
    "def adv_term_integral(m,q,epsilon_term, rho):\n",
    "\n",
    "\n",
    "    def integrand(xi):\n",
    "        \n",
    "        z_0 = erfc(-m*xi / np.sqrt( 2 * ( rho*q - m**2 ) )  )\n",
    "\n",
    "        return z_0 * gaussian(xi)\n",
    "\n",
    "\n",
    "    I = quad(lambda xi: integrand(xi),0,epsilon_term,limit=500)[0]\n",
    "\n",
    "    # return exp_erf_integral(-m/np.sqrt(2*(rho*q-m**2)),epsilon_term/np.sqrt(2))/np.sqrt(2*np.pi)\n",
    "\n",
    "    return I\n",
    "\n",
    "def adv_term_solution(m,q,epsilon_term,rho):\n",
    "\n",
    "    # return exp_erf_integral(-m/np.sqrt((rho*q-m**2)),epsilon_term/np.sqrt(2))/np.sqrt(np.pi)\n",
    "\n",
    "    a = -m / np.sqrt((q* rho - m**2))\n",
    "    b = epsilon_term/np.sqrt(2)\n",
    "    \n",
    "    return solution(a,b)/np.sqrt(np.pi)"
   ]
  },
  {
   "cell_type": "code",
   "execution_count": 205,
   "metadata": {},
   "outputs": [],
   "source": [
    "for eps in epsilons:\n",
    "    for m,q in zip(ms,qs):\n",
    "        i = adv_term_integral(m,q,eps,rho)\n",
    "        s = adv_term_solution(m,q,eps,rho)\n",
    "        if np.abs(i-s) > 1e-15:\n",
    "            print(\"Error in integral\")\n",
    "            print(i,s)\n",
    "            print(m,q,eps)"
   ]
  },
  {
   "cell_type": "code",
   "execution_count": null,
   "metadata": {},
   "outputs": [],
   "source": []
  },
  {
   "cell_type": "code",
   "execution_count": null,
   "metadata": {},
   "outputs": [],
   "source": []
  },
  {
   "cell_type": "code",
   "execution_count": 224,
   "metadata": {},
   "outputs": [
    {
     "name": "stdout",
     "output_type": "stream",
     "text": [
      "0.3354700036587427 0.16452999634125726\n",
      "0.32241213119550816 0.17758786880449184\n",
      "0.3354700036587427 0.16452999634125726\n",
      "0.32241213119550816 0.17758786880449184\n",
      "0.3358327561412239 0.16416724385877607\n",
      "0.3224590771222636 0.17754092287773643\n",
      "0.11526710256302988 0.3847328974369701\n",
      "0.17701585999376337 0.32298414000623665\n",
      "0.18154146499135848 0.3184585350086415\n",
      "0.14156438256887668 0.35843561743112334\n",
      "0.0713085253956467 0.42869147460435325\n",
      "0.13141623971557945 0.3685837602844206\n",
      "0.13844110505474552 0.36155889494525456\n",
      "0.10551373624876552 0.3944862637512346\n",
      "0.10716218330137016 0.39283781669862977\n",
      "0.05307986465496306 0.4469201353450369\n",
      "0.11564552650814602 0.38435447349185403\n",
      "0.08800887116436455 0.4119911288356356\n"
     ]
    }
   ],
   "source": [
    "for m, q in zip(ms, qs):\n",
    "    angle = np.arccos(m/np.sqrt(q))/np.pi\n",
    "\n",
    "    alternative = np.arctan( m/np.sqrt(q - m**2) )/np.pi\n",
    "\n",
    "    print(angle, alternative)"
   ]
  },
  {
   "cell_type": "code",
   "execution_count": null,
   "metadata": {},
   "outputs": [],
   "source": []
  }
 ],
 "metadata": {
  "kernelspec": {
   "display_name": "pdm",
   "language": "python",
   "name": "python3"
  },
  "language_info": {
   "codemirror_mode": {
    "name": "ipython",
    "version": 3
   },
   "file_extension": ".py",
   "mimetype": "text/x-python",
   "name": "python",
   "nbconvert_exporter": "python",
   "pygments_lexer": "ipython3",
   "version": "3.1.0"
  }
 },
 "nbformat": 4,
 "nbformat_minor": 2
}
